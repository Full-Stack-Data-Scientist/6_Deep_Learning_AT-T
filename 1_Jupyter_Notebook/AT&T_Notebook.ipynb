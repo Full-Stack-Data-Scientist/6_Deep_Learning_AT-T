{
 "cells": [
  {
   "attachments": {},
   "cell_type": "markdown",
   "metadata": {},
   "source": [
    "__`NOTEBOOK START`__"
   ]
  },
  {
   "attachments": {},
   "cell_type": "markdown",
   "metadata": {},
   "source": [
    "Import our dependencies"
   ]
  },
  {
   "cell_type": "code",
   "execution_count": 9,
   "metadata": {},
   "outputs": [],
   "source": [
    "import pandas as pd\n",
    "\n",
    "import matplotlib.pyplot as plt\n",
    "\n",
    "import numpy as np\n",
    "\n",
    "import plotly.express as px\n",
    "import plotly.graph_objects as go\n",
    "\n",
    "import tensorflow as tf\n",
    "\n",
    "import spacy\n",
    "from spacy.lang.en.stop_words import STOP_WORDS\n",
    "\n",
    "import en_core_web_lg\n",
    "\n",
    "from sklearn.metrics import confusion_matrix\n",
    "\n",
    "import seaborn as sns\n",
    "\n",
    "from keras.layers import Embedding, SimpleRNN, Dense, LSTM, GlobalMaxPool1D, GlobalAveragePooling1D\n"
   ]
  },
  {
   "cell_type": "markdown",
   "id": "e491dc49-b673-43fa-910d-fa280e812117",
   "metadata": {},
   "source": [
    "--------"
   ]
  },
  {
   "attachments": {},
   "cell_type": "markdown",
   "id": "656a6941-3a4f-4308-96b4-913b202e4706",
   "metadata": {},
   "source": [
    "# <center>__I - EXPLORATORY DATA ANALYSIS__</center>"
   ]
  },
  {
   "cell_type": "markdown",
   "id": "e491dc49-b673-43fa-910d-fa280e812117",
   "metadata": {},
   "source": [
    "--------"
   ]
  },
  {
   "attachments": {},
   "cell_type": "markdown",
   "id": "298f14c8-e86e-46a9-b179-88d21b216860",
   "metadata": {},
   "source": [
    "#### __SECTION PLAN__ 🎯\n",
    "\n",
    "1. DATA DISCOVERY\n",
    "2. DATA CLEANNING\n",
    "3. DATA VISUALIZATION"
   ]
  },
  {
   "attachments": {},
   "cell_type": "markdown",
   "metadata": {},
   "source": [
    "--------\n",
    "### __1. DATA DISCOVERY__\n",
    "--------"
   ]
  },
  {
   "cell_type": "code",
   "execution_count": 10,
   "metadata": {},
   "outputs": [],
   "source": [
    "df = pd.read_csv('spam.csv', encoding=\"ISO-8859-1\")"
   ]
  },
  {
   "cell_type": "code",
   "execution_count": 11,
   "metadata": {},
   "outputs": [
    {
     "data": {
      "text/html": [
       "<div>\n",
       "<style scoped>\n",
       "    .dataframe tbody tr th:only-of-type {\n",
       "        vertical-align: middle;\n",
       "    }\n",
       "\n",
       "    .dataframe tbody tr th {\n",
       "        vertical-align: top;\n",
       "    }\n",
       "\n",
       "    .dataframe thead th {\n",
       "        text-align: right;\n",
       "    }\n",
       "</style>\n",
       "<table border=\"1\" class=\"dataframe\">\n",
       "  <thead>\n",
       "    <tr style=\"text-align: right;\">\n",
       "      <th></th>\n",
       "      <th>v1</th>\n",
       "      <th>v2</th>\n",
       "      <th>Unnamed: 2</th>\n",
       "      <th>Unnamed: 3</th>\n",
       "      <th>Unnamed: 4</th>\n",
       "    </tr>\n",
       "  </thead>\n",
       "  <tbody>\n",
       "    <tr>\n",
       "      <th>0</th>\n",
       "      <td>ham</td>\n",
       "      <td>Go until jurong point, crazy.. Available only ...</td>\n",
       "      <td>NaN</td>\n",
       "      <td>NaN</td>\n",
       "      <td>NaN</td>\n",
       "    </tr>\n",
       "    <tr>\n",
       "      <th>1</th>\n",
       "      <td>ham</td>\n",
       "      <td>Ok lar... Joking wif u oni...</td>\n",
       "      <td>NaN</td>\n",
       "      <td>NaN</td>\n",
       "      <td>NaN</td>\n",
       "    </tr>\n",
       "    <tr>\n",
       "      <th>2</th>\n",
       "      <td>spam</td>\n",
       "      <td>Free entry in 2 a wkly comp to win FA Cup fina...</td>\n",
       "      <td>NaN</td>\n",
       "      <td>NaN</td>\n",
       "      <td>NaN</td>\n",
       "    </tr>\n",
       "    <tr>\n",
       "      <th>3</th>\n",
       "      <td>ham</td>\n",
       "      <td>U dun say so early hor... U c already then say...</td>\n",
       "      <td>NaN</td>\n",
       "      <td>NaN</td>\n",
       "      <td>NaN</td>\n",
       "    </tr>\n",
       "    <tr>\n",
       "      <th>4</th>\n",
       "      <td>ham</td>\n",
       "      <td>Nah I don't think he goes to usf, he lives aro...</td>\n",
       "      <td>NaN</td>\n",
       "      <td>NaN</td>\n",
       "      <td>NaN</td>\n",
       "    </tr>\n",
       "    <tr>\n",
       "      <th>5</th>\n",
       "      <td>spam</td>\n",
       "      <td>FreeMsg Hey there darling it's been 3 week's n...</td>\n",
       "      <td>NaN</td>\n",
       "      <td>NaN</td>\n",
       "      <td>NaN</td>\n",
       "    </tr>\n",
       "    <tr>\n",
       "      <th>6</th>\n",
       "      <td>ham</td>\n",
       "      <td>Even my brother is not like to speak with me. ...</td>\n",
       "      <td>NaN</td>\n",
       "      <td>NaN</td>\n",
       "      <td>NaN</td>\n",
       "    </tr>\n",
       "    <tr>\n",
       "      <th>7</th>\n",
       "      <td>ham</td>\n",
       "      <td>As per your request 'Melle Melle (Oru Minnamin...</td>\n",
       "      <td>NaN</td>\n",
       "      <td>NaN</td>\n",
       "      <td>NaN</td>\n",
       "    </tr>\n",
       "    <tr>\n",
       "      <th>8</th>\n",
       "      <td>spam</td>\n",
       "      <td>WINNER!! As a valued network customer you have...</td>\n",
       "      <td>NaN</td>\n",
       "      <td>NaN</td>\n",
       "      <td>NaN</td>\n",
       "    </tr>\n",
       "    <tr>\n",
       "      <th>9</th>\n",
       "      <td>spam</td>\n",
       "      <td>Had your mobile 11 months or more? U R entitle...</td>\n",
       "      <td>NaN</td>\n",
       "      <td>NaN</td>\n",
       "      <td>NaN</td>\n",
       "    </tr>\n",
       "  </tbody>\n",
       "</table>\n",
       "</div>"
      ],
      "text/plain": [
       "     v1                                                 v2 Unnamed: 2  \\\n",
       "0   ham  Go until jurong point, crazy.. Available only ...        NaN   \n",
       "1   ham                      Ok lar... Joking wif u oni...        NaN   \n",
       "2  spam  Free entry in 2 a wkly comp to win FA Cup fina...        NaN   \n",
       "3   ham  U dun say so early hor... U c already then say...        NaN   \n",
       "4   ham  Nah I don't think he goes to usf, he lives aro...        NaN   \n",
       "5  spam  FreeMsg Hey there darling it's been 3 week's n...        NaN   \n",
       "6   ham  Even my brother is not like to speak with me. ...        NaN   \n",
       "7   ham  As per your request 'Melle Melle (Oru Minnamin...        NaN   \n",
       "8  spam  WINNER!! As a valued network customer you have...        NaN   \n",
       "9  spam  Had your mobile 11 months or more? U R entitle...        NaN   \n",
       "\n",
       "  Unnamed: 3 Unnamed: 4  \n",
       "0        NaN        NaN  \n",
       "1        NaN        NaN  \n",
       "2        NaN        NaN  \n",
       "3        NaN        NaN  \n",
       "4        NaN        NaN  \n",
       "5        NaN        NaN  \n",
       "6        NaN        NaN  \n",
       "7        NaN        NaN  \n",
       "8        NaN        NaN  \n",
       "9        NaN        NaN  "
      ]
     },
     "execution_count": 11,
     "metadata": {},
     "output_type": "execute_result"
    }
   ],
   "source": [
    "df.head(10)"
   ]
  },
  {
   "cell_type": "code",
   "execution_count": 12,
   "metadata": {},
   "outputs": [
    {
     "data": {
      "text/plain": [
       "v1            object\n",
       "v2            object\n",
       "Unnamed: 2    object\n",
       "Unnamed: 3    object\n",
       "Unnamed: 4    object\n",
       "dtype: object"
      ]
     },
     "execution_count": 12,
     "metadata": {},
     "output_type": "execute_result"
    }
   ],
   "source": [
    "df.dtypes"
   ]
  },
  {
   "cell_type": "code",
   "execution_count": 13,
   "metadata": {},
   "outputs": [
    {
     "data": {
      "text/html": [
       "<div>\n",
       "<style scoped>\n",
       "    .dataframe tbody tr th:only-of-type {\n",
       "        vertical-align: middle;\n",
       "    }\n",
       "\n",
       "    .dataframe tbody tr th {\n",
       "        vertical-align: top;\n",
       "    }\n",
       "\n",
       "    .dataframe thead th {\n",
       "        text-align: right;\n",
       "    }\n",
       "</style>\n",
       "<table border=\"1\" class=\"dataframe\">\n",
       "  <thead>\n",
       "    <tr style=\"text-align: right;\">\n",
       "      <th></th>\n",
       "      <th>Percentage of Missing Values</th>\n",
       "      <th>Number of Missing Values</th>\n",
       "    </tr>\n",
       "  </thead>\n",
       "  <tbody>\n",
       "    <tr>\n",
       "      <th>Unnamed: 4</th>\n",
       "      <td>99.89</td>\n",
       "      <td>5566</td>\n",
       "    </tr>\n",
       "    <tr>\n",
       "      <th>Unnamed: 3</th>\n",
       "      <td>99.78</td>\n",
       "      <td>5560</td>\n",
       "    </tr>\n",
       "    <tr>\n",
       "      <th>Unnamed: 2</th>\n",
       "      <td>99.10</td>\n",
       "      <td>5522</td>\n",
       "    </tr>\n",
       "    <tr>\n",
       "      <th>v1</th>\n",
       "      <td>0.00</td>\n",
       "      <td>0</td>\n",
       "    </tr>\n",
       "    <tr>\n",
       "      <th>v2</th>\n",
       "      <td>0.00</td>\n",
       "      <td>0</td>\n",
       "    </tr>\n",
       "  </tbody>\n",
       "</table>\n",
       "</div>"
      ],
      "text/plain": [
       "            Percentage of Missing Values  Number of Missing Values\n",
       "Unnamed: 4                         99.89                      5566\n",
       "Unnamed: 3                         99.78                      5560\n",
       "Unnamed: 2                         99.10                      5522\n",
       "v1                                  0.00                         0\n",
       "v2                                  0.00                         0"
      ]
     },
     "metadata": {},
     "output_type": "display_data"
    },
    {
     "name": "stdout",
     "output_type": "stream",
     "text": [
      "Percentage of missing values in our DF: 59.76%\n",
      "Total number of missing values: 16648\n",
      "Total number of elements: 27860\n",
      "Number of rows: 5572\n"
     ]
    }
   ],
   "source": [
    "def missing_values():\n",
    "    \n",
    "    missing = (pd.DataFrame(df.isnull().sum()/df.shape[0])*100).round(2)\n",
    "    missing.columns = ['Percentage of Missing Values']\n",
    "    missing['Number of Missing Values'] = pd.DataFrame(df.isnull().sum())\n",
    "    \n",
    "    return missing.sort_values(by='Percentage of Missing Values', ascending=False)\n",
    "\n",
    "display(missing_values())\n",
    "print(f'Percentage of missing values in our DF: {((df.isnull().sum().sum()/df.size)*100).round(2)}%')\n",
    "print(f'Total number of missing values: {df.isnull().sum().sum()}')\n",
    "print(f'Total number of elements: {df.size}')\n",
    "rows = df.shape[0]\n",
    "print(f'Number of rows: {rows}') "
   ]
  },
  {
   "attachments": {},
   "cell_type": "markdown",
   "metadata": {},
   "source": [
    "--------\n",
    "### __2. DATA CLEANNING__\n",
    "--------"
   ]
  },
  {
   "cell_type": "code",
   "execution_count": 14,
   "metadata": {},
   "outputs": [
    {
     "data": {
      "text/html": [
       "<div>\n",
       "<style scoped>\n",
       "    .dataframe tbody tr th:only-of-type {\n",
       "        vertical-align: middle;\n",
       "    }\n",
       "\n",
       "    .dataframe tbody tr th {\n",
       "        vertical-align: top;\n",
       "    }\n",
       "\n",
       "    .dataframe thead th {\n",
       "        text-align: right;\n",
       "    }\n",
       "</style>\n",
       "<table border=\"1\" class=\"dataframe\">\n",
       "  <thead>\n",
       "    <tr style=\"text-align: right;\">\n",
       "      <th></th>\n",
       "      <th>Target</th>\n",
       "      <th>Messages</th>\n",
       "    </tr>\n",
       "  </thead>\n",
       "  <tbody>\n",
       "    <tr>\n",
       "      <th>0</th>\n",
       "      <td>0</td>\n",
       "      <td>Go until jurong point, crazy.. Available only ...</td>\n",
       "    </tr>\n",
       "    <tr>\n",
       "      <th>1</th>\n",
       "      <td>0</td>\n",
       "      <td>Ok lar... Joking wif u oni...</td>\n",
       "    </tr>\n",
       "    <tr>\n",
       "      <th>2</th>\n",
       "      <td>1</td>\n",
       "      <td>Free entry in 2 a wkly comp to win FA Cup fina...</td>\n",
       "    </tr>\n",
       "    <tr>\n",
       "      <th>3</th>\n",
       "      <td>0</td>\n",
       "      <td>U dun say so early hor... U c already then say...</td>\n",
       "    </tr>\n",
       "    <tr>\n",
       "      <th>4</th>\n",
       "      <td>0</td>\n",
       "      <td>Nah I don't think he goes to usf, he lives aro...</td>\n",
       "    </tr>\n",
       "  </tbody>\n",
       "</table>\n",
       "</div>"
      ],
      "text/plain": [
       "   Target                                           Messages\n",
       "0       0  Go until jurong point, crazy.. Available only ...\n",
       "1       0                      Ok lar... Joking wif u oni...\n",
       "2       1  Free entry in 2 a wkly comp to win FA Cup fina...\n",
       "3       0  U dun say so early hor... U c already then say...\n",
       "4       0  Nah I don't think he goes to usf, he lives aro..."
      ]
     },
     "execution_count": 14,
     "metadata": {},
     "output_type": "execute_result"
    }
   ],
   "source": [
    "# Dropping columns with alomost no values\n",
    "df = df.drop(columns=['Unnamed: 2', 'Unnamed: 3', 'Unnamed: 4'], axis = 1)\n",
    "\n",
    "# Renaming the columns for clarity\n",
    "df = df.rename (columns= {'v1': 'Target', 'v2': 'Messages'})\n",
    "\n",
    "# Mapping the values in the Target column for futur model Ham Messages = 0; Spam Messages = 1\n",
    "df['Target'] = df['Target'].map({'ham': 0, 'spam': 1})\n",
    "\n",
    "df.head()"
   ]
  },
  {
   "cell_type": "code",
   "execution_count": 15,
   "metadata": {},
   "outputs": [
    {
     "data": {
      "text/plain": [
       "Target       int64\n",
       "Messages    object\n",
       "dtype: object"
      ]
     },
     "execution_count": 15,
     "metadata": {},
     "output_type": "execute_result"
    }
   ],
   "source": [
    "df.dtypes"
   ]
  },
  {
   "attachments": {},
   "cell_type": "markdown",
   "metadata": {},
   "source": [
    "--------\n",
    "### __3. DATA VISUALIZATION__\n",
    "--------"
   ]
  },
  {
   "cell_type": "code",
   "execution_count": 16,
   "metadata": {},
   "outputs": [
    {
     "data": {
      "text/plain": [
       "0    86.593683\n",
       "1    13.406317\n",
       "Name: Target, dtype: float64"
      ]
     },
     "metadata": {},
     "output_type": "display_data"
    },
    {
     "name": "stdout",
     "output_type": "stream",
     "text": [
      "The number of Ham Messages is 4825 and the number of Spam Messages is 747 \n"
     ]
    }
   ],
   "source": [
    "display(df['Target'].value_counts()/len(df)*100)\n",
    "\n",
    "number_of_ham = df[df.Target==0].value_counts().sum()\n",
    "number_of_spam = df[df.Target==1].value_counts().sum()\n",
    "print (f'The number of Ham Messages is {number_of_ham} and the number of Spam Messages is {number_of_spam} ')"
   ]
  },
  {
   "attachments": {},
   "cell_type": "markdown",
   "metadata": {},
   "source": [
    "__OBSERVATIONS:__<br>\n",
    "* Our dataset is very unbalanced.\n",
    "\n",
    "* We only have 13,4% of messages labeled as Spams\n",
    "\n",
    "* A large majority of messages are labeled as Ham with 86,6%. "
   ]
  },
  {
   "attachments": {},
   "cell_type": "markdown",
   "metadata": {},
   "source": [
    "Word distribution for our two class SPAM and HAM"
   ]
  },
  {
   "cell_type": "code",
   "execution_count": 18,
   "metadata": {},
   "outputs": [
    {
     "data": {
      "text/html": [
       "<div>\n",
       "<style scoped>\n",
       "    .dataframe tbody tr th:only-of-type {\n",
       "        vertical-align: middle;\n",
       "    }\n",
       "\n",
       "    .dataframe tbody tr th {\n",
       "        vertical-align: top;\n",
       "    }\n",
       "\n",
       "    .dataframe thead th {\n",
       "        text-align: right;\n",
       "    }\n",
       "</style>\n",
       "<table border=\"1\" class=\"dataframe\">\n",
       "  <thead>\n",
       "    <tr style=\"text-align: right;\">\n",
       "      <th></th>\n",
       "      <th>Target</th>\n",
       "      <th>Messages</th>\n",
       "      <th>Messages_Length</th>\n",
       "    </tr>\n",
       "  </thead>\n",
       "  <tbody>\n",
       "    <tr>\n",
       "      <th>0</th>\n",
       "      <td>0</td>\n",
       "      <td>Go until jurong point, crazy.. Available only ...</td>\n",
       "      <td>111</td>\n",
       "    </tr>\n",
       "    <tr>\n",
       "      <th>1</th>\n",
       "      <td>0</td>\n",
       "      <td>Ok lar... Joking wif u oni...</td>\n",
       "      <td>29</td>\n",
       "    </tr>\n",
       "    <tr>\n",
       "      <th>2</th>\n",
       "      <td>1</td>\n",
       "      <td>Free entry in 2 a wkly comp to win FA Cup fina...</td>\n",
       "      <td>155</td>\n",
       "    </tr>\n",
       "    <tr>\n",
       "      <th>3</th>\n",
       "      <td>0</td>\n",
       "      <td>U dun say so early hor... U c already then say...</td>\n",
       "      <td>49</td>\n",
       "    </tr>\n",
       "    <tr>\n",
       "      <th>4</th>\n",
       "      <td>0</td>\n",
       "      <td>Nah I don't think he goes to usf, he lives aro...</td>\n",
       "      <td>61</td>\n",
       "    </tr>\n",
       "  </tbody>\n",
       "</table>\n",
       "</div>"
      ],
      "text/plain": [
       "   Target                                           Messages  Messages_Length\n",
       "0       0  Go until jurong point, crazy.. Available only ...              111\n",
       "1       0                      Ok lar... Joking wif u oni...               29\n",
       "2       1  Free entry in 2 a wkly comp to win FA Cup fina...              155\n",
       "3       0  U dun say so early hor... U c already then say...               49\n",
       "4       0  Nah I don't think he goes to usf, he lives aro...               61"
      ]
     },
     "execution_count": 18,
     "metadata": {},
     "output_type": "execute_result"
    }
   ],
   "source": [
    "# An interesting information to get is the number of word in SPAM and HAM messages. \n",
    "df['Messages_Length'] = df['Messages'].apply(len)\n",
    "df.head()"
   ]
  },
  {
   "cell_type": "code",
   "execution_count": 20,
   "metadata": {},
   "outputs": [
    {
     "data": {
      "application/vnd.plotly.v1+json": {
       "config": {
        "plotlyServerURL": "https://plot.ly"
       },
       "data": [
        {
         "alignmentgroup": "True",
         "bingroup": "x",
         "hovertemplate": "Target=0<br>Messages_Length=%{x}<br>count=%{y}<extra></extra>",
         "legendgroup": "0",
         "marker": {
          "color": "#636efa",
          "pattern": {
           "shape": ""
          }
         },
         "name": "0",
         "offsetgroup": "0",
         "opacity": 0.8,
         "orientation": "v",
         "showlegend": true,
         "type": "histogram",
         "x": [
          111,
          29,
          49,
          61,
          77,
          160,
          109,
          196,
          35,
          26,
          81,
          58,
          41,
          49,
          53,
          88,
          57,
          144,
          30,
          134,
          75,
          64,
          130,
          189,
          29,
          84,
          123,
          47,
          28,
          27,
          155,
          82,
          142,
          19,
          72,
          32,
          45,
          31,
          67,
          148,
          58,
          124,
          80,
          291,
          76,
          34,
          22,
          40,
          108,
          48,
          25,
          56,
          110,
          124,
          34,
          46,
          29,
          45,
          42,
          20,
          43,
          73,
          50,
          42,
          76,
          22,
          32,
          32,
          36,
          14,
          55,
          121,
          144,
          42,
          41,
          62,
          195,
          141,
          107,
          33,
          51,
          184,
          57,
          81,
          76,
          160,
          183,
          44,
          95,
          43,
          82,
          115,
          30,
          40,
          31,
          96,
          143,
          156,
          72,
          86,
          53,
          52,
          40,
          20,
          244,
          22,
          107,
          28,
          9,
          39,
          25,
          38,
          34,
          46,
          86,
          33,
          27,
          158,
          42,
          25,
          48,
          84,
          33,
          30,
          45,
          59,
          25,
          160,
          384,
          28,
          27,
          157,
          115,
          64,
          85,
          51,
          74,
          67,
          59,
          50,
          94,
          33,
          105,
          61,
          65,
          26,
          146,
          66,
          126,
          159,
          23,
          65,
          24,
          26,
          152,
          34,
          55,
          88,
          185,
          37,
          111,
          92,
          28,
          28,
          64,
          131,
          40,
          28,
          84,
          174,
          24,
          25,
          64,
          156,
          28,
          86,
          39,
          73,
          26,
          23,
          24,
          31,
          58,
          48,
          41,
          32,
          159,
          25,
          161,
          22,
          119,
          69,
          30,
          165,
          34,
          109,
          37,
          33,
          48,
          50,
          65,
          38,
          145,
          51,
          45,
          83,
          155,
          37,
          78,
          30,
          31,
          146,
          44,
          179,
          27,
          179,
          38,
          97,
          43,
          36,
          74,
          3,
          85,
          51,
          26,
          35,
          47,
          47,
          53,
          147,
          37,
          31,
          8,
          38,
          30,
          47,
          56,
          22,
          19,
          29,
          7,
          121,
          58,
          4,
          148,
          160,
          152,
          37,
          55,
          21,
          22,
          50,
          67,
          153,
          51,
          67,
          88,
          157,
          91,
          24,
          57,
          26,
          71,
          55,
          156,
          119,
          142,
          41,
          26,
          119,
          46,
          23,
          51,
          62,
          107,
          157,
          30,
          32,
          31,
          79,
          32,
          86,
          22,
          76,
          232,
          45,
          57,
          26,
          22,
          41,
          28,
          151,
          29,
          34,
          52,
          33,
          85,
          31,
          78,
          50,
          63,
          148,
          129,
          45,
          202,
          168,
          85,
          38,
          15,
          31,
          88,
          160,
          50,
          26,
          31,
          129,
          34,
          54,
          162,
          23,
          53,
          131,
          36,
          143,
          300,
          59,
          42,
          41,
          22,
          31,
          30,
          47,
          25,
          80,
          22,
          115,
          56,
          102,
          118,
          221,
          204,
          114,
          39,
          36,
          48,
          77,
          60,
          168,
          51,
          22,
          152,
          75,
          30,
          95,
          24,
          35,
          29,
          66,
          48,
          24,
          248,
          25,
          27,
          37,
          69,
          150,
          24,
          80,
          25,
          73,
          89,
          58,
          36,
          76,
          47,
          104,
          38,
          69,
          22,
          66,
          94,
          70,
          73,
          42,
          17,
          13,
          45,
          57,
          105,
          47,
          117,
          158,
          79,
          142,
          62,
          71,
          29,
          29,
          148,
          83,
          37,
          44,
          45,
          50,
          298,
          125,
          51,
          28,
          34,
          46,
          81,
          28,
          90,
          18,
          54,
          55,
          45,
          40,
          107,
          50,
          120,
          32,
          34,
          32,
          16,
          67,
          55,
          43,
          23,
          149,
          21,
          23,
          40,
          117,
          62,
          166,
          24,
          136,
          99,
          45,
          23,
          25,
          26,
          168,
          117,
          46,
          26,
          28,
          32,
          57,
          42,
          36,
          50,
          33,
          15,
          177,
          160,
          63,
          84,
          84,
          57,
          169,
          76,
          47,
          130,
          23,
          149,
          32,
          22,
          101,
          281,
          54,
          120,
          138,
          135,
          66,
          40,
          40,
          70,
          160,
          26,
          32,
          51,
          146,
          103,
          45,
          142,
          92,
          26,
          134,
          37,
          22,
          22,
          33,
          109,
          36,
          140,
          51,
          46,
          63,
          95,
          69,
          110,
          55,
          27,
          34,
          24,
          147,
          24,
          29,
          87,
          38,
          104,
          59,
          38,
          38,
          22,
          25,
          87,
          19,
          66,
          156,
          22,
          107,
          65,
          149,
          137,
          25,
          60,
          103,
          37,
          58,
          87,
          58,
          123,
          67,
          66,
          102,
          35,
          8,
          62,
          58,
          20,
          100,
          51,
          36,
          53,
          88,
          133,
          36,
          37,
          127,
          92,
          80,
          35,
          66,
          119,
          65,
          26,
          28,
          45,
          157,
          36,
          94,
          140,
          22,
          57,
          43,
          61,
          56,
          54,
          37,
          25,
          21,
          36,
          153,
          46,
          34,
          80,
          69,
          24,
          108,
          46,
          30,
          22,
          87,
          30,
          143,
          169,
          42,
          18,
          109,
          76,
          73,
          92,
          36,
          54,
          78,
          30,
          40,
          29,
          22,
          77,
          109,
          75,
          76,
          30,
          49,
          269,
          195,
          125,
          48,
          39,
          121,
          162,
          29,
          38,
          25,
          40,
          226,
          70,
          140,
          47,
          63,
          17,
          41,
          80,
          137,
          103,
          29,
          51,
          25,
          149,
          38,
          62,
          181,
          34,
          47,
          40,
          110,
          101,
          42,
          27,
          31,
          82,
          23,
          59,
          133,
          33,
          95,
          135,
          151,
          75,
          103,
          22,
          51,
          137,
          58,
          89,
          81,
          57,
          26,
          32,
          145,
          122,
          143,
          23,
          136,
          94,
          8,
          65,
          71,
          117,
          28,
          150,
          31,
          72,
          70,
          94,
          48,
          98,
          31,
          43,
          71,
          25,
          22,
          48,
          33,
          44,
          47,
          26,
          112,
          19,
          48,
          107,
          38,
          27,
          129,
          131,
          23,
          25,
          42,
          27,
          22,
          98,
          89,
          130,
          215,
          26,
          66,
          372,
          82,
          73,
          76,
          24,
          231,
          87,
          72,
          105,
          54,
          58,
          54,
          118,
          88,
          29,
          136,
          23,
          39,
          35,
          24,
          95,
          73,
          45,
          159,
          92,
          102,
          31,
          77,
          139,
          44,
          276,
          78,
          27,
          79,
          24,
          52,
          68,
          24,
          44,
          24,
          55,
          62,
          104,
          87,
          150,
          49,
          154,
          56,
          126,
          43,
          77,
          49,
          84,
          49,
          79,
          31,
          146,
          23,
          160,
          62,
          39,
          67,
          73,
          148,
          88,
          37,
          23,
          56,
          53,
          73,
          80,
          44,
          92,
          35,
          23,
          106,
          103,
          34,
          77,
          26,
          47,
          24,
          133,
          126,
          78,
          116,
          221,
          59,
          143,
          24,
          38,
          42,
          24,
          159,
          47,
          122,
          126,
          26,
          114,
          7,
          34,
          92,
          90,
          22,
          85,
          63,
          220,
          41,
          60,
          88,
          31,
          37,
          28,
          24,
          118,
          22,
          210,
          50,
          49,
          87,
          61,
          54,
          28,
          49,
          53,
          145,
          162,
          53,
          12,
          142,
          73,
          129,
          33,
          47,
          72,
          148,
          107,
          41,
          23,
          104,
          45,
          26,
          37,
          132,
          63,
          108,
          93,
          43,
          46,
          56,
          37,
          124,
          38,
          53,
          31,
          224,
          24,
          24,
          52,
          48,
          28,
          43,
          49,
          26,
          58,
          17,
          26,
          127,
          103,
          157,
          34,
          128,
          143,
          51,
          60,
          30,
          41,
          103,
          19,
          114,
          78,
          41,
          46,
          136,
          46,
          157,
          24,
          17,
          20,
          84,
          63,
          155,
          122,
          50,
          25,
          44,
          65,
          21,
          47,
          135,
          39,
          83,
          44,
          28,
          24,
          67,
          67,
          33,
          24,
          119,
          910,
          158,
          35,
          24,
          53,
          72,
          19,
          188,
          71,
          23,
          160,
          73,
          106,
          80,
          105,
          43,
          68,
          32,
          159,
          140,
          101,
          31,
          23,
          58,
          37,
          61,
          60,
          54,
          69,
          72,
          40,
          36,
          35,
          34,
          79,
          114,
          64,
          25,
          22,
          35,
          156,
          58,
          31,
          24,
          17,
          152,
          41,
          80,
          85,
          115,
          25,
          45,
          70,
          22,
          43,
          22,
          22,
          72,
          91,
          70,
          140,
          31,
          52,
          40,
          23,
          145,
          54,
          43,
          30,
          39,
          71,
          146,
          73,
          23,
          26,
          59,
          150,
          167,
          26,
          66,
          35,
          26,
          26,
          49,
          38,
          36,
          18,
          48,
          68,
          73,
          49,
          13,
          63,
          133,
          13,
          74,
          48,
          138,
          164,
          40,
          20,
          61,
          61,
          130,
          37,
          31,
          27,
          41,
          49,
          52,
          124,
          63,
          85,
          70,
          55,
          119,
          22,
          43,
          46,
          75,
          43,
          31,
          76,
          51,
          27,
          34,
          129,
          136,
          24,
          33,
          63,
          96,
          53,
          59,
          52,
          45,
          34,
          53,
          111,
          60,
          152,
          55,
          84,
          87,
          84,
          26,
          58,
          46,
          43,
          24,
          97,
          70,
          179,
          54,
          26,
          156,
          47,
          48,
          40,
          81,
          116,
          5,
          81,
          20,
          13,
          37,
          66,
          69,
          55,
          45,
          160,
          25,
          28,
          40,
          156,
          138,
          24,
          70,
          62,
          86,
          174,
          48,
          48,
          25,
          54,
          38,
          46,
          64,
          133,
          36,
          132,
          51,
          48,
          62,
          48,
          39,
          103,
          83,
          84,
          39,
          122,
          154,
          36,
          5,
          30,
          57,
          54,
          34,
          85,
          139,
          35,
          31,
          48,
          94,
          27,
          28,
          41,
          42,
          150,
          162,
          82,
          45,
          56,
          41,
          23,
          112,
          38,
          160,
          32,
          47,
          82,
          25,
          51,
          22,
          30,
          121,
          53,
          84,
          24,
          81,
          152,
          131,
          327,
          49,
          65,
          29,
          207,
          114,
          49,
          108,
          36,
          32,
          50,
          80,
          141,
          23,
          40,
          25,
          22,
          155,
          72,
          203,
          278,
          115,
          27,
          139,
          46,
          115,
          155,
          35,
          82,
          7,
          36,
          73,
          24,
          49,
          48,
          155,
          93,
          99,
          155,
          48,
          42,
          24,
          30,
          44,
          24,
          34,
          144,
          179,
          52,
          82,
          39,
          80,
          35,
          82,
          41,
          27,
          32,
          33,
          41,
          5,
          126,
          153,
          141,
          124,
          38,
          63,
          47,
          22,
          115,
          71,
          34,
          72,
          134,
          26,
          38,
          25,
          27,
          159,
          107,
          13,
          25,
          65,
          33,
          23,
          53,
          104,
          149,
          144,
          51,
          114,
          131,
          174,
          42,
          153,
          37,
          61,
          74,
          93,
          141,
          85,
          78,
          33,
          90,
          147,
          33,
          32,
          5,
          149,
          22,
          132,
          154,
          31,
          51,
          18,
          172,
          76,
          78,
          112,
          58,
          158,
          60,
          154,
          34,
          26,
          31,
          26,
          64,
          179,
          56,
          148,
          90,
          110,
          458,
          36,
          28,
          33,
          51,
          45,
          37,
          39,
          96,
          15,
          29,
          32,
          152,
          29,
          36,
          54,
          29,
          47,
          172,
          32,
          22,
          91,
          53,
          24,
          121,
          36,
          212,
          25,
          59,
          155,
          37,
          79,
          24,
          50,
          75,
          41,
          8,
          36,
          31,
          73,
          127,
          14,
          97,
          73,
          92,
          63,
          58,
          46,
          26,
          143,
          29,
          31,
          156,
          37,
          63,
          33,
          104,
          58,
          62,
          184,
          611,
          61,
          62,
          64,
          47,
          92,
          22,
          338,
          86,
          159,
          30,
          105,
          148,
          30,
          52,
          152,
          43,
          35,
          47,
          25,
          127,
          25,
          143,
          128,
          24,
          43,
          99,
          152,
          37,
          32,
          3,
          28,
          55,
          28,
          121,
          29,
          115,
          39,
          154,
          148,
          44,
          156,
          25,
          41,
          83,
          45,
          73,
          158,
          47,
          159,
          165,
          37,
          41,
          136,
          24,
          35,
          25,
          31,
          36,
          132,
          156,
          30,
          118,
          82,
          147,
          75,
          22,
          90,
          61,
          28,
          42,
          75,
          27,
          14,
          129,
          73,
          88,
          27,
          75,
          11,
          23,
          25,
          81,
          51,
          40,
          156,
          124,
          18,
          6,
          126,
          46,
          30,
          35,
          32,
          23,
          42,
          99,
          96,
          74,
          72,
          76,
          60,
          5,
          31,
          77,
          33,
          25,
          126,
          71,
          75,
          68,
          144,
          59,
          60,
          49,
          66,
          24,
          58,
          107,
          53,
          73,
          149,
          144,
          63,
          159,
          39,
          67,
          131,
          24,
          136,
          34,
          27,
          55,
          27,
          39,
          36,
          23,
          51,
          34,
          34,
          74,
          146,
          32,
          160,
          86,
          32,
          166,
          22,
          26,
          92,
          37,
          46,
          62,
          39,
          50,
          35,
          21,
          107,
          38,
          205,
          158,
          67,
          121,
          26,
          68,
          123,
          61,
          33,
          156,
          41,
          50,
          41,
          153,
          22,
          53,
          62,
          159,
          34,
          151,
          26,
          27,
          52,
          100,
          164,
          39,
          32,
          158,
          120,
          42,
          46,
          44,
          123,
          24,
          29,
          34,
          29,
          47,
          47,
          115,
          37,
          64,
          83,
          124,
          24,
          89,
          67,
          44,
          33,
          28,
          37,
          76,
          150,
          45,
          84,
          24,
          119,
          332,
          80,
          24,
          34,
          65,
          27,
          24,
          53,
          28,
          22,
          23,
          191,
          75,
          23,
          29,
          37,
          40,
          93,
          107,
          52,
          71,
          54,
          51,
          98,
          89,
          50,
          163,
          135,
          32,
          41,
          58,
          50,
          790,
          34,
          35,
          100,
          46,
          183,
          71,
          30,
          34,
          75,
          55,
          33,
          97,
          33,
          64,
          23,
          32,
          128,
          45,
          62,
          85,
          32,
          89,
          63,
          28,
          41,
          110,
          53,
          31,
          27,
          79,
          22,
          40,
          59,
          54,
          84,
          15,
          106,
          30,
          108,
          92,
          87,
          16,
          51,
          50,
          63,
          34,
          160,
          29,
          41,
          68,
          91,
          2,
          66,
          135,
          30,
          35,
          35,
          25,
          23,
          32,
          76,
          45,
          106,
          55,
          124,
          46,
          120,
          72,
          57,
          54,
          49,
          51,
          29,
          37,
          67,
          41,
          92,
          30,
          68,
          46,
          87,
          95,
          23,
          34,
          59,
          158,
          73,
          76,
          65,
          58,
          14,
          27,
          143,
          53,
          52,
          31,
          39,
          83,
          34,
          22,
          89,
          61,
          150,
          123,
          24,
          32,
          22,
          49,
          108,
          119,
          34,
          38,
          26,
          32,
          31,
          117,
          45,
          55,
          38,
          80,
          54,
          62,
          52,
          81,
          36,
          431,
          62,
          375,
          160,
          52,
          138,
          42,
          63,
          22,
          38,
          50,
          83,
          84,
          39,
          76,
          53,
          94,
          38,
          38,
          75,
          62,
          59,
          23,
          37,
          45,
          51,
          24,
          43,
          123,
          43,
          36,
          46,
          35,
          59,
          32,
          50,
          27,
          40,
          37,
          84,
          125,
          45,
          32,
          52,
          39,
          32,
          52,
          40,
          96,
          31,
          276,
          51,
          26,
          36,
          99,
          44,
          23,
          63,
          60,
          41,
          133,
          27,
          42,
          40,
          17,
          81,
          38,
          48,
          35,
          13,
          363,
          40,
          47,
          154,
          31,
          11,
          44,
          88,
          47,
          64,
          24,
          95,
          134,
          23,
          32,
          175,
          38,
          35,
          147,
          51,
          107,
          38,
          60,
          37,
          157,
          185,
          28,
          159,
          79,
          40,
          113,
          30,
          42,
          41,
          113,
          382,
          87,
          49,
          27,
          28,
          26,
          49,
          39,
          38,
          31,
          162,
          25,
          154,
          22,
          34,
          45,
          70,
          77,
          32,
          50,
          30,
          114,
          588,
          114,
          114,
          50,
          141,
          158,
          56,
          29,
          39,
          32,
          37,
          63,
          29,
          48,
          59,
          29,
          24,
          31,
          37,
          193,
          45,
          154,
          3,
          32,
          131,
          52,
          142,
          104,
          43,
          73,
          105,
          54,
          108,
          77,
          42,
          132,
          42,
          22,
          30,
          38,
          54,
          56,
          66,
          65,
          93,
          132,
          112,
          22,
          68,
          119,
          58,
          60,
          54,
          45,
          66,
          67,
          77,
          76,
          77,
          175,
          77,
          102,
          39,
          32,
          30,
          108,
          141,
          130,
          58,
          28,
          77,
          136,
          88,
          127,
          110,
          51,
          30,
          25,
          96,
          64,
          23,
          70,
          31,
          113,
          110,
          36,
          28,
          23,
          45,
          54,
          39,
          154,
          36,
          64,
          36,
          71,
          51,
          17,
          22,
          26,
          144,
          63,
          22,
          89,
          42,
          28,
          135,
          78,
          33,
          27,
          52,
          29,
          33,
          23,
          85,
          101,
          110,
          27,
          58,
          44,
          26,
          91,
          125,
          25,
          69,
          72,
          48,
          28,
          66,
          127,
          62,
          26,
          78,
          23,
          85,
          34,
          41,
          134,
          25,
          30,
          45,
          5,
          23,
          93,
          7,
          24,
          129,
          45,
          65,
          48,
          18,
          24,
          33,
          25,
          51,
          96,
          69,
          25,
          108,
          51,
          65,
          141,
          7,
          41,
          67,
          30,
          37,
          47,
          36,
          29,
          36,
          281,
          27,
          52,
          66,
          121,
          56,
          92,
          66,
          43,
          127,
          43,
          450,
          102,
          88,
          103,
          24,
          95,
          74,
          158,
          482,
          53,
          121,
          31,
          22,
          22,
          38,
          22,
          91,
          66,
          191,
          27,
          67,
          104,
          96,
          38,
          40,
          25,
          24,
          26,
          39,
          54,
          73,
          80,
          21,
          53,
          444,
          41,
          99,
          34,
          27,
          116,
          24,
          75,
          47,
          81,
          115,
          52,
          83,
          41,
          22,
          46,
          57,
          45,
          67,
          26,
          100,
          53,
          632,
          235,
          26,
          114,
          45,
          78,
          51,
          82,
          28,
          85,
          46,
          183,
          22,
          109,
          28,
          25,
          23,
          74,
          50,
          28,
          44,
          88,
          25,
          29,
          39,
          46,
          64,
          15,
          126,
          105,
          49,
          30,
          23,
          84,
          67,
          14,
          68,
          37,
          26,
          84,
          29,
          22,
          201,
          137,
          33,
          101,
          45,
          124,
          84,
          42,
          78,
          70,
          121,
          81,
          42,
          245,
          66,
          139,
          167,
          51,
          55,
          31,
          36,
          28,
          306,
          202,
          160,
          36,
          20,
          6,
          5,
          150,
          74,
          19,
          153,
          45,
          54,
          22,
          22,
          67,
          42,
          179,
          22,
          82,
          22,
          163,
          46,
          158,
          32,
          71,
          34,
          104,
          9,
          95,
          29,
          155,
          24,
          41,
          106,
          32,
          112,
          47,
          28,
          30,
          289,
          80,
          70,
          122,
          59,
          58,
          21,
          27,
          35,
          31,
          66,
          65,
          95,
          32,
          23,
          36,
          55,
          140,
          144,
          30,
          28,
          83,
          40,
          32,
          61,
          116,
          36,
          36,
          37,
          54,
          46,
          65,
          37,
          39,
          44,
          82,
          23,
          155,
          153,
          44,
          117,
          55,
          126,
          109,
          65,
          16,
          50,
          46,
          4,
          35,
          99,
          57,
          136,
          56,
          62,
          25,
          38,
          46,
          32,
          49,
          243,
          42,
          41,
          51,
          81,
          9,
          136,
          9,
          25,
          27,
          45,
          115,
          65,
          139,
          28,
          30,
          53,
          59,
          44,
          26,
          85,
          23,
          27,
          47,
          49,
          126,
          32,
          22,
          107,
          46,
          96,
          157,
          50,
          63,
          29,
          87,
          27,
          33,
          33,
          27,
          26,
          5,
          33,
          34,
          29,
          30,
          140,
          34,
          117,
          45,
          27,
          153,
          41,
          136,
          56,
          64,
          50,
          444,
          27,
          106,
          66,
          54,
          88,
          4,
          54,
          56,
          27,
          95,
          95,
          52,
          80,
          63,
          73,
          169,
          169,
          57,
          56,
          113,
          50,
          23,
          24,
          179,
          101,
          54,
          96,
          59,
          166,
          14,
          46,
          9,
          46,
          84,
          71,
          20,
          44,
          46,
          35,
          28,
          53,
          82,
          26,
          48,
          29,
          41,
          99,
          55,
          22,
          15,
          119,
          154,
          25,
          29,
          29,
          28,
          89,
          56,
          53,
          37,
          26,
          129,
          69,
          21,
          89,
          37,
          39,
          102,
          42,
          63,
          50,
          163,
          200,
          41,
          38,
          26,
          29,
          16,
          23,
          46,
          31,
          28,
          118,
          29,
          63,
          106,
          121,
          44,
          22,
          22,
          116,
          78,
          59,
          43,
          124,
          45,
          142,
          32,
          69,
          79,
          149,
          63,
          155,
          29,
          145,
          22,
          32,
          10,
          61,
          57,
          36,
          52,
          163,
          133,
          55,
          57,
          68,
          123,
          111,
          37,
          74,
          47,
          9,
          149,
          44,
          23,
          26,
          35,
          29,
          131,
          28,
          23,
          52,
          53,
          131,
          11,
          27,
          88,
          166,
          42,
          32,
          588,
          74,
          39,
          26,
          57,
          54,
          94,
          276,
          82,
          160,
          151,
          60,
          51,
          138,
          104,
          75,
          29,
          142,
          40,
          166,
          130,
          15,
          31,
          52,
          234,
          50,
          103,
          25,
          49,
          47,
          27,
          77,
          28,
          34,
          22,
          95,
          22,
          54,
          67,
          73,
          56,
          32,
          25,
          66,
          43,
          121,
          55,
          126,
          27,
          141,
          111,
          125,
          6,
          142,
          46,
          32,
          89,
          64,
          77,
          47,
          42,
          29,
          37,
          86,
          47,
          33,
          23,
          67,
          32,
          31,
          25,
          11,
          129,
          33,
          30,
          183,
          156,
          47,
          32,
          137,
          101,
          59,
          43,
          95,
          142,
          38,
          327,
          29,
          36,
          87,
          35,
          62,
          32,
          24,
          112,
          57,
          26,
          110,
          147,
          32,
          151,
          44,
          30,
          94,
          28,
          164,
          38,
          46,
          23,
          269,
          65,
          24,
          42,
          45,
          54,
          26,
          60,
          141,
          153,
          35,
          32,
          143,
          60,
          96,
          30,
          126,
          41,
          30,
          157,
          71,
          112,
          43,
          14,
          49,
          47,
          42,
          26,
          23,
          30,
          108,
          119,
          37,
          75,
          46,
          51,
          461,
          127,
          44,
          34,
          72,
          30,
          27,
          48,
          90,
          52,
          47,
          22,
          41,
          37,
          173,
          95,
          69,
          27,
          47,
          93,
          32,
          48,
          63,
          75,
          295,
          39,
          120,
          43,
          169,
          101,
          32,
          150,
          40,
          85,
          2,
          135,
          49,
          32,
          29,
          24,
          74,
          242,
          40,
          66,
          25,
          26,
          27,
          23,
          38,
          34,
          55,
          46,
          22,
          42,
          35,
          53,
          112,
          39,
          38,
          129,
          67,
          147,
          61,
          38,
          82,
          15,
          153,
          42,
          155,
          50,
          52,
          54,
          49,
          67,
          139,
          110,
          37,
          40,
          25,
          113,
          28,
          48,
          58,
          66,
          26,
          297,
          148,
          149,
          154,
          36,
          35,
          31,
          70,
          33,
          35,
          23,
          76,
          24,
          41,
          48,
          59,
          53,
          19,
          51,
          122,
          53,
          22,
          155,
          25,
          39,
          119,
          104,
          45,
          18,
          19,
          30,
          91,
          156,
          45,
          42,
          36,
          113,
          141,
          38,
          43,
          29,
          61,
          5,
          33,
          41,
          60,
          44,
          32,
          87,
          66,
          148,
          56,
          148,
          55,
          35,
          31,
          38,
          59,
          27,
          55,
          30,
          33,
          92,
          59,
          160,
          130,
          112,
          52,
          65,
          59,
          23,
          41,
          137,
          35,
          69,
          68,
          68,
          49,
          96,
          46,
          47,
          50,
          28,
          110,
          97,
          46,
          90,
          13,
          41,
          65,
          134,
          145,
          131,
          33,
          14,
          105,
          42,
          40,
          47,
          80,
          72,
          150,
          33,
          33,
          32,
          281,
          44,
          102,
          34,
          73,
          149,
          20,
          22,
          92,
          86,
          28,
          40,
          90,
          47,
          66,
          63,
          147,
          47,
          151,
          37,
          41,
          32,
          24,
          29,
          50,
          35,
          38,
          41,
          118,
          57,
          115,
          51,
          82,
          29,
          23,
          72,
          72,
          33,
          111,
          34,
          86,
          121,
          61,
          14,
          120,
          78,
          50,
          27,
          444,
          79,
          84,
          62,
          33,
          68,
          107,
          37,
          132,
          69,
          85,
          38,
          114,
          151,
          80,
          80,
          158,
          35,
          165,
          42,
          153,
          320,
          93,
          148,
          50,
          72,
          55,
          158,
          54,
          113,
          70,
          77,
          72,
          33,
          32,
          91,
          22,
          148,
          145,
          126,
          28,
          52,
          36,
          126,
          47,
          27,
          41,
          129,
          83,
          41,
          28,
          34,
          39,
          54,
          90,
          35,
          34,
          91,
          52,
          45,
          54,
          77,
          22,
          22,
          368,
          28,
          82,
          55,
          68,
          29,
          115,
          67,
          96,
          25,
          104,
          44,
          18,
          47,
          22,
          31,
          39,
          40,
          69,
          79,
          117,
          38,
          65,
          23,
          3,
          151,
          58,
          24,
          31,
          33,
          54,
          60,
          9,
          71,
          28,
          41,
          29,
          34,
          31,
          11,
          129,
          11,
          28,
          47,
          59,
          31,
          143,
          44,
          65,
          22,
          84,
          160,
          120,
          131,
          40,
          52,
          34,
          23,
          29,
          48,
          38,
          31,
          86,
          34,
          58,
          193,
          34,
          124,
          152,
          65,
          105,
          51,
          29,
          25,
          78,
          30,
          135,
          44,
          91,
          142,
          49,
          54,
          19,
          34,
          107,
          24,
          274,
          118,
          158,
          28,
          127,
          52,
          131,
          155,
          73,
          8,
          57,
          106,
          56,
          49,
          27,
          176,
          92,
          31,
          38,
          156,
          66,
          180,
          63,
          59,
          25,
          24,
          149,
          165,
          63,
          32,
          29,
          35,
          22,
          105,
          3,
          126,
          31,
          75,
          121,
          75,
          95,
          114,
          26,
          48,
          25,
          38,
          7,
          36,
          189,
          125,
          55,
          38,
          29,
          46,
          62,
          32,
          194,
          287,
          37,
          42,
          70,
          77,
          115,
          15,
          49,
          53,
          92,
          33,
          87,
          36,
          134,
          22,
          26,
          24,
          97,
          153,
          139,
          45,
          69,
          40,
          30,
          40,
          84,
          25,
          140,
          73,
          85,
          69,
          23,
          25,
          24,
          30,
          28,
          43,
          39,
          83,
          73,
          47,
          322,
          59,
          42,
          31,
          30,
          36,
          29,
          59,
          154,
          47,
          87,
          126,
          128,
          12,
          53,
          41,
          176,
          99,
          72,
          123,
          69,
          39,
          17,
          22,
          48,
          38,
          30,
          38,
          25,
          28,
          46,
          72,
          41,
          31,
          59,
          28,
          30,
          131,
          55,
          32,
          138,
          125,
          13,
          81,
          155,
          74,
          34,
          84,
          190,
          42,
          37,
          38,
          87,
          43,
          73,
          65,
          36,
          38,
          27,
          21,
          73,
          191,
          104,
          34,
          31,
          154,
          98,
          107,
          27,
          59,
          57,
          136,
          56,
          77,
          44,
          46,
          53,
          32,
          31,
          55,
          40,
          51,
          39,
          43,
          35,
          133,
          160,
          48,
          37,
          169,
          135,
          33,
          52,
          29,
          29,
          103,
          55,
          24,
          54,
          43,
          23,
          51,
          40,
          155,
          83,
          26,
          38,
          82,
          38,
          26,
          25,
          24,
          58,
          46,
          90,
          128,
          70,
          30,
          44,
          69,
          42,
          21,
          158,
          127,
          39,
          47,
          65,
          36,
          36,
          37,
          31,
          18,
          86,
          159,
          92,
          39,
          28,
          66,
          35,
          37,
          38,
          34,
          34,
          30,
          45,
          137,
          24,
          51,
          293,
          28,
          37,
          33,
          33,
          49,
          263,
          50,
          26,
          39,
          58,
          62,
          70,
          50,
          38,
          62,
          152,
          158,
          45,
          22,
          26,
          47,
          48,
          48,
          67,
          30,
          110,
          34,
          65,
          23,
          35,
          22,
          96,
          75,
          81,
          37,
          71,
          21,
          126,
          25,
          302,
          23,
          198,
          32,
          30,
          39,
          98,
          14,
          27,
          37,
          157,
          54,
          39,
          33,
          45,
          144,
          180,
          169,
          61,
          39,
          41,
          74,
          204,
          88,
          74,
          37,
          39,
          35,
          43,
          42,
          37,
          30,
          82,
          32,
          28,
          55,
          67,
          244,
          24,
          159,
          159,
          70,
          57,
          139,
          40,
          86,
          116,
          3,
          53,
          42,
          54,
          33,
          30,
          70,
          94,
          62,
          72,
          142,
          85,
          66,
          32,
          55,
          58,
          16,
          71,
          38,
          44,
          77,
          148,
          32,
          85,
          22,
          38,
          32,
          198,
          104,
          44,
          42,
          61,
          43,
          46,
          76,
          61,
          76,
          46,
          61,
          22,
          50,
          44,
          257,
          159,
          58,
          33,
          96,
          29,
          63,
          53,
          34,
          33,
          65,
          30,
          19,
          36,
          40,
          63,
          4,
          50,
          28,
          57,
          32,
          38,
          86,
          37,
          116,
          77,
          17,
          156,
          38,
          13,
          88,
          64,
          205,
          114,
          78,
          121,
          25,
          46,
          28,
          126,
          46,
          23,
          84,
          72,
          30,
          22,
          48,
          24,
          46,
          86,
          158,
          31,
          25,
          35,
          106,
          48,
          60,
          97,
          36,
          71,
          83,
          153,
          38,
          82,
          94,
          52,
          84,
          33,
          42,
          24,
          54,
          23,
          45,
          37,
          28,
          44,
          73,
          202,
          140,
          13,
          29,
          53,
          132,
          35,
          96,
          73,
          55,
          60,
          83,
          111,
          40,
          141,
          104,
          133,
          26,
          53,
          70,
          67,
          22,
          63,
          33,
          74,
          60,
          144,
          220,
          55,
          127,
          27,
          162,
          112,
          30,
          3,
          61,
          39,
          103,
          48,
          34,
          37,
          89,
          31,
          22,
          36,
          23,
          45,
          42,
          40,
          28,
          84,
          52,
          78,
          54,
          23,
          93,
          24,
          51,
          22,
          23,
          65,
          21,
          29,
          66,
          32,
          34,
          153,
          23,
          32,
          69,
          180,
          255,
          31,
          59,
          138,
          67,
          37,
          122,
          29,
          97,
          76,
          84,
          56,
          36,
          84,
          128,
          96,
          35,
          46,
          276,
          25,
          46,
          153,
          74,
          27,
          63,
          147,
          154,
          70,
          163,
          24,
          85,
          49,
          26,
          48,
          35,
          24,
          49,
          48,
          80,
          39,
          29,
          32,
          75,
          25,
          60,
          154,
          230,
          27,
          94,
          87,
          116,
          126,
          28,
          160,
          60,
          153,
          55,
          22,
          42,
          36,
          34,
          77,
          147,
          55,
          54,
          34,
          22,
          111,
          160,
          89,
          153,
          67,
          48,
          57,
          161,
          139,
          158,
          90,
          29,
          22,
          38,
          92,
          84,
          74,
          40,
          63,
          134,
          35,
          35,
          54,
          27,
          111,
          157,
          124,
          22,
          77,
          37,
          71,
          74,
          28,
          34,
          35,
          67,
          41,
          33,
          83,
          38,
          61,
          32,
          62,
          79,
          22,
          158,
          37,
          23,
          43,
          108,
          23,
          81,
          154,
          85,
          54,
          22,
          34,
          69,
          74,
          102,
          22,
          32,
          77,
          26,
          29,
          52,
          60,
          44,
          77,
          263,
          65,
          31,
          73,
          115,
          131,
          31,
          24,
          71,
          23,
          79,
          24,
          97,
          71,
          38,
          44,
          88,
          155,
          36,
          7,
          71,
          27,
          49,
          46,
          23,
          183,
          118,
          92,
          38,
          87,
          29,
          154,
          45,
          24,
          69,
          141,
          114,
          132,
          85,
          75,
          32,
          37,
          122,
          19,
          106,
          67,
          51,
          40,
          40,
          28,
          152,
          17,
          138,
          60,
          28,
          142,
          139,
          80,
          34,
          290,
          25,
          5,
          63,
          153,
          104,
          82,
          74,
          15,
          77,
          37,
          129,
          54,
          63,
          66,
          329,
          40,
          86,
          82,
          24,
          111,
          156,
          36,
          35,
          112,
          72,
          61,
          27,
          30,
          46,
          32,
          43,
          154,
          55,
          27,
          35,
          39,
          70,
          115,
          68,
          29,
          27,
          34,
          66,
          21,
          139,
          150,
          49,
          19,
          40,
          113,
          44,
          51,
          156,
          33,
          157,
          32,
          46,
          142,
          36,
          117,
          94,
          52,
          180,
          39,
          87,
          47,
          70,
          121,
          14,
          142,
          23,
          64,
          25,
          45,
          36,
          101,
          38,
          142,
          51,
          163,
          146,
          27,
          41,
          25,
          151,
          85,
          30,
          60,
          74,
          61,
          22,
          408,
          56,
          31,
          45,
          138,
          22,
          38,
          53,
          93,
          283,
          36,
          60,
          36,
          154,
          103,
          65,
          149,
          200,
          26,
          124,
          31,
          65,
          39,
          83,
          42,
          35,
          23,
          41,
          72,
          66,
          43,
          46,
          116,
          56,
          55,
          166,
          29,
          96,
          36,
          49,
          61,
          39,
          141,
          30,
          30,
          31,
          73,
          25,
          29,
          381,
          69,
          26,
          36,
          278,
          68,
          50,
          89,
          237,
          236,
          95,
          85,
          44,
          99,
          23,
          145,
          26,
          160,
          97,
          39,
          24,
          33,
          76,
          49,
          15,
          22,
          51,
          28,
          69,
          159,
          44,
          24,
          20,
          126,
          41,
          40,
          162,
          171,
          28,
          62,
          71,
          109,
          135,
          2,
          17,
          21,
          25,
          23,
          74,
          26,
          149,
          24,
          30,
          62,
          132,
          43,
          42,
          58,
          125,
          94,
          104,
          94,
          39,
          26,
          60,
          22,
          158,
          58,
          120,
          47,
          110,
          205,
          73,
          31,
          29,
          152,
          42,
          48,
          137,
          105,
          155,
          45,
          35,
          78,
          159,
          126,
          49,
          73,
          166,
          50,
          142,
          120,
          54,
          153,
          23,
          52,
          90,
          23,
          24,
          156,
          25,
          73,
          34,
          158,
          208,
          56,
          112,
          35,
          34,
          30,
          24,
          46,
          34,
          142,
          75,
          95,
          77,
          79,
          229,
          44,
          117,
          70,
          53,
          106,
          30,
          86,
          38,
          67,
          39,
          97,
          30,
          73,
          35,
          72,
          134,
          106,
          35,
          22,
          31,
          19,
          54,
          29,
          101,
          22,
          89,
          75,
          34,
          27,
          34,
          37,
          172,
          52,
          24,
          54,
          56,
          41,
          89,
          34,
          43,
          43,
          43,
          26,
          55,
          66,
          55,
          49,
          7,
          27,
          28,
          33,
          157,
          38,
          159,
          139,
          22,
          48,
          32,
          80,
          26,
          106,
          51,
          56,
          13,
          33,
          30,
          31,
          35,
          24,
          26,
          49,
          70,
          59,
          64,
          109,
          25,
          24,
          36,
          55,
          36,
          66,
          25,
          37,
          44,
          160,
          63,
          33,
          17,
          40,
          43,
          10,
          51,
          154,
          113,
          147,
          50,
          64,
          26,
          9,
          22,
          10,
          124,
          32,
          24,
          95,
          35,
          59,
          73,
          88,
          77,
          64,
          76,
          55,
          26,
          112,
          77,
          53,
          102,
          79,
          42,
          59,
          32,
          70,
          70,
          124,
          21,
          77,
          25,
          36,
          75,
          36,
          48,
          175,
          237,
          23,
          105,
          62,
          37,
          52,
          22,
          42,
          79,
          133,
          91,
          99,
          62,
          34,
          40,
          157,
          133,
          56,
          93,
          31,
          26,
          83,
          76,
          22,
          42,
          120,
          62,
          24,
          158,
          46,
          61,
          156,
          53,
          73,
          87,
          74,
          58,
          80,
          32,
          147,
          51,
          45,
          29,
          157,
          56,
          68,
          22,
          22,
          84,
          43,
          62,
          46,
          47,
          151,
          240,
          45,
          30,
          114,
          32,
          43,
          110,
          201,
          151,
          86,
          46,
          41,
          84,
          29,
          98,
          86,
          15,
          37,
          42,
          7,
          111,
          42,
          29,
          68,
          62,
          69,
          145,
          38,
          46,
          29,
          121,
          33,
          42,
          89,
          74,
          71,
          45,
          37,
          33,
          54,
          69,
          43,
          81,
          53,
          76,
          22,
          27,
          109,
          12,
          44,
          58,
          5,
          121,
          80,
          22,
          58,
          40,
          299,
          39,
          92,
          158,
          82,
          35,
          66,
          27,
          32,
          85,
          126,
          75,
          92,
          27,
          35,
          145,
          113,
          31,
          22,
          166,
          276,
          171,
          76,
          158,
          22,
          24,
          44,
          51,
          44,
          47,
          44,
          36,
          415,
          32,
          22,
          40,
          24,
          160,
          80,
          27,
          237,
          134,
          33,
          80,
          45,
          48,
          148,
          156,
          38,
          49,
          38,
          48,
          22,
          98,
          149,
          37,
          22,
          33,
          83,
          24,
          38,
          129,
          85,
          46,
          87,
          106,
          95,
          86,
          107,
          40,
          33,
          146,
          136,
          100,
          64,
          73,
          146,
          39,
          32,
          65,
          41,
          152,
          9,
          34,
          66,
          133,
          125,
          132,
          44,
          42,
          142,
          62,
          54,
          54,
          56,
          90,
          111,
          22,
          22,
          57,
          24,
          38,
          32,
          70,
          25,
          96,
          97,
          27,
          9,
          42,
          61,
          51,
          28,
          22,
          26,
          78,
          51,
          42,
          247,
          81,
          15,
          28,
          28,
          78,
          60,
          59,
          59,
          146,
          73,
          47,
          152,
          31,
          66,
          19,
          57,
          100,
          22,
          44,
          67,
          84,
          48,
          43,
          69,
          27,
          72,
          28,
          133,
          98,
          70,
          41,
          111,
          97,
          89,
          31,
          89,
          143,
          43,
          46,
          111,
          27,
          175,
          42,
          138,
          50,
          30,
          49,
          91,
          36,
          30,
          63,
          119,
          26,
          82,
          23,
          53,
          66,
          62,
          74,
          93,
          29,
          43,
          119,
          256,
          51,
          21,
          51,
          85,
          94,
          22,
          31,
          24,
          46,
          65,
          32,
          120,
          36,
          71,
          70,
          166,
          32,
          41,
          98,
          450,
          150,
          47,
          57,
          154,
          33,
          27,
          91,
          39,
          53,
          88,
          28,
          43,
          32,
          73,
          30,
          154,
          107,
          101,
          31,
          49,
          281,
          37,
          70,
          114,
          116,
          47,
          27,
          87,
          88,
          228,
          102,
          133,
          88,
          36,
          77,
          104,
          87,
          28,
          130,
          79,
          184,
          53,
          31,
          85,
          77,
          23,
          76,
          28,
          30,
          75,
          36,
          23,
          33,
          99,
          24,
          67,
          24,
          85,
          28,
          46,
          4,
          55,
          93,
          70,
          86,
          101,
          157,
          49,
          25,
          35,
          48,
          43,
          27,
          18,
          4,
          22,
          69,
          37,
          39,
          134,
          85,
          116,
          42,
          40,
          23,
          61,
          43,
          109,
          30,
          329,
          91,
          31,
          29,
          22,
          40,
          29,
          38,
          41,
          51,
          35,
          89,
          51,
          40,
          112,
          141,
          45,
          71,
          35,
          29,
          143,
          48,
          21,
          98,
          136,
          32,
          43,
          48,
          25,
          19,
          133,
          66,
          58,
          119,
          53,
          38,
          45,
          99,
          77,
          55,
          23,
          21,
          33,
          46,
          23,
          82,
          127,
          74,
          23,
          65,
          278,
          26,
          152,
          45,
          3,
          51,
          45,
          152,
          42,
          101,
          29,
          63,
          168,
          125,
          35,
          38,
          49,
          31,
          24,
          40,
          113,
          119,
          50,
          23,
          47,
          38,
          51,
          32,
          125,
          36,
          55,
          23,
          35,
          87,
          71,
          94,
          99,
          51,
          23,
          162,
          82,
          32,
          146,
          121,
          40,
          27,
          28,
          97,
          159,
          28,
          36,
          64,
          30,
          26,
          189,
          160,
          26,
          29,
          24,
          29,
          47,
          72,
          37,
          125,
          52,
          192,
          126,
          39,
          25,
          35,
          33,
          38,
          77,
          38,
          17,
          130,
          133,
          40,
          11,
          45,
          67,
          40,
          84,
          100,
          145,
          30,
          2,
          125,
          133,
          56,
          42,
          70,
          50,
          135,
          46,
          38,
          46,
          44,
          212,
          51,
          116,
          80,
          48,
          64,
          88,
          161,
          147,
          24,
          101,
          40,
          36,
          26,
          23,
          59,
          104,
          41,
          50,
          40,
          29,
          49,
          45,
          163,
          86,
          129,
          40,
          69,
          28,
          34,
          162,
          23,
          39,
          82,
          36,
          80,
          81,
          10,
          90,
          112,
          40,
          72,
          82,
          37,
          40,
          39,
          22,
          84,
          40,
          45,
          32,
          97,
          102,
          34,
          22,
          51,
          59,
          33,
          26,
          28,
          36,
          44,
          45,
          90,
          99,
          70,
          68,
          104,
          37,
          51,
          23,
          251,
          40,
          38,
          44,
          101,
          27,
          22,
          120,
          51,
          17,
          49,
          89,
          7,
          26,
          3,
          79,
          35,
          122,
          54,
          74,
          50,
          25,
          61,
          35,
          31,
          79,
          169,
          135,
          33,
          23,
          43,
          23,
          65,
          65,
          155,
          118,
          58,
          34,
          45,
          155,
          36,
          82,
          40,
          127,
          149,
          38,
          58,
          61,
          24,
          39,
          25,
          69,
          33,
          245,
          139,
          166,
          122,
          56,
          32,
          35,
          35,
          23,
          103,
          68,
          49,
          25,
          64,
          60,
          40,
          113,
          28,
          329,
          54,
          158,
          26,
          21,
          40,
          38,
          154,
          45,
          42,
          34,
          87,
          43,
          51,
          91,
          27,
          98,
          153,
          63,
          273,
          22,
          66,
          33,
          70,
          96,
          19,
          67,
          12,
          37,
          57,
          125,
          26
         ],
         "xaxis": "x",
         "yaxis": "y"
        },
        {
         "alignmentgroup": "True",
         "hovertemplate": "Target=0<br>Messages_Length=%{x}<extra></extra>",
         "legendgroup": "0",
         "marker": {
          "color": "#636efa"
         },
         "name": "0",
         "notched": true,
         "offsetgroup": "0",
         "opacity": 0.8,
         "showlegend": false,
         "type": "box",
         "x": [
          111,
          29,
          49,
          61,
          77,
          160,
          109,
          196,
          35,
          26,
          81,
          58,
          41,
          49,
          53,
          88,
          57,
          144,
          30,
          134,
          75,
          64,
          130,
          189,
          29,
          84,
          123,
          47,
          28,
          27,
          155,
          82,
          142,
          19,
          72,
          32,
          45,
          31,
          67,
          148,
          58,
          124,
          80,
          291,
          76,
          34,
          22,
          40,
          108,
          48,
          25,
          56,
          110,
          124,
          34,
          46,
          29,
          45,
          42,
          20,
          43,
          73,
          50,
          42,
          76,
          22,
          32,
          32,
          36,
          14,
          55,
          121,
          144,
          42,
          41,
          62,
          195,
          141,
          107,
          33,
          51,
          184,
          57,
          81,
          76,
          160,
          183,
          44,
          95,
          43,
          82,
          115,
          30,
          40,
          31,
          96,
          143,
          156,
          72,
          86,
          53,
          52,
          40,
          20,
          244,
          22,
          107,
          28,
          9,
          39,
          25,
          38,
          34,
          46,
          86,
          33,
          27,
          158,
          42,
          25,
          48,
          84,
          33,
          30,
          45,
          59,
          25,
          160,
          384,
          28,
          27,
          157,
          115,
          64,
          85,
          51,
          74,
          67,
          59,
          50,
          94,
          33,
          105,
          61,
          65,
          26,
          146,
          66,
          126,
          159,
          23,
          65,
          24,
          26,
          152,
          34,
          55,
          88,
          185,
          37,
          111,
          92,
          28,
          28,
          64,
          131,
          40,
          28,
          84,
          174,
          24,
          25,
          64,
          156,
          28,
          86,
          39,
          73,
          26,
          23,
          24,
          31,
          58,
          48,
          41,
          32,
          159,
          25,
          161,
          22,
          119,
          69,
          30,
          165,
          34,
          109,
          37,
          33,
          48,
          50,
          65,
          38,
          145,
          51,
          45,
          83,
          155,
          37,
          78,
          30,
          31,
          146,
          44,
          179,
          27,
          179,
          38,
          97,
          43,
          36,
          74,
          3,
          85,
          51,
          26,
          35,
          47,
          47,
          53,
          147,
          37,
          31,
          8,
          38,
          30,
          47,
          56,
          22,
          19,
          29,
          7,
          121,
          58,
          4,
          148,
          160,
          152,
          37,
          55,
          21,
          22,
          50,
          67,
          153,
          51,
          67,
          88,
          157,
          91,
          24,
          57,
          26,
          71,
          55,
          156,
          119,
          142,
          41,
          26,
          119,
          46,
          23,
          51,
          62,
          107,
          157,
          30,
          32,
          31,
          79,
          32,
          86,
          22,
          76,
          232,
          45,
          57,
          26,
          22,
          41,
          28,
          151,
          29,
          34,
          52,
          33,
          85,
          31,
          78,
          50,
          63,
          148,
          129,
          45,
          202,
          168,
          85,
          38,
          15,
          31,
          88,
          160,
          50,
          26,
          31,
          129,
          34,
          54,
          162,
          23,
          53,
          131,
          36,
          143,
          300,
          59,
          42,
          41,
          22,
          31,
          30,
          47,
          25,
          80,
          22,
          115,
          56,
          102,
          118,
          221,
          204,
          114,
          39,
          36,
          48,
          77,
          60,
          168,
          51,
          22,
          152,
          75,
          30,
          95,
          24,
          35,
          29,
          66,
          48,
          24,
          248,
          25,
          27,
          37,
          69,
          150,
          24,
          80,
          25,
          73,
          89,
          58,
          36,
          76,
          47,
          104,
          38,
          69,
          22,
          66,
          94,
          70,
          73,
          42,
          17,
          13,
          45,
          57,
          105,
          47,
          117,
          158,
          79,
          142,
          62,
          71,
          29,
          29,
          148,
          83,
          37,
          44,
          45,
          50,
          298,
          125,
          51,
          28,
          34,
          46,
          81,
          28,
          90,
          18,
          54,
          55,
          45,
          40,
          107,
          50,
          120,
          32,
          34,
          32,
          16,
          67,
          55,
          43,
          23,
          149,
          21,
          23,
          40,
          117,
          62,
          166,
          24,
          136,
          99,
          45,
          23,
          25,
          26,
          168,
          117,
          46,
          26,
          28,
          32,
          57,
          42,
          36,
          50,
          33,
          15,
          177,
          160,
          63,
          84,
          84,
          57,
          169,
          76,
          47,
          130,
          23,
          149,
          32,
          22,
          101,
          281,
          54,
          120,
          138,
          135,
          66,
          40,
          40,
          70,
          160,
          26,
          32,
          51,
          146,
          103,
          45,
          142,
          92,
          26,
          134,
          37,
          22,
          22,
          33,
          109,
          36,
          140,
          51,
          46,
          63,
          95,
          69,
          110,
          55,
          27,
          34,
          24,
          147,
          24,
          29,
          87,
          38,
          104,
          59,
          38,
          38,
          22,
          25,
          87,
          19,
          66,
          156,
          22,
          107,
          65,
          149,
          137,
          25,
          60,
          103,
          37,
          58,
          87,
          58,
          123,
          67,
          66,
          102,
          35,
          8,
          62,
          58,
          20,
          100,
          51,
          36,
          53,
          88,
          133,
          36,
          37,
          127,
          92,
          80,
          35,
          66,
          119,
          65,
          26,
          28,
          45,
          157,
          36,
          94,
          140,
          22,
          57,
          43,
          61,
          56,
          54,
          37,
          25,
          21,
          36,
          153,
          46,
          34,
          80,
          69,
          24,
          108,
          46,
          30,
          22,
          87,
          30,
          143,
          169,
          42,
          18,
          109,
          76,
          73,
          92,
          36,
          54,
          78,
          30,
          40,
          29,
          22,
          77,
          109,
          75,
          76,
          30,
          49,
          269,
          195,
          125,
          48,
          39,
          121,
          162,
          29,
          38,
          25,
          40,
          226,
          70,
          140,
          47,
          63,
          17,
          41,
          80,
          137,
          103,
          29,
          51,
          25,
          149,
          38,
          62,
          181,
          34,
          47,
          40,
          110,
          101,
          42,
          27,
          31,
          82,
          23,
          59,
          133,
          33,
          95,
          135,
          151,
          75,
          103,
          22,
          51,
          137,
          58,
          89,
          81,
          57,
          26,
          32,
          145,
          122,
          143,
          23,
          136,
          94,
          8,
          65,
          71,
          117,
          28,
          150,
          31,
          72,
          70,
          94,
          48,
          98,
          31,
          43,
          71,
          25,
          22,
          48,
          33,
          44,
          47,
          26,
          112,
          19,
          48,
          107,
          38,
          27,
          129,
          131,
          23,
          25,
          42,
          27,
          22,
          98,
          89,
          130,
          215,
          26,
          66,
          372,
          82,
          73,
          76,
          24,
          231,
          87,
          72,
          105,
          54,
          58,
          54,
          118,
          88,
          29,
          136,
          23,
          39,
          35,
          24,
          95,
          73,
          45,
          159,
          92,
          102,
          31,
          77,
          139,
          44,
          276,
          78,
          27,
          79,
          24,
          52,
          68,
          24,
          44,
          24,
          55,
          62,
          104,
          87,
          150,
          49,
          154,
          56,
          126,
          43,
          77,
          49,
          84,
          49,
          79,
          31,
          146,
          23,
          160,
          62,
          39,
          67,
          73,
          148,
          88,
          37,
          23,
          56,
          53,
          73,
          80,
          44,
          92,
          35,
          23,
          106,
          103,
          34,
          77,
          26,
          47,
          24,
          133,
          126,
          78,
          116,
          221,
          59,
          143,
          24,
          38,
          42,
          24,
          159,
          47,
          122,
          126,
          26,
          114,
          7,
          34,
          92,
          90,
          22,
          85,
          63,
          220,
          41,
          60,
          88,
          31,
          37,
          28,
          24,
          118,
          22,
          210,
          50,
          49,
          87,
          61,
          54,
          28,
          49,
          53,
          145,
          162,
          53,
          12,
          142,
          73,
          129,
          33,
          47,
          72,
          148,
          107,
          41,
          23,
          104,
          45,
          26,
          37,
          132,
          63,
          108,
          93,
          43,
          46,
          56,
          37,
          124,
          38,
          53,
          31,
          224,
          24,
          24,
          52,
          48,
          28,
          43,
          49,
          26,
          58,
          17,
          26,
          127,
          103,
          157,
          34,
          128,
          143,
          51,
          60,
          30,
          41,
          103,
          19,
          114,
          78,
          41,
          46,
          136,
          46,
          157,
          24,
          17,
          20,
          84,
          63,
          155,
          122,
          50,
          25,
          44,
          65,
          21,
          47,
          135,
          39,
          83,
          44,
          28,
          24,
          67,
          67,
          33,
          24,
          119,
          910,
          158,
          35,
          24,
          53,
          72,
          19,
          188,
          71,
          23,
          160,
          73,
          106,
          80,
          105,
          43,
          68,
          32,
          159,
          140,
          101,
          31,
          23,
          58,
          37,
          61,
          60,
          54,
          69,
          72,
          40,
          36,
          35,
          34,
          79,
          114,
          64,
          25,
          22,
          35,
          156,
          58,
          31,
          24,
          17,
          152,
          41,
          80,
          85,
          115,
          25,
          45,
          70,
          22,
          43,
          22,
          22,
          72,
          91,
          70,
          140,
          31,
          52,
          40,
          23,
          145,
          54,
          43,
          30,
          39,
          71,
          146,
          73,
          23,
          26,
          59,
          150,
          167,
          26,
          66,
          35,
          26,
          26,
          49,
          38,
          36,
          18,
          48,
          68,
          73,
          49,
          13,
          63,
          133,
          13,
          74,
          48,
          138,
          164,
          40,
          20,
          61,
          61,
          130,
          37,
          31,
          27,
          41,
          49,
          52,
          124,
          63,
          85,
          70,
          55,
          119,
          22,
          43,
          46,
          75,
          43,
          31,
          76,
          51,
          27,
          34,
          129,
          136,
          24,
          33,
          63,
          96,
          53,
          59,
          52,
          45,
          34,
          53,
          111,
          60,
          152,
          55,
          84,
          87,
          84,
          26,
          58,
          46,
          43,
          24,
          97,
          70,
          179,
          54,
          26,
          156,
          47,
          48,
          40,
          81,
          116,
          5,
          81,
          20,
          13,
          37,
          66,
          69,
          55,
          45,
          160,
          25,
          28,
          40,
          156,
          138,
          24,
          70,
          62,
          86,
          174,
          48,
          48,
          25,
          54,
          38,
          46,
          64,
          133,
          36,
          132,
          51,
          48,
          62,
          48,
          39,
          103,
          83,
          84,
          39,
          122,
          154,
          36,
          5,
          30,
          57,
          54,
          34,
          85,
          139,
          35,
          31,
          48,
          94,
          27,
          28,
          41,
          42,
          150,
          162,
          82,
          45,
          56,
          41,
          23,
          112,
          38,
          160,
          32,
          47,
          82,
          25,
          51,
          22,
          30,
          121,
          53,
          84,
          24,
          81,
          152,
          131,
          327,
          49,
          65,
          29,
          207,
          114,
          49,
          108,
          36,
          32,
          50,
          80,
          141,
          23,
          40,
          25,
          22,
          155,
          72,
          203,
          278,
          115,
          27,
          139,
          46,
          115,
          155,
          35,
          82,
          7,
          36,
          73,
          24,
          49,
          48,
          155,
          93,
          99,
          155,
          48,
          42,
          24,
          30,
          44,
          24,
          34,
          144,
          179,
          52,
          82,
          39,
          80,
          35,
          82,
          41,
          27,
          32,
          33,
          41,
          5,
          126,
          153,
          141,
          124,
          38,
          63,
          47,
          22,
          115,
          71,
          34,
          72,
          134,
          26,
          38,
          25,
          27,
          159,
          107,
          13,
          25,
          65,
          33,
          23,
          53,
          104,
          149,
          144,
          51,
          114,
          131,
          174,
          42,
          153,
          37,
          61,
          74,
          93,
          141,
          85,
          78,
          33,
          90,
          147,
          33,
          32,
          5,
          149,
          22,
          132,
          154,
          31,
          51,
          18,
          172,
          76,
          78,
          112,
          58,
          158,
          60,
          154,
          34,
          26,
          31,
          26,
          64,
          179,
          56,
          148,
          90,
          110,
          458,
          36,
          28,
          33,
          51,
          45,
          37,
          39,
          96,
          15,
          29,
          32,
          152,
          29,
          36,
          54,
          29,
          47,
          172,
          32,
          22,
          91,
          53,
          24,
          121,
          36,
          212,
          25,
          59,
          155,
          37,
          79,
          24,
          50,
          75,
          41,
          8,
          36,
          31,
          73,
          127,
          14,
          97,
          73,
          92,
          63,
          58,
          46,
          26,
          143,
          29,
          31,
          156,
          37,
          63,
          33,
          104,
          58,
          62,
          184,
          611,
          61,
          62,
          64,
          47,
          92,
          22,
          338,
          86,
          159,
          30,
          105,
          148,
          30,
          52,
          152,
          43,
          35,
          47,
          25,
          127,
          25,
          143,
          128,
          24,
          43,
          99,
          152,
          37,
          32,
          3,
          28,
          55,
          28,
          121,
          29,
          115,
          39,
          154,
          148,
          44,
          156,
          25,
          41,
          83,
          45,
          73,
          158,
          47,
          159,
          165,
          37,
          41,
          136,
          24,
          35,
          25,
          31,
          36,
          132,
          156,
          30,
          118,
          82,
          147,
          75,
          22,
          90,
          61,
          28,
          42,
          75,
          27,
          14,
          129,
          73,
          88,
          27,
          75,
          11,
          23,
          25,
          81,
          51,
          40,
          156,
          124,
          18,
          6,
          126,
          46,
          30,
          35,
          32,
          23,
          42,
          99,
          96,
          74,
          72,
          76,
          60,
          5,
          31,
          77,
          33,
          25,
          126,
          71,
          75,
          68,
          144,
          59,
          60,
          49,
          66,
          24,
          58,
          107,
          53,
          73,
          149,
          144,
          63,
          159,
          39,
          67,
          131,
          24,
          136,
          34,
          27,
          55,
          27,
          39,
          36,
          23,
          51,
          34,
          34,
          74,
          146,
          32,
          160,
          86,
          32,
          166,
          22,
          26,
          92,
          37,
          46,
          62,
          39,
          50,
          35,
          21,
          107,
          38,
          205,
          158,
          67,
          121,
          26,
          68,
          123,
          61,
          33,
          156,
          41,
          50,
          41,
          153,
          22,
          53,
          62,
          159,
          34,
          151,
          26,
          27,
          52,
          100,
          164,
          39,
          32,
          158,
          120,
          42,
          46,
          44,
          123,
          24,
          29,
          34,
          29,
          47,
          47,
          115,
          37,
          64,
          83,
          124,
          24,
          89,
          67,
          44,
          33,
          28,
          37,
          76,
          150,
          45,
          84,
          24,
          119,
          332,
          80,
          24,
          34,
          65,
          27,
          24,
          53,
          28,
          22,
          23,
          191,
          75,
          23,
          29,
          37,
          40,
          93,
          107,
          52,
          71,
          54,
          51,
          98,
          89,
          50,
          163,
          135,
          32,
          41,
          58,
          50,
          790,
          34,
          35,
          100,
          46,
          183,
          71,
          30,
          34,
          75,
          55,
          33,
          97,
          33,
          64,
          23,
          32,
          128,
          45,
          62,
          85,
          32,
          89,
          63,
          28,
          41,
          110,
          53,
          31,
          27,
          79,
          22,
          40,
          59,
          54,
          84,
          15,
          106,
          30,
          108,
          92,
          87,
          16,
          51,
          50,
          63,
          34,
          160,
          29,
          41,
          68,
          91,
          2,
          66,
          135,
          30,
          35,
          35,
          25,
          23,
          32,
          76,
          45,
          106,
          55,
          124,
          46,
          120,
          72,
          57,
          54,
          49,
          51,
          29,
          37,
          67,
          41,
          92,
          30,
          68,
          46,
          87,
          95,
          23,
          34,
          59,
          158,
          73,
          76,
          65,
          58,
          14,
          27,
          143,
          53,
          52,
          31,
          39,
          83,
          34,
          22,
          89,
          61,
          150,
          123,
          24,
          32,
          22,
          49,
          108,
          119,
          34,
          38,
          26,
          32,
          31,
          117,
          45,
          55,
          38,
          80,
          54,
          62,
          52,
          81,
          36,
          431,
          62,
          375,
          160,
          52,
          138,
          42,
          63,
          22,
          38,
          50,
          83,
          84,
          39,
          76,
          53,
          94,
          38,
          38,
          75,
          62,
          59,
          23,
          37,
          45,
          51,
          24,
          43,
          123,
          43,
          36,
          46,
          35,
          59,
          32,
          50,
          27,
          40,
          37,
          84,
          125,
          45,
          32,
          52,
          39,
          32,
          52,
          40,
          96,
          31,
          276,
          51,
          26,
          36,
          99,
          44,
          23,
          63,
          60,
          41,
          133,
          27,
          42,
          40,
          17,
          81,
          38,
          48,
          35,
          13,
          363,
          40,
          47,
          154,
          31,
          11,
          44,
          88,
          47,
          64,
          24,
          95,
          134,
          23,
          32,
          175,
          38,
          35,
          147,
          51,
          107,
          38,
          60,
          37,
          157,
          185,
          28,
          159,
          79,
          40,
          113,
          30,
          42,
          41,
          113,
          382,
          87,
          49,
          27,
          28,
          26,
          49,
          39,
          38,
          31,
          162,
          25,
          154,
          22,
          34,
          45,
          70,
          77,
          32,
          50,
          30,
          114,
          588,
          114,
          114,
          50,
          141,
          158,
          56,
          29,
          39,
          32,
          37,
          63,
          29,
          48,
          59,
          29,
          24,
          31,
          37,
          193,
          45,
          154,
          3,
          32,
          131,
          52,
          142,
          104,
          43,
          73,
          105,
          54,
          108,
          77,
          42,
          132,
          42,
          22,
          30,
          38,
          54,
          56,
          66,
          65,
          93,
          132,
          112,
          22,
          68,
          119,
          58,
          60,
          54,
          45,
          66,
          67,
          77,
          76,
          77,
          175,
          77,
          102,
          39,
          32,
          30,
          108,
          141,
          130,
          58,
          28,
          77,
          136,
          88,
          127,
          110,
          51,
          30,
          25,
          96,
          64,
          23,
          70,
          31,
          113,
          110,
          36,
          28,
          23,
          45,
          54,
          39,
          154,
          36,
          64,
          36,
          71,
          51,
          17,
          22,
          26,
          144,
          63,
          22,
          89,
          42,
          28,
          135,
          78,
          33,
          27,
          52,
          29,
          33,
          23,
          85,
          101,
          110,
          27,
          58,
          44,
          26,
          91,
          125,
          25,
          69,
          72,
          48,
          28,
          66,
          127,
          62,
          26,
          78,
          23,
          85,
          34,
          41,
          134,
          25,
          30,
          45,
          5,
          23,
          93,
          7,
          24,
          129,
          45,
          65,
          48,
          18,
          24,
          33,
          25,
          51,
          96,
          69,
          25,
          108,
          51,
          65,
          141,
          7,
          41,
          67,
          30,
          37,
          47,
          36,
          29,
          36,
          281,
          27,
          52,
          66,
          121,
          56,
          92,
          66,
          43,
          127,
          43,
          450,
          102,
          88,
          103,
          24,
          95,
          74,
          158,
          482,
          53,
          121,
          31,
          22,
          22,
          38,
          22,
          91,
          66,
          191,
          27,
          67,
          104,
          96,
          38,
          40,
          25,
          24,
          26,
          39,
          54,
          73,
          80,
          21,
          53,
          444,
          41,
          99,
          34,
          27,
          116,
          24,
          75,
          47,
          81,
          115,
          52,
          83,
          41,
          22,
          46,
          57,
          45,
          67,
          26,
          100,
          53,
          632,
          235,
          26,
          114,
          45,
          78,
          51,
          82,
          28,
          85,
          46,
          183,
          22,
          109,
          28,
          25,
          23,
          74,
          50,
          28,
          44,
          88,
          25,
          29,
          39,
          46,
          64,
          15,
          126,
          105,
          49,
          30,
          23,
          84,
          67,
          14,
          68,
          37,
          26,
          84,
          29,
          22,
          201,
          137,
          33,
          101,
          45,
          124,
          84,
          42,
          78,
          70,
          121,
          81,
          42,
          245,
          66,
          139,
          167,
          51,
          55,
          31,
          36,
          28,
          306,
          202,
          160,
          36,
          20,
          6,
          5,
          150,
          74,
          19,
          153,
          45,
          54,
          22,
          22,
          67,
          42,
          179,
          22,
          82,
          22,
          163,
          46,
          158,
          32,
          71,
          34,
          104,
          9,
          95,
          29,
          155,
          24,
          41,
          106,
          32,
          112,
          47,
          28,
          30,
          289,
          80,
          70,
          122,
          59,
          58,
          21,
          27,
          35,
          31,
          66,
          65,
          95,
          32,
          23,
          36,
          55,
          140,
          144,
          30,
          28,
          83,
          40,
          32,
          61,
          116,
          36,
          36,
          37,
          54,
          46,
          65,
          37,
          39,
          44,
          82,
          23,
          155,
          153,
          44,
          117,
          55,
          126,
          109,
          65,
          16,
          50,
          46,
          4,
          35,
          99,
          57,
          136,
          56,
          62,
          25,
          38,
          46,
          32,
          49,
          243,
          42,
          41,
          51,
          81,
          9,
          136,
          9,
          25,
          27,
          45,
          115,
          65,
          139,
          28,
          30,
          53,
          59,
          44,
          26,
          85,
          23,
          27,
          47,
          49,
          126,
          32,
          22,
          107,
          46,
          96,
          157,
          50,
          63,
          29,
          87,
          27,
          33,
          33,
          27,
          26,
          5,
          33,
          34,
          29,
          30,
          140,
          34,
          117,
          45,
          27,
          153,
          41,
          136,
          56,
          64,
          50,
          444,
          27,
          106,
          66,
          54,
          88,
          4,
          54,
          56,
          27,
          95,
          95,
          52,
          80,
          63,
          73,
          169,
          169,
          57,
          56,
          113,
          50,
          23,
          24,
          179,
          101,
          54,
          96,
          59,
          166,
          14,
          46,
          9,
          46,
          84,
          71,
          20,
          44,
          46,
          35,
          28,
          53,
          82,
          26,
          48,
          29,
          41,
          99,
          55,
          22,
          15,
          119,
          154,
          25,
          29,
          29,
          28,
          89,
          56,
          53,
          37,
          26,
          129,
          69,
          21,
          89,
          37,
          39,
          102,
          42,
          63,
          50,
          163,
          200,
          41,
          38,
          26,
          29,
          16,
          23,
          46,
          31,
          28,
          118,
          29,
          63,
          106,
          121,
          44,
          22,
          22,
          116,
          78,
          59,
          43,
          124,
          45,
          142,
          32,
          69,
          79,
          149,
          63,
          155,
          29,
          145,
          22,
          32,
          10,
          61,
          57,
          36,
          52,
          163,
          133,
          55,
          57,
          68,
          123,
          111,
          37,
          74,
          47,
          9,
          149,
          44,
          23,
          26,
          35,
          29,
          131,
          28,
          23,
          52,
          53,
          131,
          11,
          27,
          88,
          166,
          42,
          32,
          588,
          74,
          39,
          26,
          57,
          54,
          94,
          276,
          82,
          160,
          151,
          60,
          51,
          138,
          104,
          75,
          29,
          142,
          40,
          166,
          130,
          15,
          31,
          52,
          234,
          50,
          103,
          25,
          49,
          47,
          27,
          77,
          28,
          34,
          22,
          95,
          22,
          54,
          67,
          73,
          56,
          32,
          25,
          66,
          43,
          121,
          55,
          126,
          27,
          141,
          111,
          125,
          6,
          142,
          46,
          32,
          89,
          64,
          77,
          47,
          42,
          29,
          37,
          86,
          47,
          33,
          23,
          67,
          32,
          31,
          25,
          11,
          129,
          33,
          30,
          183,
          156,
          47,
          32,
          137,
          101,
          59,
          43,
          95,
          142,
          38,
          327,
          29,
          36,
          87,
          35,
          62,
          32,
          24,
          112,
          57,
          26,
          110,
          147,
          32,
          151,
          44,
          30,
          94,
          28,
          164,
          38,
          46,
          23,
          269,
          65,
          24,
          42,
          45,
          54,
          26,
          60,
          141,
          153,
          35,
          32,
          143,
          60,
          96,
          30,
          126,
          41,
          30,
          157,
          71,
          112,
          43,
          14,
          49,
          47,
          42,
          26,
          23,
          30,
          108,
          119,
          37,
          75,
          46,
          51,
          461,
          127,
          44,
          34,
          72,
          30,
          27,
          48,
          90,
          52,
          47,
          22,
          41,
          37,
          173,
          95,
          69,
          27,
          47,
          93,
          32,
          48,
          63,
          75,
          295,
          39,
          120,
          43,
          169,
          101,
          32,
          150,
          40,
          85,
          2,
          135,
          49,
          32,
          29,
          24,
          74,
          242,
          40,
          66,
          25,
          26,
          27,
          23,
          38,
          34,
          55,
          46,
          22,
          42,
          35,
          53,
          112,
          39,
          38,
          129,
          67,
          147,
          61,
          38,
          82,
          15,
          153,
          42,
          155,
          50,
          52,
          54,
          49,
          67,
          139,
          110,
          37,
          40,
          25,
          113,
          28,
          48,
          58,
          66,
          26,
          297,
          148,
          149,
          154,
          36,
          35,
          31,
          70,
          33,
          35,
          23,
          76,
          24,
          41,
          48,
          59,
          53,
          19,
          51,
          122,
          53,
          22,
          155,
          25,
          39,
          119,
          104,
          45,
          18,
          19,
          30,
          91,
          156,
          45,
          42,
          36,
          113,
          141,
          38,
          43,
          29,
          61,
          5,
          33,
          41,
          60,
          44,
          32,
          87,
          66,
          148,
          56,
          148,
          55,
          35,
          31,
          38,
          59,
          27,
          55,
          30,
          33,
          92,
          59,
          160,
          130,
          112,
          52,
          65,
          59,
          23,
          41,
          137,
          35,
          69,
          68,
          68,
          49,
          96,
          46,
          47,
          50,
          28,
          110,
          97,
          46,
          90,
          13,
          41,
          65,
          134,
          145,
          131,
          33,
          14,
          105,
          42,
          40,
          47,
          80,
          72,
          150,
          33,
          33,
          32,
          281,
          44,
          102,
          34,
          73,
          149,
          20,
          22,
          92,
          86,
          28,
          40,
          90,
          47,
          66,
          63,
          147,
          47,
          151,
          37,
          41,
          32,
          24,
          29,
          50,
          35,
          38,
          41,
          118,
          57,
          115,
          51,
          82,
          29,
          23,
          72,
          72,
          33,
          111,
          34,
          86,
          121,
          61,
          14,
          120,
          78,
          50,
          27,
          444,
          79,
          84,
          62,
          33,
          68,
          107,
          37,
          132,
          69,
          85,
          38,
          114,
          151,
          80,
          80,
          158,
          35,
          165,
          42,
          153,
          320,
          93,
          148,
          50,
          72,
          55,
          158,
          54,
          113,
          70,
          77,
          72,
          33,
          32,
          91,
          22,
          148,
          145,
          126,
          28,
          52,
          36,
          126,
          47,
          27,
          41,
          129,
          83,
          41,
          28,
          34,
          39,
          54,
          90,
          35,
          34,
          91,
          52,
          45,
          54,
          77,
          22,
          22,
          368,
          28,
          82,
          55,
          68,
          29,
          115,
          67,
          96,
          25,
          104,
          44,
          18,
          47,
          22,
          31,
          39,
          40,
          69,
          79,
          117,
          38,
          65,
          23,
          3,
          151,
          58,
          24,
          31,
          33,
          54,
          60,
          9,
          71,
          28,
          41,
          29,
          34,
          31,
          11,
          129,
          11,
          28,
          47,
          59,
          31,
          143,
          44,
          65,
          22,
          84,
          160,
          120,
          131,
          40,
          52,
          34,
          23,
          29,
          48,
          38,
          31,
          86,
          34,
          58,
          193,
          34,
          124,
          152,
          65,
          105,
          51,
          29,
          25,
          78,
          30,
          135,
          44,
          91,
          142,
          49,
          54,
          19,
          34,
          107,
          24,
          274,
          118,
          158,
          28,
          127,
          52,
          131,
          155,
          73,
          8,
          57,
          106,
          56,
          49,
          27,
          176,
          92,
          31,
          38,
          156,
          66,
          180,
          63,
          59,
          25,
          24,
          149,
          165,
          63,
          32,
          29,
          35,
          22,
          105,
          3,
          126,
          31,
          75,
          121,
          75,
          95,
          114,
          26,
          48,
          25,
          38,
          7,
          36,
          189,
          125,
          55,
          38,
          29,
          46,
          62,
          32,
          194,
          287,
          37,
          42,
          70,
          77,
          115,
          15,
          49,
          53,
          92,
          33,
          87,
          36,
          134,
          22,
          26,
          24,
          97,
          153,
          139,
          45,
          69,
          40,
          30,
          40,
          84,
          25,
          140,
          73,
          85,
          69,
          23,
          25,
          24,
          30,
          28,
          43,
          39,
          83,
          73,
          47,
          322,
          59,
          42,
          31,
          30,
          36,
          29,
          59,
          154,
          47,
          87,
          126,
          128,
          12,
          53,
          41,
          176,
          99,
          72,
          123,
          69,
          39,
          17,
          22,
          48,
          38,
          30,
          38,
          25,
          28,
          46,
          72,
          41,
          31,
          59,
          28,
          30,
          131,
          55,
          32,
          138,
          125,
          13,
          81,
          155,
          74,
          34,
          84,
          190,
          42,
          37,
          38,
          87,
          43,
          73,
          65,
          36,
          38,
          27,
          21,
          73,
          191,
          104,
          34,
          31,
          154,
          98,
          107,
          27,
          59,
          57,
          136,
          56,
          77,
          44,
          46,
          53,
          32,
          31,
          55,
          40,
          51,
          39,
          43,
          35,
          133,
          160,
          48,
          37,
          169,
          135,
          33,
          52,
          29,
          29,
          103,
          55,
          24,
          54,
          43,
          23,
          51,
          40,
          155,
          83,
          26,
          38,
          82,
          38,
          26,
          25,
          24,
          58,
          46,
          90,
          128,
          70,
          30,
          44,
          69,
          42,
          21,
          158,
          127,
          39,
          47,
          65,
          36,
          36,
          37,
          31,
          18,
          86,
          159,
          92,
          39,
          28,
          66,
          35,
          37,
          38,
          34,
          34,
          30,
          45,
          137,
          24,
          51,
          293,
          28,
          37,
          33,
          33,
          49,
          263,
          50,
          26,
          39,
          58,
          62,
          70,
          50,
          38,
          62,
          152,
          158,
          45,
          22,
          26,
          47,
          48,
          48,
          67,
          30,
          110,
          34,
          65,
          23,
          35,
          22,
          96,
          75,
          81,
          37,
          71,
          21,
          126,
          25,
          302,
          23,
          198,
          32,
          30,
          39,
          98,
          14,
          27,
          37,
          157,
          54,
          39,
          33,
          45,
          144,
          180,
          169,
          61,
          39,
          41,
          74,
          204,
          88,
          74,
          37,
          39,
          35,
          43,
          42,
          37,
          30,
          82,
          32,
          28,
          55,
          67,
          244,
          24,
          159,
          159,
          70,
          57,
          139,
          40,
          86,
          116,
          3,
          53,
          42,
          54,
          33,
          30,
          70,
          94,
          62,
          72,
          142,
          85,
          66,
          32,
          55,
          58,
          16,
          71,
          38,
          44,
          77,
          148,
          32,
          85,
          22,
          38,
          32,
          198,
          104,
          44,
          42,
          61,
          43,
          46,
          76,
          61,
          76,
          46,
          61,
          22,
          50,
          44,
          257,
          159,
          58,
          33,
          96,
          29,
          63,
          53,
          34,
          33,
          65,
          30,
          19,
          36,
          40,
          63,
          4,
          50,
          28,
          57,
          32,
          38,
          86,
          37,
          116,
          77,
          17,
          156,
          38,
          13,
          88,
          64,
          205,
          114,
          78,
          121,
          25,
          46,
          28,
          126,
          46,
          23,
          84,
          72,
          30,
          22,
          48,
          24,
          46,
          86,
          158,
          31,
          25,
          35,
          106,
          48,
          60,
          97,
          36,
          71,
          83,
          153,
          38,
          82,
          94,
          52,
          84,
          33,
          42,
          24,
          54,
          23,
          45,
          37,
          28,
          44,
          73,
          202,
          140,
          13,
          29,
          53,
          132,
          35,
          96,
          73,
          55,
          60,
          83,
          111,
          40,
          141,
          104,
          133,
          26,
          53,
          70,
          67,
          22,
          63,
          33,
          74,
          60,
          144,
          220,
          55,
          127,
          27,
          162,
          112,
          30,
          3,
          61,
          39,
          103,
          48,
          34,
          37,
          89,
          31,
          22,
          36,
          23,
          45,
          42,
          40,
          28,
          84,
          52,
          78,
          54,
          23,
          93,
          24,
          51,
          22,
          23,
          65,
          21,
          29,
          66,
          32,
          34,
          153,
          23,
          32,
          69,
          180,
          255,
          31,
          59,
          138,
          67,
          37,
          122,
          29,
          97,
          76,
          84,
          56,
          36,
          84,
          128,
          96,
          35,
          46,
          276,
          25,
          46,
          153,
          74,
          27,
          63,
          147,
          154,
          70,
          163,
          24,
          85,
          49,
          26,
          48,
          35,
          24,
          49,
          48,
          80,
          39,
          29,
          32,
          75,
          25,
          60,
          154,
          230,
          27,
          94,
          87,
          116,
          126,
          28,
          160,
          60,
          153,
          55,
          22,
          42,
          36,
          34,
          77,
          147,
          55,
          54,
          34,
          22,
          111,
          160,
          89,
          153,
          67,
          48,
          57,
          161,
          139,
          158,
          90,
          29,
          22,
          38,
          92,
          84,
          74,
          40,
          63,
          134,
          35,
          35,
          54,
          27,
          111,
          157,
          124,
          22,
          77,
          37,
          71,
          74,
          28,
          34,
          35,
          67,
          41,
          33,
          83,
          38,
          61,
          32,
          62,
          79,
          22,
          158,
          37,
          23,
          43,
          108,
          23,
          81,
          154,
          85,
          54,
          22,
          34,
          69,
          74,
          102,
          22,
          32,
          77,
          26,
          29,
          52,
          60,
          44,
          77,
          263,
          65,
          31,
          73,
          115,
          131,
          31,
          24,
          71,
          23,
          79,
          24,
          97,
          71,
          38,
          44,
          88,
          155,
          36,
          7,
          71,
          27,
          49,
          46,
          23,
          183,
          118,
          92,
          38,
          87,
          29,
          154,
          45,
          24,
          69,
          141,
          114,
          132,
          85,
          75,
          32,
          37,
          122,
          19,
          106,
          67,
          51,
          40,
          40,
          28,
          152,
          17,
          138,
          60,
          28,
          142,
          139,
          80,
          34,
          290,
          25,
          5,
          63,
          153,
          104,
          82,
          74,
          15,
          77,
          37,
          129,
          54,
          63,
          66,
          329,
          40,
          86,
          82,
          24,
          111,
          156,
          36,
          35,
          112,
          72,
          61,
          27,
          30,
          46,
          32,
          43,
          154,
          55,
          27,
          35,
          39,
          70,
          115,
          68,
          29,
          27,
          34,
          66,
          21,
          139,
          150,
          49,
          19,
          40,
          113,
          44,
          51,
          156,
          33,
          157,
          32,
          46,
          142,
          36,
          117,
          94,
          52,
          180,
          39,
          87,
          47,
          70,
          121,
          14,
          142,
          23,
          64,
          25,
          45,
          36,
          101,
          38,
          142,
          51,
          163,
          146,
          27,
          41,
          25,
          151,
          85,
          30,
          60,
          74,
          61,
          22,
          408,
          56,
          31,
          45,
          138,
          22,
          38,
          53,
          93,
          283,
          36,
          60,
          36,
          154,
          103,
          65,
          149,
          200,
          26,
          124,
          31,
          65,
          39,
          83,
          42,
          35,
          23,
          41,
          72,
          66,
          43,
          46,
          116,
          56,
          55,
          166,
          29,
          96,
          36,
          49,
          61,
          39,
          141,
          30,
          30,
          31,
          73,
          25,
          29,
          381,
          69,
          26,
          36,
          278,
          68,
          50,
          89,
          237,
          236,
          95,
          85,
          44,
          99,
          23,
          145,
          26,
          160,
          97,
          39,
          24,
          33,
          76,
          49,
          15,
          22,
          51,
          28,
          69,
          159,
          44,
          24,
          20,
          126,
          41,
          40,
          162,
          171,
          28,
          62,
          71,
          109,
          135,
          2,
          17,
          21,
          25,
          23,
          74,
          26,
          149,
          24,
          30,
          62,
          132,
          43,
          42,
          58,
          125,
          94,
          104,
          94,
          39,
          26,
          60,
          22,
          158,
          58,
          120,
          47,
          110,
          205,
          73,
          31,
          29,
          152,
          42,
          48,
          137,
          105,
          155,
          45,
          35,
          78,
          159,
          126,
          49,
          73,
          166,
          50,
          142,
          120,
          54,
          153,
          23,
          52,
          90,
          23,
          24,
          156,
          25,
          73,
          34,
          158,
          208,
          56,
          112,
          35,
          34,
          30,
          24,
          46,
          34,
          142,
          75,
          95,
          77,
          79,
          229,
          44,
          117,
          70,
          53,
          106,
          30,
          86,
          38,
          67,
          39,
          97,
          30,
          73,
          35,
          72,
          134,
          106,
          35,
          22,
          31,
          19,
          54,
          29,
          101,
          22,
          89,
          75,
          34,
          27,
          34,
          37,
          172,
          52,
          24,
          54,
          56,
          41,
          89,
          34,
          43,
          43,
          43,
          26,
          55,
          66,
          55,
          49,
          7,
          27,
          28,
          33,
          157,
          38,
          159,
          139,
          22,
          48,
          32,
          80,
          26,
          106,
          51,
          56,
          13,
          33,
          30,
          31,
          35,
          24,
          26,
          49,
          70,
          59,
          64,
          109,
          25,
          24,
          36,
          55,
          36,
          66,
          25,
          37,
          44,
          160,
          63,
          33,
          17,
          40,
          43,
          10,
          51,
          154,
          113,
          147,
          50,
          64,
          26,
          9,
          22,
          10,
          124,
          32,
          24,
          95,
          35,
          59,
          73,
          88,
          77,
          64,
          76,
          55,
          26,
          112,
          77,
          53,
          102,
          79,
          42,
          59,
          32,
          70,
          70,
          124,
          21,
          77,
          25,
          36,
          75,
          36,
          48,
          175,
          237,
          23,
          105,
          62,
          37,
          52,
          22,
          42,
          79,
          133,
          91,
          99,
          62,
          34,
          40,
          157,
          133,
          56,
          93,
          31,
          26,
          83,
          76,
          22,
          42,
          120,
          62,
          24,
          158,
          46,
          61,
          156,
          53,
          73,
          87,
          74,
          58,
          80,
          32,
          147,
          51,
          45,
          29,
          157,
          56,
          68,
          22,
          22,
          84,
          43,
          62,
          46,
          47,
          151,
          240,
          45,
          30,
          114,
          32,
          43,
          110,
          201,
          151,
          86,
          46,
          41,
          84,
          29,
          98,
          86,
          15,
          37,
          42,
          7,
          111,
          42,
          29,
          68,
          62,
          69,
          145,
          38,
          46,
          29,
          121,
          33,
          42,
          89,
          74,
          71,
          45,
          37,
          33,
          54,
          69,
          43,
          81,
          53,
          76,
          22,
          27,
          109,
          12,
          44,
          58,
          5,
          121,
          80,
          22,
          58,
          40,
          299,
          39,
          92,
          158,
          82,
          35,
          66,
          27,
          32,
          85,
          126,
          75,
          92,
          27,
          35,
          145,
          113,
          31,
          22,
          166,
          276,
          171,
          76,
          158,
          22,
          24,
          44,
          51,
          44,
          47,
          44,
          36,
          415,
          32,
          22,
          40,
          24,
          160,
          80,
          27,
          237,
          134,
          33,
          80,
          45,
          48,
          148,
          156,
          38,
          49,
          38,
          48,
          22,
          98,
          149,
          37,
          22,
          33,
          83,
          24,
          38,
          129,
          85,
          46,
          87,
          106,
          95,
          86,
          107,
          40,
          33,
          146,
          136,
          100,
          64,
          73,
          146,
          39,
          32,
          65,
          41,
          152,
          9,
          34,
          66,
          133,
          125,
          132,
          44,
          42,
          142,
          62,
          54,
          54,
          56,
          90,
          111,
          22,
          22,
          57,
          24,
          38,
          32,
          70,
          25,
          96,
          97,
          27,
          9,
          42,
          61,
          51,
          28,
          22,
          26,
          78,
          51,
          42,
          247,
          81,
          15,
          28,
          28,
          78,
          60,
          59,
          59,
          146,
          73,
          47,
          152,
          31,
          66,
          19,
          57,
          100,
          22,
          44,
          67,
          84,
          48,
          43,
          69,
          27,
          72,
          28,
          133,
          98,
          70,
          41,
          111,
          97,
          89,
          31,
          89,
          143,
          43,
          46,
          111,
          27,
          175,
          42,
          138,
          50,
          30,
          49,
          91,
          36,
          30,
          63,
          119,
          26,
          82,
          23,
          53,
          66,
          62,
          74,
          93,
          29,
          43,
          119,
          256,
          51,
          21,
          51,
          85,
          94,
          22,
          31,
          24,
          46,
          65,
          32,
          120,
          36,
          71,
          70,
          166,
          32,
          41,
          98,
          450,
          150,
          47,
          57,
          154,
          33,
          27,
          91,
          39,
          53,
          88,
          28,
          43,
          32,
          73,
          30,
          154,
          107,
          101,
          31,
          49,
          281,
          37,
          70,
          114,
          116,
          47,
          27,
          87,
          88,
          228,
          102,
          133,
          88,
          36,
          77,
          104,
          87,
          28,
          130,
          79,
          184,
          53,
          31,
          85,
          77,
          23,
          76,
          28,
          30,
          75,
          36,
          23,
          33,
          99,
          24,
          67,
          24,
          85,
          28,
          46,
          4,
          55,
          93,
          70,
          86,
          101,
          157,
          49,
          25,
          35,
          48,
          43,
          27,
          18,
          4,
          22,
          69,
          37,
          39,
          134,
          85,
          116,
          42,
          40,
          23,
          61,
          43,
          109,
          30,
          329,
          91,
          31,
          29,
          22,
          40,
          29,
          38,
          41,
          51,
          35,
          89,
          51,
          40,
          112,
          141,
          45,
          71,
          35,
          29,
          143,
          48,
          21,
          98,
          136,
          32,
          43,
          48,
          25,
          19,
          133,
          66,
          58,
          119,
          53,
          38,
          45,
          99,
          77,
          55,
          23,
          21,
          33,
          46,
          23,
          82,
          127,
          74,
          23,
          65,
          278,
          26,
          152,
          45,
          3,
          51,
          45,
          152,
          42,
          101,
          29,
          63,
          168,
          125,
          35,
          38,
          49,
          31,
          24,
          40,
          113,
          119,
          50,
          23,
          47,
          38,
          51,
          32,
          125,
          36,
          55,
          23,
          35,
          87,
          71,
          94,
          99,
          51,
          23,
          162,
          82,
          32,
          146,
          121,
          40,
          27,
          28,
          97,
          159,
          28,
          36,
          64,
          30,
          26,
          189,
          160,
          26,
          29,
          24,
          29,
          47,
          72,
          37,
          125,
          52,
          192,
          126,
          39,
          25,
          35,
          33,
          38,
          77,
          38,
          17,
          130,
          133,
          40,
          11,
          45,
          67,
          40,
          84,
          100,
          145,
          30,
          2,
          125,
          133,
          56,
          42,
          70,
          50,
          135,
          46,
          38,
          46,
          44,
          212,
          51,
          116,
          80,
          48,
          64,
          88,
          161,
          147,
          24,
          101,
          40,
          36,
          26,
          23,
          59,
          104,
          41,
          50,
          40,
          29,
          49,
          45,
          163,
          86,
          129,
          40,
          69,
          28,
          34,
          162,
          23,
          39,
          82,
          36,
          80,
          81,
          10,
          90,
          112,
          40,
          72,
          82,
          37,
          40,
          39,
          22,
          84,
          40,
          45,
          32,
          97,
          102,
          34,
          22,
          51,
          59,
          33,
          26,
          28,
          36,
          44,
          45,
          90,
          99,
          70,
          68,
          104,
          37,
          51,
          23,
          251,
          40,
          38,
          44,
          101,
          27,
          22,
          120,
          51,
          17,
          49,
          89,
          7,
          26,
          3,
          79,
          35,
          122,
          54,
          74,
          50,
          25,
          61,
          35,
          31,
          79,
          169,
          135,
          33,
          23,
          43,
          23,
          65,
          65,
          155,
          118,
          58,
          34,
          45,
          155,
          36,
          82,
          40,
          127,
          149,
          38,
          58,
          61,
          24,
          39,
          25,
          69,
          33,
          245,
          139,
          166,
          122,
          56,
          32,
          35,
          35,
          23,
          103,
          68,
          49,
          25,
          64,
          60,
          40,
          113,
          28,
          329,
          54,
          158,
          26,
          21,
          40,
          38,
          154,
          45,
          42,
          34,
          87,
          43,
          51,
          91,
          27,
          98,
          153,
          63,
          273,
          22,
          66,
          33,
          70,
          96,
          19,
          67,
          12,
          37,
          57,
          125,
          26
         ],
         "xaxis": "x2",
         "yaxis": "y2"
        },
        {
         "alignmentgroup": "True",
         "bingroup": "x",
         "hovertemplate": "Target=1<br>Messages_Length=%{x}<br>count=%{y}<extra></extra>",
         "legendgroup": "1",
         "marker": {
          "color": "#EF553B",
          "pattern": {
           "shape": ""
          }
         },
         "name": "1",
         "offsetgroup": "1",
         "opacity": 0.8,
         "orientation": "v",
         "showlegend": true,
         "type": "histogram",
         "x": [
          155,
          148,
          158,
          154,
          136,
          156,
          149,
          156,
          159,
          172,
          120,
          161,
          153,
          161,
          80,
          139,
          125,
          159,
          153,
          144,
          157,
          156,
          126,
          162,
          155,
          159,
          124,
          146,
          152,
          155,
          157,
          149,
          72,
          143,
          137,
          157,
          145,
          150,
          154,
          121,
          159,
          133,
          155,
          159,
          146,
          138,
          134,
          157,
          128,
          159,
          111,
          150,
          148,
          165,
          129,
          157,
          149,
          155,
          158,
          49,
          107,
          159,
          162,
          137,
          157,
          164,
          175,
          161,
          159,
          146,
          160,
          170,
          148,
          146,
          89,
          145,
          160,
          111,
          146,
          96,
          160,
          69,
          100,
          149,
          127,
          142,
          148,
          86,
          135,
          140,
          130,
          150,
          143,
          136,
          97,
          59,
          42,
          154,
          158,
          111,
          155,
          160,
          37,
          163,
          147,
          101,
          149,
          132,
          102,
          65,
          96,
          161,
          151,
          99,
          129,
          158,
          160,
          154,
          162,
          143,
          150,
          133,
          156,
          161,
          147,
          152,
          149,
          155,
          162,
          153,
          160,
          144,
          161,
          149,
          134,
          154,
          158,
          137,
          132,
          143,
          127,
          125,
          162,
          155,
          140,
          159,
          149,
          132,
          137,
          41,
          157,
          141,
          149,
          150,
          158,
          156,
          101,
          104,
          135,
          153,
          143,
          134,
          157,
          90,
          153,
          147,
          142,
          159,
          70,
          156,
          153,
          156,
          105,
          120,
          158,
          115,
          140,
          155,
          159,
          155,
          49,
          147,
          148,
          50,
          143,
          146,
          159,
          123,
          81,
          120,
          147,
          66,
          163,
          155,
          140,
          126,
          155,
          101,
          151,
          154,
          159,
          143,
          163,
          143,
          152,
          71,
          141,
          142,
          159,
          154,
          81,
          153,
          159,
          161,
          130,
          154,
          122,
          121,
          157,
          159,
          150,
          156,
          145,
          149,
          136,
          146,
          144,
          153,
          132,
          71,
          147,
          161,
          91,
          160,
          123,
          148,
          160,
          158,
          73,
          174,
          114,
          126,
          148,
          145,
          138,
          224,
          159,
          155,
          143,
          162,
          33,
          154,
          164,
          154,
          132,
          156,
          151,
          161,
          158,
          154,
          117,
          84,
          155,
          132,
          155,
          153,
          163,
          156,
          143,
          158,
          145,
          142,
          160,
          162,
          156,
          74,
          133,
          104,
          153,
          129,
          143,
          120,
          158,
          155,
          152,
          159,
          162,
          149,
          161,
          30,
          156,
          161,
          144,
          159,
          155,
          159,
          161,
          160,
          170,
          137,
          154,
          161,
          147,
          158,
          152,
          159,
          161,
          156,
          157,
          181,
          160,
          157,
          155,
          160,
          122,
          33,
          159,
          48,
          183,
          160,
          147,
          162,
          151,
          158,
          114,
          167,
          160,
          120,
          82,
          149,
          162,
          158,
          158,
          109,
          161,
          152,
          158,
          152,
          158,
          152,
          122,
          161,
          116,
          168,
          150,
          158,
          100,
          101,
          156,
          70,
          160,
          153,
          134,
          131,
          153,
          137,
          156,
          173,
          109,
          154,
          147,
          130,
          165,
          163,
          130,
          136,
          158,
          153,
          158,
          25,
          156,
          160,
          118,
          135,
          154,
          166,
          158,
          155,
          141,
          124,
          124,
          131,
          33,
          158,
          160,
          137,
          152,
          158,
          160,
          111,
          157,
          151,
          52,
          152,
          140,
          154,
          163,
          139,
          137,
          148,
          48,
          100,
          120,
          147,
          135,
          159,
          107,
          147,
          122,
          134,
          111,
          164,
          110,
          152,
          153,
          141,
          147,
          121,
          140,
          112,
          143,
          139,
          156,
          144,
          145,
          160,
          152,
          101,
          114,
          159,
          153,
          148,
          159,
          157,
          136,
          142,
          157,
          173,
          50,
          139,
          105,
          157,
          134,
          40,
          146,
          140,
          78,
          150,
          160,
          81,
          127,
          153,
          157,
          136,
          157,
          153,
          64,
          160,
          158,
          161,
          106,
          139,
          153,
          153,
          101,
          157,
          148,
          140,
          161,
          156,
          150,
          157,
          152,
          162,
          157,
          68,
          133,
          134,
          145,
          149,
          143,
          155,
          157,
          115,
          166,
          157,
          152,
          128,
          156,
          150,
          179,
          159,
          114,
          197,
          156,
          13,
          147,
          101,
          109,
          158,
          137,
          159,
          86,
          155,
          156,
          158,
          159,
          120,
          162,
          162,
          152,
          139,
          109,
          107,
          96,
          151,
          151,
          153,
          121,
          128,
          145,
          86,
          158,
          102,
          114,
          138,
          135,
          146,
          160,
          18,
          63,
          137,
          95,
          143,
          159,
          161,
          149,
          73,
          159,
          159,
          149,
          47,
          156,
          156,
          159,
          149,
          141,
          106,
          114,
          154,
          148,
          135,
          167,
          132,
          122,
          141,
          157,
          152,
          146,
          160,
          161,
          144,
          154,
          112,
          157,
          144,
          149,
          158,
          155,
          148,
          157,
          72,
          157,
          160,
          135,
          105,
          74,
          157,
          152,
          136,
          163,
          158,
          74,
          155,
          81,
          138,
          162,
          134,
          161,
          145,
          163,
          126,
          135,
          133,
          146,
          144,
          156,
          72,
          132,
          83,
          137,
          161,
          151,
          47,
          65,
          125,
          158,
          73,
          51,
          161,
          163,
          160,
          143,
          156,
          148,
          115,
          159,
          152,
          127,
          158,
          159,
          156,
          144,
          108,
          139,
          166,
          143,
          155,
          158,
          136,
          152,
          160,
          155,
          132,
          153,
          143,
          154,
          106,
          160,
          155,
          144,
          139,
          89,
          147,
          136,
          158,
          153,
          69,
          152,
          153,
          135,
          136,
          159,
          95,
          137,
          147,
          150,
          132,
          146,
          134,
          181,
          155,
          153,
          159,
          124,
          120,
          137,
          140,
          153,
          160,
          137,
          138,
          177,
          169,
          156,
          154,
          146,
          133,
          126,
          149,
          135,
          109,
          159,
          145,
          132,
          160,
          137,
          132,
          158,
          149,
          153,
          47,
          159,
          156,
          44,
          164,
          162,
          156,
          160,
          119,
          142,
          156,
          150,
          151,
          164,
          160,
          136,
          146,
          159,
          155,
          127,
          145,
          144,
          156,
          155,
          157,
          157,
          156,
          112,
          106,
          157,
          156,
          139,
          90,
          160,
          42,
          106,
          163,
          70,
          112,
          157,
          147,
          85,
          156,
          143,
          149,
          145,
          161,
          158,
          148,
          153,
          134,
          90,
          160,
          160,
          147,
          161
         ],
         "xaxis": "x",
         "yaxis": "y"
        },
        {
         "alignmentgroup": "True",
         "hovertemplate": "Target=1<br>Messages_Length=%{x}<extra></extra>",
         "legendgroup": "1",
         "marker": {
          "color": "#EF553B"
         },
         "name": "1",
         "notched": true,
         "offsetgroup": "1",
         "opacity": 0.8,
         "showlegend": false,
         "type": "box",
         "x": [
          155,
          148,
          158,
          154,
          136,
          156,
          149,
          156,
          159,
          172,
          120,
          161,
          153,
          161,
          80,
          139,
          125,
          159,
          153,
          144,
          157,
          156,
          126,
          162,
          155,
          159,
          124,
          146,
          152,
          155,
          157,
          149,
          72,
          143,
          137,
          157,
          145,
          150,
          154,
          121,
          159,
          133,
          155,
          159,
          146,
          138,
          134,
          157,
          128,
          159,
          111,
          150,
          148,
          165,
          129,
          157,
          149,
          155,
          158,
          49,
          107,
          159,
          162,
          137,
          157,
          164,
          175,
          161,
          159,
          146,
          160,
          170,
          148,
          146,
          89,
          145,
          160,
          111,
          146,
          96,
          160,
          69,
          100,
          149,
          127,
          142,
          148,
          86,
          135,
          140,
          130,
          150,
          143,
          136,
          97,
          59,
          42,
          154,
          158,
          111,
          155,
          160,
          37,
          163,
          147,
          101,
          149,
          132,
          102,
          65,
          96,
          161,
          151,
          99,
          129,
          158,
          160,
          154,
          162,
          143,
          150,
          133,
          156,
          161,
          147,
          152,
          149,
          155,
          162,
          153,
          160,
          144,
          161,
          149,
          134,
          154,
          158,
          137,
          132,
          143,
          127,
          125,
          162,
          155,
          140,
          159,
          149,
          132,
          137,
          41,
          157,
          141,
          149,
          150,
          158,
          156,
          101,
          104,
          135,
          153,
          143,
          134,
          157,
          90,
          153,
          147,
          142,
          159,
          70,
          156,
          153,
          156,
          105,
          120,
          158,
          115,
          140,
          155,
          159,
          155,
          49,
          147,
          148,
          50,
          143,
          146,
          159,
          123,
          81,
          120,
          147,
          66,
          163,
          155,
          140,
          126,
          155,
          101,
          151,
          154,
          159,
          143,
          163,
          143,
          152,
          71,
          141,
          142,
          159,
          154,
          81,
          153,
          159,
          161,
          130,
          154,
          122,
          121,
          157,
          159,
          150,
          156,
          145,
          149,
          136,
          146,
          144,
          153,
          132,
          71,
          147,
          161,
          91,
          160,
          123,
          148,
          160,
          158,
          73,
          174,
          114,
          126,
          148,
          145,
          138,
          224,
          159,
          155,
          143,
          162,
          33,
          154,
          164,
          154,
          132,
          156,
          151,
          161,
          158,
          154,
          117,
          84,
          155,
          132,
          155,
          153,
          163,
          156,
          143,
          158,
          145,
          142,
          160,
          162,
          156,
          74,
          133,
          104,
          153,
          129,
          143,
          120,
          158,
          155,
          152,
          159,
          162,
          149,
          161,
          30,
          156,
          161,
          144,
          159,
          155,
          159,
          161,
          160,
          170,
          137,
          154,
          161,
          147,
          158,
          152,
          159,
          161,
          156,
          157,
          181,
          160,
          157,
          155,
          160,
          122,
          33,
          159,
          48,
          183,
          160,
          147,
          162,
          151,
          158,
          114,
          167,
          160,
          120,
          82,
          149,
          162,
          158,
          158,
          109,
          161,
          152,
          158,
          152,
          158,
          152,
          122,
          161,
          116,
          168,
          150,
          158,
          100,
          101,
          156,
          70,
          160,
          153,
          134,
          131,
          153,
          137,
          156,
          173,
          109,
          154,
          147,
          130,
          165,
          163,
          130,
          136,
          158,
          153,
          158,
          25,
          156,
          160,
          118,
          135,
          154,
          166,
          158,
          155,
          141,
          124,
          124,
          131,
          33,
          158,
          160,
          137,
          152,
          158,
          160,
          111,
          157,
          151,
          52,
          152,
          140,
          154,
          163,
          139,
          137,
          148,
          48,
          100,
          120,
          147,
          135,
          159,
          107,
          147,
          122,
          134,
          111,
          164,
          110,
          152,
          153,
          141,
          147,
          121,
          140,
          112,
          143,
          139,
          156,
          144,
          145,
          160,
          152,
          101,
          114,
          159,
          153,
          148,
          159,
          157,
          136,
          142,
          157,
          173,
          50,
          139,
          105,
          157,
          134,
          40,
          146,
          140,
          78,
          150,
          160,
          81,
          127,
          153,
          157,
          136,
          157,
          153,
          64,
          160,
          158,
          161,
          106,
          139,
          153,
          153,
          101,
          157,
          148,
          140,
          161,
          156,
          150,
          157,
          152,
          162,
          157,
          68,
          133,
          134,
          145,
          149,
          143,
          155,
          157,
          115,
          166,
          157,
          152,
          128,
          156,
          150,
          179,
          159,
          114,
          197,
          156,
          13,
          147,
          101,
          109,
          158,
          137,
          159,
          86,
          155,
          156,
          158,
          159,
          120,
          162,
          162,
          152,
          139,
          109,
          107,
          96,
          151,
          151,
          153,
          121,
          128,
          145,
          86,
          158,
          102,
          114,
          138,
          135,
          146,
          160,
          18,
          63,
          137,
          95,
          143,
          159,
          161,
          149,
          73,
          159,
          159,
          149,
          47,
          156,
          156,
          159,
          149,
          141,
          106,
          114,
          154,
          148,
          135,
          167,
          132,
          122,
          141,
          157,
          152,
          146,
          160,
          161,
          144,
          154,
          112,
          157,
          144,
          149,
          158,
          155,
          148,
          157,
          72,
          157,
          160,
          135,
          105,
          74,
          157,
          152,
          136,
          163,
          158,
          74,
          155,
          81,
          138,
          162,
          134,
          161,
          145,
          163,
          126,
          135,
          133,
          146,
          144,
          156,
          72,
          132,
          83,
          137,
          161,
          151,
          47,
          65,
          125,
          158,
          73,
          51,
          161,
          163,
          160,
          143,
          156,
          148,
          115,
          159,
          152,
          127,
          158,
          159,
          156,
          144,
          108,
          139,
          166,
          143,
          155,
          158,
          136,
          152,
          160,
          155,
          132,
          153,
          143,
          154,
          106,
          160,
          155,
          144,
          139,
          89,
          147,
          136,
          158,
          153,
          69,
          152,
          153,
          135,
          136,
          159,
          95,
          137,
          147,
          150,
          132,
          146,
          134,
          181,
          155,
          153,
          159,
          124,
          120,
          137,
          140,
          153,
          160,
          137,
          138,
          177,
          169,
          156,
          154,
          146,
          133,
          126,
          149,
          135,
          109,
          159,
          145,
          132,
          160,
          137,
          132,
          158,
          149,
          153,
          47,
          159,
          156,
          44,
          164,
          162,
          156,
          160,
          119,
          142,
          156,
          150,
          151,
          164,
          160,
          136,
          146,
          159,
          155,
          127,
          145,
          144,
          156,
          155,
          157,
          157,
          156,
          112,
          106,
          157,
          156,
          139,
          90,
          160,
          42,
          106,
          163,
          70,
          112,
          157,
          147,
          85,
          156,
          143,
          149,
          145,
          161,
          158,
          148,
          153,
          134,
          90,
          160,
          160,
          147,
          161
         ],
         "xaxis": "x2",
         "yaxis": "y2"
        }
       ],
       "layout": {
        "barmode": "overlay",
        "height": 650,
        "legend": {
         "title": {
          "text": "Target"
         },
         "tracegroupgap": 0
        },
        "margin": {
         "t": 60
        },
        "template": {
         "data": {
          "bar": [
           {
            "error_x": {
             "color": "#2a3f5f"
            },
            "error_y": {
             "color": "#2a3f5f"
            },
            "marker": {
             "line": {
              "color": "#E5ECF6",
              "width": 0.5
             },
             "pattern": {
              "fillmode": "overlay",
              "size": 10,
              "solidity": 0.2
             }
            },
            "type": "bar"
           }
          ],
          "barpolar": [
           {
            "marker": {
             "line": {
              "color": "#E5ECF6",
              "width": 0.5
             },
             "pattern": {
              "fillmode": "overlay",
              "size": 10,
              "solidity": 0.2
             }
            },
            "type": "barpolar"
           }
          ],
          "carpet": [
           {
            "aaxis": {
             "endlinecolor": "#2a3f5f",
             "gridcolor": "white",
             "linecolor": "white",
             "minorgridcolor": "white",
             "startlinecolor": "#2a3f5f"
            },
            "baxis": {
             "endlinecolor": "#2a3f5f",
             "gridcolor": "white",
             "linecolor": "white",
             "minorgridcolor": "white",
             "startlinecolor": "#2a3f5f"
            },
            "type": "carpet"
           }
          ],
          "choropleth": [
           {
            "colorbar": {
             "outlinewidth": 0,
             "ticks": ""
            },
            "type": "choropleth"
           }
          ],
          "contour": [
           {
            "colorbar": {
             "outlinewidth": 0,
             "ticks": ""
            },
            "colorscale": [
             [
              0,
              "#0d0887"
             ],
             [
              0.1111111111111111,
              "#46039f"
             ],
             [
              0.2222222222222222,
              "#7201a8"
             ],
             [
              0.3333333333333333,
              "#9c179e"
             ],
             [
              0.4444444444444444,
              "#bd3786"
             ],
             [
              0.5555555555555556,
              "#d8576b"
             ],
             [
              0.6666666666666666,
              "#ed7953"
             ],
             [
              0.7777777777777778,
              "#fb9f3a"
             ],
             [
              0.8888888888888888,
              "#fdca26"
             ],
             [
              1,
              "#f0f921"
             ]
            ],
            "type": "contour"
           }
          ],
          "contourcarpet": [
           {
            "colorbar": {
             "outlinewidth": 0,
             "ticks": ""
            },
            "type": "contourcarpet"
           }
          ],
          "heatmap": [
           {
            "colorbar": {
             "outlinewidth": 0,
             "ticks": ""
            },
            "colorscale": [
             [
              0,
              "#0d0887"
             ],
             [
              0.1111111111111111,
              "#46039f"
             ],
             [
              0.2222222222222222,
              "#7201a8"
             ],
             [
              0.3333333333333333,
              "#9c179e"
             ],
             [
              0.4444444444444444,
              "#bd3786"
             ],
             [
              0.5555555555555556,
              "#d8576b"
             ],
             [
              0.6666666666666666,
              "#ed7953"
             ],
             [
              0.7777777777777778,
              "#fb9f3a"
             ],
             [
              0.8888888888888888,
              "#fdca26"
             ],
             [
              1,
              "#f0f921"
             ]
            ],
            "type": "heatmap"
           }
          ],
          "heatmapgl": [
           {
            "colorbar": {
             "outlinewidth": 0,
             "ticks": ""
            },
            "colorscale": [
             [
              0,
              "#0d0887"
             ],
             [
              0.1111111111111111,
              "#46039f"
             ],
             [
              0.2222222222222222,
              "#7201a8"
             ],
             [
              0.3333333333333333,
              "#9c179e"
             ],
             [
              0.4444444444444444,
              "#bd3786"
             ],
             [
              0.5555555555555556,
              "#d8576b"
             ],
             [
              0.6666666666666666,
              "#ed7953"
             ],
             [
              0.7777777777777778,
              "#fb9f3a"
             ],
             [
              0.8888888888888888,
              "#fdca26"
             ],
             [
              1,
              "#f0f921"
             ]
            ],
            "type": "heatmapgl"
           }
          ],
          "histogram": [
           {
            "marker": {
             "pattern": {
              "fillmode": "overlay",
              "size": 10,
              "solidity": 0.2
             }
            },
            "type": "histogram"
           }
          ],
          "histogram2d": [
           {
            "colorbar": {
             "outlinewidth": 0,
             "ticks": ""
            },
            "colorscale": [
             [
              0,
              "#0d0887"
             ],
             [
              0.1111111111111111,
              "#46039f"
             ],
             [
              0.2222222222222222,
              "#7201a8"
             ],
             [
              0.3333333333333333,
              "#9c179e"
             ],
             [
              0.4444444444444444,
              "#bd3786"
             ],
             [
              0.5555555555555556,
              "#d8576b"
             ],
             [
              0.6666666666666666,
              "#ed7953"
             ],
             [
              0.7777777777777778,
              "#fb9f3a"
             ],
             [
              0.8888888888888888,
              "#fdca26"
             ],
             [
              1,
              "#f0f921"
             ]
            ],
            "type": "histogram2d"
           }
          ],
          "histogram2dcontour": [
           {
            "colorbar": {
             "outlinewidth": 0,
             "ticks": ""
            },
            "colorscale": [
             [
              0,
              "#0d0887"
             ],
             [
              0.1111111111111111,
              "#46039f"
             ],
             [
              0.2222222222222222,
              "#7201a8"
             ],
             [
              0.3333333333333333,
              "#9c179e"
             ],
             [
              0.4444444444444444,
              "#bd3786"
             ],
             [
              0.5555555555555556,
              "#d8576b"
             ],
             [
              0.6666666666666666,
              "#ed7953"
             ],
             [
              0.7777777777777778,
              "#fb9f3a"
             ],
             [
              0.8888888888888888,
              "#fdca26"
             ],
             [
              1,
              "#f0f921"
             ]
            ],
            "type": "histogram2dcontour"
           }
          ],
          "mesh3d": [
           {
            "colorbar": {
             "outlinewidth": 0,
             "ticks": ""
            },
            "type": "mesh3d"
           }
          ],
          "parcoords": [
           {
            "line": {
             "colorbar": {
              "outlinewidth": 0,
              "ticks": ""
             }
            },
            "type": "parcoords"
           }
          ],
          "pie": [
           {
            "automargin": true,
            "type": "pie"
           }
          ],
          "scatter": [
           {
            "fillpattern": {
             "fillmode": "overlay",
             "size": 10,
             "solidity": 0.2
            },
            "type": "scatter"
           }
          ],
          "scatter3d": [
           {
            "line": {
             "colorbar": {
              "outlinewidth": 0,
              "ticks": ""
             }
            },
            "marker": {
             "colorbar": {
              "outlinewidth": 0,
              "ticks": ""
             }
            },
            "type": "scatter3d"
           }
          ],
          "scattercarpet": [
           {
            "marker": {
             "colorbar": {
              "outlinewidth": 0,
              "ticks": ""
             }
            },
            "type": "scattercarpet"
           }
          ],
          "scattergeo": [
           {
            "marker": {
             "colorbar": {
              "outlinewidth": 0,
              "ticks": ""
             }
            },
            "type": "scattergeo"
           }
          ],
          "scattergl": [
           {
            "marker": {
             "colorbar": {
              "outlinewidth": 0,
              "ticks": ""
             }
            },
            "type": "scattergl"
           }
          ],
          "scattermapbox": [
           {
            "marker": {
             "colorbar": {
              "outlinewidth": 0,
              "ticks": ""
             }
            },
            "type": "scattermapbox"
           }
          ],
          "scatterpolar": [
           {
            "marker": {
             "colorbar": {
              "outlinewidth": 0,
              "ticks": ""
             }
            },
            "type": "scatterpolar"
           }
          ],
          "scatterpolargl": [
           {
            "marker": {
             "colorbar": {
              "outlinewidth": 0,
              "ticks": ""
             }
            },
            "type": "scatterpolargl"
           }
          ],
          "scatterternary": [
           {
            "marker": {
             "colorbar": {
              "outlinewidth": 0,
              "ticks": ""
             }
            },
            "type": "scatterternary"
           }
          ],
          "surface": [
           {
            "colorbar": {
             "outlinewidth": 0,
             "ticks": ""
            },
            "colorscale": [
             [
              0,
              "#0d0887"
             ],
             [
              0.1111111111111111,
              "#46039f"
             ],
             [
              0.2222222222222222,
              "#7201a8"
             ],
             [
              0.3333333333333333,
              "#9c179e"
             ],
             [
              0.4444444444444444,
              "#bd3786"
             ],
             [
              0.5555555555555556,
              "#d8576b"
             ],
             [
              0.6666666666666666,
              "#ed7953"
             ],
             [
              0.7777777777777778,
              "#fb9f3a"
             ],
             [
              0.8888888888888888,
              "#fdca26"
             ],
             [
              1,
              "#f0f921"
             ]
            ],
            "type": "surface"
           }
          ],
          "table": [
           {
            "cells": {
             "fill": {
              "color": "#EBF0F8"
             },
             "line": {
              "color": "white"
             }
            },
            "header": {
             "fill": {
              "color": "#C8D4E3"
             },
             "line": {
              "color": "white"
             }
            },
            "type": "table"
           }
          ]
         },
         "layout": {
          "annotationdefaults": {
           "arrowcolor": "#2a3f5f",
           "arrowhead": 0,
           "arrowwidth": 1
          },
          "autotypenumbers": "strict",
          "coloraxis": {
           "colorbar": {
            "outlinewidth": 0,
            "ticks": ""
           }
          },
          "colorscale": {
           "diverging": [
            [
             0,
             "#8e0152"
            ],
            [
             0.1,
             "#c51b7d"
            ],
            [
             0.2,
             "#de77ae"
            ],
            [
             0.3,
             "#f1b6da"
            ],
            [
             0.4,
             "#fde0ef"
            ],
            [
             0.5,
             "#f7f7f7"
            ],
            [
             0.6,
             "#e6f5d0"
            ],
            [
             0.7,
             "#b8e186"
            ],
            [
             0.8,
             "#7fbc41"
            ],
            [
             0.9,
             "#4d9221"
            ],
            [
             1,
             "#276419"
            ]
           ],
           "sequential": [
            [
             0,
             "#0d0887"
            ],
            [
             0.1111111111111111,
             "#46039f"
            ],
            [
             0.2222222222222222,
             "#7201a8"
            ],
            [
             0.3333333333333333,
             "#9c179e"
            ],
            [
             0.4444444444444444,
             "#bd3786"
            ],
            [
             0.5555555555555556,
             "#d8576b"
            ],
            [
             0.6666666666666666,
             "#ed7953"
            ],
            [
             0.7777777777777778,
             "#fb9f3a"
            ],
            [
             0.8888888888888888,
             "#fdca26"
            ],
            [
             1,
             "#f0f921"
            ]
           ],
           "sequentialminus": [
            [
             0,
             "#0d0887"
            ],
            [
             0.1111111111111111,
             "#46039f"
            ],
            [
             0.2222222222222222,
             "#7201a8"
            ],
            [
             0.3333333333333333,
             "#9c179e"
            ],
            [
             0.4444444444444444,
             "#bd3786"
            ],
            [
             0.5555555555555556,
             "#d8576b"
            ],
            [
             0.6666666666666666,
             "#ed7953"
            ],
            [
             0.7777777777777778,
             "#fb9f3a"
            ],
            [
             0.8888888888888888,
             "#fdca26"
            ],
            [
             1,
             "#f0f921"
            ]
           ]
          },
          "colorway": [
           "#636efa",
           "#EF553B",
           "#00cc96",
           "#ab63fa",
           "#FFA15A",
           "#19d3f3",
           "#FF6692",
           "#B6E880",
           "#FF97FF",
           "#FECB52"
          ],
          "font": {
           "color": "#2a3f5f"
          },
          "geo": {
           "bgcolor": "white",
           "lakecolor": "white",
           "landcolor": "#E5ECF6",
           "showlakes": true,
           "showland": true,
           "subunitcolor": "white"
          },
          "hoverlabel": {
           "align": "left"
          },
          "hovermode": "closest",
          "mapbox": {
           "style": "light"
          },
          "paper_bgcolor": "white",
          "plot_bgcolor": "#E5ECF6",
          "polar": {
           "angularaxis": {
            "gridcolor": "white",
            "linecolor": "white",
            "ticks": ""
           },
           "bgcolor": "#E5ECF6",
           "radialaxis": {
            "gridcolor": "white",
            "linecolor": "white",
            "ticks": ""
           }
          },
          "scene": {
           "xaxis": {
            "backgroundcolor": "#E5ECF6",
            "gridcolor": "white",
            "gridwidth": 2,
            "linecolor": "white",
            "showbackground": true,
            "ticks": "",
            "zerolinecolor": "white"
           },
           "yaxis": {
            "backgroundcolor": "#E5ECF6",
            "gridcolor": "white",
            "gridwidth": 2,
            "linecolor": "white",
            "showbackground": true,
            "ticks": "",
            "zerolinecolor": "white"
           },
           "zaxis": {
            "backgroundcolor": "#E5ECF6",
            "gridcolor": "white",
            "gridwidth": 2,
            "linecolor": "white",
            "showbackground": true,
            "ticks": "",
            "zerolinecolor": "white"
           }
          },
          "shapedefaults": {
           "line": {
            "color": "#2a3f5f"
           }
          },
          "ternary": {
           "aaxis": {
            "gridcolor": "white",
            "linecolor": "white",
            "ticks": ""
           },
           "baxis": {
            "gridcolor": "white",
            "linecolor": "white",
            "ticks": ""
           },
           "bgcolor": "#E5ECF6",
           "caxis": {
            "gridcolor": "white",
            "linecolor": "white",
            "ticks": ""
           }
          },
          "title": {
           "x": 0.05
          },
          "xaxis": {
           "automargin": true,
           "gridcolor": "white",
           "linecolor": "white",
           "ticks": "",
           "title": {
            "standoff": 15
           },
           "zerolinecolor": "white",
           "zerolinewidth": 2
          },
          "yaxis": {
           "automargin": true,
           "gridcolor": "white",
           "linecolor": "white",
           "ticks": "",
           "title": {
            "standoff": 15
           },
           "zerolinecolor": "white",
           "zerolinewidth": 2
          }
         }
        },
        "title": {
         "font": {
          "size": 20
         },
         "text": "<b>Distribution of \"Messages_Length\" by \"Target\"</b>"
        },
        "xaxis": {
         "anchor": "y",
         "domain": [
          0,
          1
         ],
         "tickfont": {
          "size": 14
         },
         "title": {
          "font": {
           "size": 16
          },
          "text": "Messages_Length"
         }
        },
        "xaxis2": {
         "anchor": "y2",
         "domain": [
          0,
          1
         ],
         "matches": "x",
         "showgrid": true,
         "showticklabels": false
        },
        "yaxis": {
         "anchor": "x",
         "domain": [
          0,
          0.7326
         ],
         "tickfont": {
          "size": 14
         },
         "title": {
          "font": {
           "size": 16
          },
          "text": "count"
         }
        },
        "yaxis2": {
         "anchor": "x2",
         "domain": [
          0.7426,
          1
         ],
         "matches": "y2",
         "showgrid": false,
         "showline": false,
         "showticklabels": false,
         "ticks": ""
        }
       }
      }
     },
     "metadata": {},
     "output_type": "display_data"
    }
   ],
   "source": [
    "fig = px.histogram(df, x='Messages_Length', color='Target', marginal='box')\n",
    "\n",
    "fig.update_layout(\n",
    "    barmode='overlay',\n",
    "    height=650,\n",
    "    title='<b>Distribution of \"Messages_Length\" by \"Target\"</b>',\n",
    "    title_font={\"size\": 20},\n",
    "    xaxis_tickfont_size=14,\n",
    "    yaxis_tickfont_size=14,\n",
    "    xaxis={'title_font': {'size': 16}},\n",
    "    yaxis={'title_font': {'size': 16}}\n",
    "    )\n",
    "\n",
    "fig.update_traces(\n",
    "    opacity=0.80\n",
    "    )\n",
    "\n",
    "fig.show()"
   ]
  },
  {
   "cell_type": "code",
   "execution_count": 21,
   "metadata": {},
   "outputs": [
    {
     "data": {
      "text/html": [
       "<div>\n",
       "<style scoped>\n",
       "    .dataframe tbody tr th:only-of-type {\n",
       "        vertical-align: middle;\n",
       "    }\n",
       "\n",
       "    .dataframe tbody tr th {\n",
       "        vertical-align: top;\n",
       "    }\n",
       "\n",
       "    .dataframe thead th {\n",
       "        text-align: right;\n",
       "    }\n",
       "</style>\n",
       "<table border=\"1\" class=\"dataframe\">\n",
       "  <thead>\n",
       "    <tr style=\"text-align: right;\">\n",
       "      <th></th>\n",
       "      <th>sum</th>\n",
       "      <th>size</th>\n",
       "      <th>mean</th>\n",
       "      <th>median</th>\n",
       "      <th>min</th>\n",
       "      <th>max</th>\n",
       "      <th>count</th>\n",
       "    </tr>\n",
       "    <tr>\n",
       "      <th>Target</th>\n",
       "      <th></th>\n",
       "      <th></th>\n",
       "      <th></th>\n",
       "      <th></th>\n",
       "      <th></th>\n",
       "      <th></th>\n",
       "      <th></th>\n",
       "    </tr>\n",
       "  </thead>\n",
       "  <tbody>\n",
       "    <tr>\n",
       "      <th>0</th>\n",
       "      <td>342689</td>\n",
       "      <td>4825</td>\n",
       "      <td>71.02</td>\n",
       "      <td>52.0</td>\n",
       "      <td>2</td>\n",
       "      <td>910</td>\n",
       "      <td>4825</td>\n",
       "    </tr>\n",
       "    <tr>\n",
       "      <th>1</th>\n",
       "      <td>103733</td>\n",
       "      <td>747</td>\n",
       "      <td>138.87</td>\n",
       "      <td>149.0</td>\n",
       "      <td>13</td>\n",
       "      <td>224</td>\n",
       "      <td>747</td>\n",
       "    </tr>\n",
       "  </tbody>\n",
       "</table>\n",
       "</div>"
      ],
      "text/plain": [
       "           sum  size    mean  median  min  max  count\n",
       "Target                                               \n",
       "0       342689  4825   71.02    52.0    2  910   4825\n",
       "1       103733   747  138.87   149.0   13  224    747"
      ]
     },
     "execution_count": 21,
     "metadata": {},
     "output_type": "execute_result"
    }
   ],
   "source": [
    "Messages_info = df.groupby('Target')['Messages_Length'].aggregate(['sum', 'size', 'mean', 'median', 'min', 'max', 'count']).round(2)\n",
    "pd.DataFrame(Messages_info)"
   ]
  },
  {
   "attachments": {},
   "cell_type": "markdown",
   "metadata": {},
   "source": [
    "__OBSERVATIONS__<br>\n",
    "* We can see that on average, messages labeled as 1 = SPAM, in red in the graph above, contains more words than 0 = HAM messages.\n",
    "\n",
    "* SPAM messages have on average 138.87 words. The longest message is 224 words long.\n",
    "\n",
    "* HAM messages have on average 71.02 words. This category holds the longest message with 910 words."
   ]
  },
  {
   "cell_type": "markdown",
   "id": "e491dc49-b673-43fa-910d-fa280e812117",
   "metadata": {},
   "source": [
    "--------"
   ]
  },
  {
   "attachments": {},
   "cell_type": "markdown",
   "id": "656a6941-3a4f-4308-96b4-913b202e4706",
   "metadata": {},
   "source": [
    "# <center>__II - DEEP LEARNING__</center>"
   ]
  },
  {
   "cell_type": "markdown",
   "id": "e491dc49-b673-43fa-910d-fa280e812117",
   "metadata": {},
   "source": [
    "--------"
   ]
  },
  {
   "attachments": {},
   "cell_type": "markdown",
   "id": "298f14c8-e86e-46a9-b179-88d21b216860",
   "metadata": {},
   "source": [
    "#### __SECTION PLAN__ 🎯\n",
    "\n",
    "1. PREPROCESSING\n",
    "2. BASELINE MODEL: SIMPLE RNN\n",
    "3. LONG SHORT TERM MEMORY\n",
    "4. GLOBAL AVERAGE POOLING\n",
    "5. GLOBAL MAX POOLING\n",
    "3. CLASSIFICATIONS EVALUATION"
   ]
  },
  {
   "attachments": {},
   "cell_type": "markdown",
   "metadata": {},
   "source": [
    "--------\n",
    "### __1. PREPROCESSING__\n",
    "--------"
   ]
  },
  {
   "cell_type": "code",
   "execution_count": 22,
   "metadata": {},
   "outputs": [
    {
     "name": "stdout",
     "output_type": "stream",
     "text": [
      ">>>> 📋 Loading Spacy's Transformer Pipeline...\n",
      ">>>> ✅ ...Done\n"
     ]
    }
   ],
   "source": [
    "# I took the transformer pipeline \"lg\" for better accuracy in my next step with the stop words\n",
    "print(\">>>> 📋 Loading Spacy's Transformer Pipeline...\")\n",
    "\n",
    "nlp = en_core_web_lg.load()\n",
    "\n",
    "print('>>>> ✅ ...Done')"
   ]
  },
  {
   "cell_type": "code",
   "execution_count": 23,
   "metadata": {},
   "outputs": [
    {
     "name": "stdout",
     "output_type": "stream",
     "text": [
      ">>>> 🧼 Data set cleaning in progress... (Could take around 8 to 10mn)\n",
      ">>>> ✅ ...Done\n",
      "\n",
      "Data set with Messages Cleaned: \n"
     ]
    },
    {
     "data": {
      "text/html": [
       "<div>\n",
       "<style scoped>\n",
       "    .dataframe tbody tr th:only-of-type {\n",
       "        vertical-align: middle;\n",
       "    }\n",
       "\n",
       "    .dataframe tbody tr th {\n",
       "        vertical-align: top;\n",
       "    }\n",
       "\n",
       "    .dataframe thead th {\n",
       "        text-align: right;\n",
       "    }\n",
       "</style>\n",
       "<table border=\"1\" class=\"dataframe\">\n",
       "  <thead>\n",
       "    <tr style=\"text-align: right;\">\n",
       "      <th></th>\n",
       "      <th>Target</th>\n",
       "      <th>Messages</th>\n",
       "      <th>Messages_Length</th>\n",
       "      <th>Messages_Cleaned</th>\n",
       "    </tr>\n",
       "  </thead>\n",
       "  <tbody>\n",
       "    <tr>\n",
       "      <th>0</th>\n",
       "      <td>0</td>\n",
       "      <td>Go until jurong point, crazy.. Available only ...</td>\n",
       "      <td>111</td>\n",
       "      <td>jurong point crazy available bugis n great wor...</td>\n",
       "    </tr>\n",
       "    <tr>\n",
       "      <th>1</th>\n",
       "      <td>0</td>\n",
       "      <td>Ok lar... Joking wif u oni...</td>\n",
       "      <td>29</td>\n",
       "      <td>ok lar joke wif u oni</td>\n",
       "    </tr>\n",
       "    <tr>\n",
       "      <th>2</th>\n",
       "      <td>1</td>\n",
       "      <td>Free entry in 2 a wkly comp to win FA Cup fina...</td>\n",
       "      <td>155</td>\n",
       "      <td>free entry 2 wkly comp win fa cup final tkts 2...</td>\n",
       "    </tr>\n",
       "    <tr>\n",
       "      <th>3</th>\n",
       "      <td>0</td>\n",
       "      <td>U dun say so early hor... U c already then say...</td>\n",
       "      <td>49</td>\n",
       "      <td>u dun early hor u c</td>\n",
       "    </tr>\n",
       "    <tr>\n",
       "      <th>4</th>\n",
       "      <td>0</td>\n",
       "      <td>Nah I don't think he goes to usf, he lives aro...</td>\n",
       "      <td>61</td>\n",
       "      <td>nah think usf live</td>\n",
       "    </tr>\n",
       "    <tr>\n",
       "      <th>...</th>\n",
       "      <td>...</td>\n",
       "      <td>...</td>\n",
       "      <td>...</td>\n",
       "      <td>...</td>\n",
       "    </tr>\n",
       "    <tr>\n",
       "      <th>5567</th>\n",
       "      <td>1</td>\n",
       "      <td>This is the 2nd time we have tried 2 contact u...</td>\n",
       "      <td>161</td>\n",
       "      <td>2nd time try 2 contact u u win å750 pound priz...</td>\n",
       "    </tr>\n",
       "    <tr>\n",
       "      <th>5568</th>\n",
       "      <td>0</td>\n",
       "      <td>Will Ì_ b going to esplanade fr home?</td>\n",
       "      <td>37</td>\n",
       "      <td>ì b esplanade fr home</td>\n",
       "    </tr>\n",
       "    <tr>\n",
       "      <th>5569</th>\n",
       "      <td>0</td>\n",
       "      <td>Pity, * was in mood for that. So...any other s...</td>\n",
       "      <td>57</td>\n",
       "      <td>pity   mood soany suggestion</td>\n",
       "    </tr>\n",
       "    <tr>\n",
       "      <th>5570</th>\n",
       "      <td>0</td>\n",
       "      <td>The guy did some bitching but I acted like i'd...</td>\n",
       "      <td>125</td>\n",
       "      <td>guy bitching act like d interested buy week free</td>\n",
       "    </tr>\n",
       "    <tr>\n",
       "      <th>5571</th>\n",
       "      <td>0</td>\n",
       "      <td>Rofl. Its true to its name</td>\n",
       "      <td>26</td>\n",
       "      <td>rofl true</td>\n",
       "    </tr>\n",
       "  </tbody>\n",
       "</table>\n",
       "<p>5572 rows × 4 columns</p>\n",
       "</div>"
      ],
      "text/plain": [
       "      Target                                           Messages  \\\n",
       "0          0  Go until jurong point, crazy.. Available only ...   \n",
       "1          0                      Ok lar... Joking wif u oni...   \n",
       "2          1  Free entry in 2 a wkly comp to win FA Cup fina...   \n",
       "3          0  U dun say so early hor... U c already then say...   \n",
       "4          0  Nah I don't think he goes to usf, he lives aro...   \n",
       "...      ...                                                ...   \n",
       "5567       1  This is the 2nd time we have tried 2 contact u...   \n",
       "5568       0              Will Ì_ b going to esplanade fr home?   \n",
       "5569       0  Pity, * was in mood for that. So...any other s...   \n",
       "5570       0  The guy did some bitching but I acted like i'd...   \n",
       "5571       0                         Rofl. Its true to its name   \n",
       "\n",
       "      Messages_Length                                   Messages_Cleaned  \n",
       "0                 111  jurong point crazy available bugis n great wor...  \n",
       "1                  29                              ok lar joke wif u oni  \n",
       "2                 155  free entry 2 wkly comp win fa cup final tkts 2...  \n",
       "3                  49                                u dun early hor u c  \n",
       "4                  61                                 nah think usf live  \n",
       "...               ...                                                ...  \n",
       "5567              161  2nd time try 2 contact u u win å750 pound priz...  \n",
       "5568               37                              ì b esplanade fr home  \n",
       "5569               57                       pity   mood soany suggestion  \n",
       "5570              125   guy bitching act like d interested buy week free  \n",
       "5571               26                                          rofl true  \n",
       "\n",
       "[5572 rows x 4 columns]"
      ]
     },
     "execution_count": 23,
     "metadata": {},
     "output_type": "execute_result"
    }
   ],
   "source": [
    "print('>>>> 🧼 Data set cleaning in progress...')\n",
    "\n",
    "df['Messages_Cleaned'] = df['Messages'].apply(lambda x:''.join(ch for ch in x if ch.isalnum() or ch==\" \"))\n",
    "\n",
    "df['Messages_Cleaned'] = df['Messages_Cleaned'].apply(lambda x: x.replace(\" +\",\" \").lower().strip())\n",
    "\n",
    "df['Messages_Cleaned'] = df['Messages_Cleaned'].apply(lambda x: \" \".join([token.lemma_ for token in nlp(x) if (token.lemma_ not in STOP_WORDS) & (token.text not in STOP_WORDS)]))\n",
    "\n",
    "print('>>>> ✅ ...Done')\n",
    "print()\n",
    "print('Data set with Messages Cleaned: ')\n",
    "df"
   ]
  },
  {
   "cell_type": "code",
   "execution_count": 24,
   "metadata": {},
   "outputs": [],
   "source": [
    "mask = df['Messages_Cleaned'].isna()==False\n",
    "\n",
    "df = df[mask]"
   ]
  },
  {
   "cell_type": "code",
   "execution_count": 25,
   "metadata": {},
   "outputs": [
    {
     "name": "stdout",
     "output_type": "stream",
     "text": [
      ">>>> 🧮 Tokenization in progress...\n",
      ">>>> ✅ ...Done\n",
      "\n",
      "Data set with Messages Encoded: \n"
     ]
    },
    {
     "data": {
      "text/html": [
       "<div>\n",
       "<style scoped>\n",
       "    .dataframe tbody tr th:only-of-type {\n",
       "        vertical-align: middle;\n",
       "    }\n",
       "\n",
       "    .dataframe tbody tr th {\n",
       "        vertical-align: top;\n",
       "    }\n",
       "\n",
       "    .dataframe thead th {\n",
       "        text-align: right;\n",
       "    }\n",
       "</style>\n",
       "<table border=\"1\" class=\"dataframe\">\n",
       "  <thead>\n",
       "    <tr style=\"text-align: right;\">\n",
       "      <th></th>\n",
       "      <th>Target</th>\n",
       "      <th>Messages</th>\n",
       "      <th>Messages_Length</th>\n",
       "      <th>Messages_Cleaned</th>\n",
       "      <th>Messages_Encoded</th>\n",
       "    </tr>\n",
       "  </thead>\n",
       "  <tbody>\n",
       "    <tr>\n",
       "      <th>0</th>\n",
       "      <td>0</td>\n",
       "      <td>Go until jurong point, crazy.. Available only ...</td>\n",
       "      <td>111</td>\n",
       "      <td>jurong point crazy available bugis n great wor...</td>\n",
       "      <td>[232, 443, 460, 942, 35, 51, 203, 943, 79, 944...</td>\n",
       "    </tr>\n",
       "    <tr>\n",
       "      <th>1</th>\n",
       "      <td>0</td>\n",
       "      <td>Ok lar... Joking wif u oni...</td>\n",
       "      <td>29</td>\n",
       "      <td>ok lar joke wif u oni</td>\n",
       "      <td>[9, 194, 461, 288, 1]</td>\n",
       "    </tr>\n",
       "    <tr>\n",
       "      <th>2</th>\n",
       "      <td>1</td>\n",
       "      <td>Free entry in 2 a wkly comp to win FA Cup fina...</td>\n",
       "      <td>155</td>\n",
       "      <td>free entry 2 wkly comp win fa cup final tkts 2...</td>\n",
       "      <td>[11, 298, 3, 534, 663, 33, 846, 424, 20, 158, ...</td>\n",
       "    </tr>\n",
       "    <tr>\n",
       "      <th>3</th>\n",
       "      <td>0</td>\n",
       "      <td>U dun say so early hor... U c already then say...</td>\n",
       "      <td>49</td>\n",
       "      <td>u dun early hor u c</td>\n",
       "      <td>[1, 124, 149, 1, 83]</td>\n",
       "    </tr>\n",
       "    <tr>\n",
       "      <th>4</th>\n",
       "      <td>0</td>\n",
       "      <td>Nah I don't think he goes to usf, he lives aro...</td>\n",
       "      <td>61</td>\n",
       "      <td>nah think usf live</td>\n",
       "      <td>[705, 22, 664, 130]</td>\n",
       "    </tr>\n",
       "    <tr>\n",
       "      <th>...</th>\n",
       "      <td>...</td>\n",
       "      <td>...</td>\n",
       "      <td>...</td>\n",
       "      <td>...</td>\n",
       "      <td>...</td>\n",
       "    </tr>\n",
       "    <tr>\n",
       "      <th>5567</th>\n",
       "      <td>1</td>\n",
       "      <td>This is the 2nd time we have tried 2 contact u...</td>\n",
       "      <td>161</td>\n",
       "      <td>2nd time try 2 contact u u win å750 pound priz...</td>\n",
       "      <td>[264, 18, 52, 3, 92, 1, 1, 33, 277, 69, 3, 48,...</td>\n",
       "    </tr>\n",
       "    <tr>\n",
       "      <th>5568</th>\n",
       "      <td>0</td>\n",
       "      <td>Will Ì_ b going to esplanade fr home?</td>\n",
       "      <td>37</td>\n",
       "      <td>ì b esplanade fr home</td>\n",
       "      <td>[45, 108, 576, 25]</td>\n",
       "    </tr>\n",
       "    <tr>\n",
       "      <th>5569</th>\n",
       "      <td>0</td>\n",
       "      <td>Pity, * was in mood for that. So...any other s...</td>\n",
       "      <td>57</td>\n",
       "      <td>pity   mood soany suggestion</td>\n",
       "      <td>[937]</td>\n",
       "    </tr>\n",
       "    <tr>\n",
       "      <th>5570</th>\n",
       "      <td>0</td>\n",
       "      <td>The guy did some bitching but I acted like i'd...</td>\n",
       "      <td>125</td>\n",
       "      <td>guy bitching act like d interested buy week free</td>\n",
       "      <td>[112, 14, 32, 87, 38, 11]</td>\n",
       "    </tr>\n",
       "    <tr>\n",
       "      <th>5571</th>\n",
       "      <td>0</td>\n",
       "      <td>Rofl. Its true to its name</td>\n",
       "      <td>26</td>\n",
       "      <td>rofl true</td>\n",
       "      <td>[320]</td>\n",
       "    </tr>\n",
       "  </tbody>\n",
       "</table>\n",
       "<p>5572 rows × 5 columns</p>\n",
       "</div>"
      ],
      "text/plain": [
       "      Target                                           Messages  \\\n",
       "0          0  Go until jurong point, crazy.. Available only ...   \n",
       "1          0                      Ok lar... Joking wif u oni...   \n",
       "2          1  Free entry in 2 a wkly comp to win FA Cup fina...   \n",
       "3          0  U dun say so early hor... U c already then say...   \n",
       "4          0  Nah I don't think he goes to usf, he lives aro...   \n",
       "...      ...                                                ...   \n",
       "5567       1  This is the 2nd time we have tried 2 contact u...   \n",
       "5568       0              Will Ì_ b going to esplanade fr home?   \n",
       "5569       0  Pity, * was in mood for that. So...any other s...   \n",
       "5570       0  The guy did some bitching but I acted like i'd...   \n",
       "5571       0                         Rofl. Its true to its name   \n",
       "\n",
       "      Messages_Length                                   Messages_Cleaned  \\\n",
       "0                 111  jurong point crazy available bugis n great wor...   \n",
       "1                  29                              ok lar joke wif u oni   \n",
       "2                 155  free entry 2 wkly comp win fa cup final tkts 2...   \n",
       "3                  49                                u dun early hor u c   \n",
       "4                  61                                 nah think usf live   \n",
       "...               ...                                                ...   \n",
       "5567              161  2nd time try 2 contact u u win å750 pound priz...   \n",
       "5568               37                              ì b esplanade fr home   \n",
       "5569               57                       pity   mood soany suggestion   \n",
       "5570              125   guy bitching act like d interested buy week free   \n",
       "5571               26                                          rofl true   \n",
       "\n",
       "                                       Messages_Encoded  \n",
       "0     [232, 443, 460, 942, 35, 51, 203, 943, 79, 944...  \n",
       "1                                 [9, 194, 461, 288, 1]  \n",
       "2     [11, 298, 3, 534, 663, 33, 846, 424, 20, 158, ...  \n",
       "3                                  [1, 124, 149, 1, 83]  \n",
       "4                                   [705, 22, 664, 130]  \n",
       "...                                                 ...  \n",
       "5567  [264, 18, 52, 3, 92, 1, 1, 33, 277, 69, 3, 48,...  \n",
       "5568                                 [45, 108, 576, 25]  \n",
       "5569                                              [937]  \n",
       "5570                          [112, 14, 32, 87, 38, 11]  \n",
       "5571                                              [320]  \n",
       "\n",
       "[5572 rows x 5 columns]"
      ]
     },
     "execution_count": 25,
     "metadata": {},
     "output_type": "execute_result"
    }
   ],
   "source": [
    "print('>>>> 🧮 Tokenization in progress...')\n",
    "\n",
    "tokenizer = tf.keras.preprocessing.text.Tokenizer(num_words=1000) # instanciate the tokenizer\n",
    "\n",
    "tokenizer.fit_on_texts(df['Messages_Cleaned'])\n",
    "\n",
    "df['Messages_Encoded'] = tokenizer.texts_to_sequences(df.Messages_Cleaned)\n",
    "\n",
    "print('>>>> ✅ ...Done')\n",
    "print()\n",
    "print('Data set with Messages Encoded: ')\n",
    "df"
   ]
  },
  {
   "cell_type": "code",
   "execution_count": 26,
   "metadata": {},
   "outputs": [
    {
     "data": {
      "text/html": [
       "<div>\n",
       "<style scoped>\n",
       "    .dataframe tbody tr th:only-of-type {\n",
       "        vertical-align: middle;\n",
       "    }\n",
       "\n",
       "    .dataframe tbody tr th {\n",
       "        vertical-align: top;\n",
       "    }\n",
       "\n",
       "    .dataframe thead th {\n",
       "        text-align: right;\n",
       "    }\n",
       "</style>\n",
       "<table border=\"1\" class=\"dataframe\">\n",
       "  <thead>\n",
       "    <tr style=\"text-align: right;\">\n",
       "      <th></th>\n",
       "      <th>Target</th>\n",
       "      <th>Messages</th>\n",
       "      <th>Messages_Length</th>\n",
       "      <th>Messages_Cleaned</th>\n",
       "      <th>Messages_Encoded</th>\n",
       "      <th>Encoded_Messages_Length</th>\n",
       "    </tr>\n",
       "  </thead>\n",
       "  <tbody>\n",
       "    <tr>\n",
       "      <th>0</th>\n",
       "      <td>0</td>\n",
       "      <td>Go until jurong point, crazy.. Available only ...</td>\n",
       "      <td>111</td>\n",
       "      <td>jurong point crazy available bugis n great wor...</td>\n",
       "      <td>[232, 443, 460, 942, 35, 51, 203, 943, 79, 944...</td>\n",
       "      <td>11</td>\n",
       "    </tr>\n",
       "    <tr>\n",
       "      <th>1</th>\n",
       "      <td>0</td>\n",
       "      <td>Ok lar... Joking wif u oni...</td>\n",
       "      <td>29</td>\n",
       "      <td>ok lar joke wif u oni</td>\n",
       "      <td>[9, 194, 461, 288, 1]</td>\n",
       "      <td>5</td>\n",
       "    </tr>\n",
       "    <tr>\n",
       "      <th>2</th>\n",
       "      <td>1</td>\n",
       "      <td>Free entry in 2 a wkly comp to win FA Cup fina...</td>\n",
       "      <td>155</td>\n",
       "      <td>free entry 2 wkly comp win fa cup final tkts 2...</td>\n",
       "      <td>[11, 298, 3, 534, 663, 33, 846, 424, 20, 158, ...</td>\n",
       "      <td>13</td>\n",
       "    </tr>\n",
       "    <tr>\n",
       "      <th>3</th>\n",
       "      <td>0</td>\n",
       "      <td>U dun say so early hor... U c already then say...</td>\n",
       "      <td>49</td>\n",
       "      <td>u dun early hor u c</td>\n",
       "      <td>[1, 124, 149, 1, 83]</td>\n",
       "      <td>5</td>\n",
       "    </tr>\n",
       "    <tr>\n",
       "      <th>4</th>\n",
       "      <td>0</td>\n",
       "      <td>Nah I don't think he goes to usf, he lives aro...</td>\n",
       "      <td>61</td>\n",
       "      <td>nah think usf live</td>\n",
       "      <td>[705, 22, 664, 130]</td>\n",
       "      <td>4</td>\n",
       "    </tr>\n",
       "    <tr>\n",
       "      <th>...</th>\n",
       "      <td>...</td>\n",
       "      <td>...</td>\n",
       "      <td>...</td>\n",
       "      <td>...</td>\n",
       "      <td>...</td>\n",
       "      <td>...</td>\n",
       "    </tr>\n",
       "    <tr>\n",
       "      <th>5567</th>\n",
       "      <td>1</td>\n",
       "      <td>This is the 2nd time we have tried 2 contact u...</td>\n",
       "      <td>161</td>\n",
       "      <td>2nd time try 2 contact u u win å750 pound priz...</td>\n",
       "      <td>[264, 18, 52, 3, 92, 1, 1, 33, 277, 69, 3, 48,...</td>\n",
       "      <td>16</td>\n",
       "    </tr>\n",
       "    <tr>\n",
       "      <th>5568</th>\n",
       "      <td>0</td>\n",
       "      <td>Will Ì_ b going to esplanade fr home?</td>\n",
       "      <td>37</td>\n",
       "      <td>ì b esplanade fr home</td>\n",
       "      <td>[45, 108, 576, 25]</td>\n",
       "      <td>4</td>\n",
       "    </tr>\n",
       "    <tr>\n",
       "      <th>5569</th>\n",
       "      <td>0</td>\n",
       "      <td>Pity, * was in mood for that. So...any other s...</td>\n",
       "      <td>57</td>\n",
       "      <td>pity   mood soany suggestion</td>\n",
       "      <td>[937]</td>\n",
       "      <td>1</td>\n",
       "    </tr>\n",
       "    <tr>\n",
       "      <th>5570</th>\n",
       "      <td>0</td>\n",
       "      <td>The guy did some bitching but I acted like i'd...</td>\n",
       "      <td>125</td>\n",
       "      <td>guy bitching act like d interested buy week free</td>\n",
       "      <td>[112, 14, 32, 87, 38, 11]</td>\n",
       "      <td>6</td>\n",
       "    </tr>\n",
       "    <tr>\n",
       "      <th>5571</th>\n",
       "      <td>0</td>\n",
       "      <td>Rofl. Its true to its name</td>\n",
       "      <td>26</td>\n",
       "      <td>rofl true</td>\n",
       "      <td>[320]</td>\n",
       "      <td>1</td>\n",
       "    </tr>\n",
       "  </tbody>\n",
       "</table>\n",
       "<p>5413 rows × 6 columns</p>\n",
       "</div>"
      ],
      "text/plain": [
       "      Target                                           Messages  \\\n",
       "0          0  Go until jurong point, crazy.. Available only ...   \n",
       "1          0                      Ok lar... Joking wif u oni...   \n",
       "2          1  Free entry in 2 a wkly comp to win FA Cup fina...   \n",
       "3          0  U dun say so early hor... U c already then say...   \n",
       "4          0  Nah I don't think he goes to usf, he lives aro...   \n",
       "...      ...                                                ...   \n",
       "5567       1  This is the 2nd time we have tried 2 contact u...   \n",
       "5568       0              Will Ì_ b going to esplanade fr home?   \n",
       "5569       0  Pity, * was in mood for that. So...any other s...   \n",
       "5570       0  The guy did some bitching but I acted like i'd...   \n",
       "5571       0                         Rofl. Its true to its name   \n",
       "\n",
       "      Messages_Length                                   Messages_Cleaned  \\\n",
       "0                 111  jurong point crazy available bugis n great wor...   \n",
       "1                  29                              ok lar joke wif u oni   \n",
       "2                 155  free entry 2 wkly comp win fa cup final tkts 2...   \n",
       "3                  49                                u dun early hor u c   \n",
       "4                  61                                 nah think usf live   \n",
       "...               ...                                                ...   \n",
       "5567              161  2nd time try 2 contact u u win å750 pound priz...   \n",
       "5568               37                              ì b esplanade fr home   \n",
       "5569               57                       pity   mood soany suggestion   \n",
       "5570              125   guy bitching act like d interested buy week free   \n",
       "5571               26                                          rofl true   \n",
       "\n",
       "                                       Messages_Encoded  \\\n",
       "0     [232, 443, 460, 942, 35, 51, 203, 943, 79, 944...   \n",
       "1                                 [9, 194, 461, 288, 1]   \n",
       "2     [11, 298, 3, 534, 663, 33, 846, 424, 20, 158, ...   \n",
       "3                                  [1, 124, 149, 1, 83]   \n",
       "4                                   [705, 22, 664, 130]   \n",
       "...                                                 ...   \n",
       "5567  [264, 18, 52, 3, 92, 1, 1, 33, 277, 69, 3, 48,...   \n",
       "5568                                 [45, 108, 576, 25]   \n",
       "5569                                              [937]   \n",
       "5570                          [112, 14, 32, 87, 38, 11]   \n",
       "5571                                              [320]   \n",
       "\n",
       "      Encoded_Messages_Length  \n",
       "0                          11  \n",
       "1                           5  \n",
       "2                          13  \n",
       "3                           5  \n",
       "4                           4  \n",
       "...                       ...  \n",
       "5567                       16  \n",
       "5568                        4  \n",
       "5569                        1  \n",
       "5570                        6  \n",
       "5571                        1  \n",
       "\n",
       "[5413 rows x 6 columns]"
      ]
     },
     "execution_count": 26,
     "metadata": {},
     "output_type": "execute_result"
    }
   ],
   "source": [
    "df['Encoded_Messages_Length'] = df['Messages_Encoded'].apply(lambda x: len(x))\n",
    "\n",
    "df = df[df['Encoded_Messages_Length']!= 0]\n",
    "\n",
    "df"
   ]
  },
  {
   "cell_type": "code",
   "execution_count": 27,
   "metadata": {},
   "outputs": [],
   "source": [
    "# Padding our data to respect dimentionalities\n",
    "Messages_Pad = tf.keras.preprocessing.sequence.pad_sequences(df.Messages_Encoded, padding='post')\n",
    "\n",
    "full_df = tf.data.Dataset.from_tensor_slices((Messages_Pad, df.Target.values))"
   ]
  },
  {
   "cell_type": "code",
   "execution_count": 28,
   "metadata": {},
   "outputs": [],
   "source": [
    "# Splitting our Data 70/30\n",
    "TAKE_SIZE = int(0.7*df.shape[0])\n",
    "\n",
    "train_data = full_df.take(TAKE_SIZE).shuffle(TAKE_SIZE)\n",
    "train_data = train_data.batch(64)\n",
    "\n",
    "test_data = full_df.skip(TAKE_SIZE)\n",
    "test_data = test_data.batch(64)"
   ]
  },
  {
   "cell_type": "code",
   "execution_count": 29,
   "metadata": {},
   "outputs": [
    {
     "name": "stdout",
     "output_type": "stream",
     "text": [
      "tf.Tensor(\n",
      "[[ 17 122   0 ...   0   0   0]\n",
      " [ 53 150 150 ...   0   0   0]\n",
      " [ 55 434 247 ...   0   0   0]\n",
      " ...\n",
      " [ 19   1   3 ...   0   0   0]\n",
      " [608 545  11 ...   0   0   0]\n",
      " [236 300 110 ...   0   0   0]], shape=(64, 47), dtype=int32) tf.Tensor(\n",
      "[0 0 0 0 0 0 0 0 0 0 0 0 0 0 1 0 0 0 0 0 0 0 0 0 0 0 0 0 0 0 0 1 0 0 0 0 0\n",
      " 0 1 0 0 0 0 0 0 0 0 0 0 0 0 1 0 0 0 0 0 0 0 0 1 0 1 0], shape=(64,), dtype=int64)\n"
     ]
    }
   ],
   "source": [
    "for Messages, Target in train_data.take(1):\n",
    "  print(Messages, Target)"
   ]
  },
  {
   "cell_type": "code",
   "execution_count": 30,
   "metadata": {},
   "outputs": [
    {
     "data": {
      "text/plain": [
       "47"
      ]
     },
     "execution_count": 30,
     "metadata": {},
     "output_type": "execute_result"
    }
   ],
   "source": [
    "Messages.shape[1]"
   ]
  },
  {
   "attachments": {},
   "cell_type": "markdown",
   "metadata": {},
   "source": [
    "--------\n",
    "### __2. BASELINE MODEL: SIMPLE RNN__\n",
    "--------"
   ]
  },
  {
   "cell_type": "code",
   "execution_count": 31,
   "metadata": {},
   "outputs": [
    {
     "name": "stdout",
     "output_type": "stream",
     "text": [
      "Model: \"sequential\"\n",
      "_________________________________________________________________\n",
      " Layer (type)                Output Shape              Param #   \n",
      "=================================================================\n",
      " embedding (Embedding)       (None, 47, 64)            525120    \n",
      "                                                                 \n",
      " simple_rnn (SimpleRNN)      (None, 47, 64)            8256      \n",
      "                                                                 \n",
      " simple_rnn_1 (SimpleRNN)    (None, 32)                3104      \n",
      "                                                                 \n",
      " dense (Dense)               (None, 16)                528       \n",
      "                                                                 \n",
      " dense_1 (Dense)             (None, 8)                 136       \n",
      "                                                                 \n",
      " dense_2 (Dense)             (None, 1)                 9         \n",
      "                                                                 \n",
      "=================================================================\n",
      "Total params: 537,153\n",
      "Trainable params: 537,153\n",
      "Non-trainable params: 0\n",
      "_________________________________________________________________\n"
     ]
    }
   ],
   "source": [
    "vocab_size = len(tokenizer.word_index)\n",
    "\n",
    "model_Simple_RNN = tf.keras.Sequential([\n",
    "    \n",
    "    # Word Embedding layer           \n",
    "    Embedding(vocab_size+1, 64, input_shape=[Messages.shape[1],],name=\"embedding\"),\n",
    "\n",
    "    SimpleRNN(units=64, return_sequences=True), # maintains the sequential nature\n",
    "    SimpleRNN(units=32, return_sequences=False), # returns the last output\n",
    "\n",
    "    # Dense layers once the data is flat\n",
    "    Dense(16, activation='relu'),\n",
    "    Dense(8, activation='relu'),\n",
    "\n",
    "    Dense(1, activation=\"sigmoid\")\n",
    "])\n",
    "\n",
    "model_Simple_RNN.summary()"
   ]
  },
  {
   "cell_type": "code",
   "execution_count": 32,
   "metadata": {},
   "outputs": [
    {
     "data": {
      "text/plain": [
       "{0: 0.5797986289631534, 1: 3.632885906040268}"
      ]
     },
     "execution_count": 32,
     "metadata": {},
     "output_type": "execute_result"
    }
   ],
   "source": [
    "# Here we calculate the inverse of the frequency for each class \n",
    "weights = 1/(df['Target']).value_counts()\n",
    "\n",
    "# We then multiple those results by the number of observations and divide by the number of class\n",
    "weights = weights * len(df)/2\n",
    "\n",
    "weights = {index : values for index , values in zip(weights.index, weights.values)}\n",
    "weights"
   ]
  },
  {
   "cell_type": "code",
   "execution_count": 33,
   "metadata": {},
   "outputs": [],
   "source": [
    "# Our optimizer is the stochastic gradient descent method called Adam for Adaptive moment estimation, in order to adapt the learning rate\n",
    "Adam = tf.keras.optimizers.Adam()\n",
    "\n",
    "model_Simple_RNN.compile(optimizer= Adam,\n",
    "                        loss= tf.keras.losses.BinaryCrossentropy(),\n",
    "                        metrics= ['accuracy']\n",
    "                        )"
   ]
  },
  {
   "cell_type": "code",
   "execution_count": 34,
   "metadata": {},
   "outputs": [
    {
     "name": "stdout",
     "output_type": "stream",
     "text": [
      "Epoch 1/20\n",
      "60/60 [==============================] - 13s 81ms/step - loss: 0.5577 - accuracy: 0.8678 - val_loss: 0.2397 - val_accuracy: 0.9132\n",
      "Epoch 2/20\n",
      "60/60 [==============================] - 4s 66ms/step - loss: 0.2959 - accuracy: 0.9203 - val_loss: 0.1999 - val_accuracy: 0.9353\n",
      "Epoch 3/20\n",
      "60/60 [==============================] - 3s 54ms/step - loss: 0.1902 - accuracy: 0.9572 - val_loss: 0.1316 - val_accuracy: 0.9643\n",
      "Epoch 4/20\n",
      "60/60 [==============================] - 3s 53ms/step - loss: 0.1417 - accuracy: 0.9715 - val_loss: 0.5560 - val_accuracy: 0.7278\n",
      "Epoch 5/20\n",
      "60/60 [==============================] - 3s 56ms/step - loss: 0.1303 - accuracy: 0.9728 - val_loss: 0.1420 - val_accuracy: 0.9674\n",
      "Epoch 6/20\n",
      "60/60 [==============================] - 3s 52ms/step - loss: 0.1036 - accuracy: 0.9802 - val_loss: 0.1216 - val_accuracy: 0.9667\n",
      "Epoch 7/20\n",
      "60/60 [==============================] - 3s 55ms/step - loss: 0.0822 - accuracy: 0.9810 - val_loss: 0.1398 - val_accuracy: 0.9637\n",
      "Epoch 8/20\n",
      "60/60 [==============================] - 3s 53ms/step - loss: 0.0691 - accuracy: 0.9881 - val_loss: 0.1570 - val_accuracy: 0.9563\n",
      "Epoch 9/20\n",
      "60/60 [==============================] - 3s 55ms/step - loss: 0.0406 - accuracy: 0.9939 - val_loss: 0.2570 - val_accuracy: 0.9384\n",
      "Epoch 10/20\n",
      "60/60 [==============================] - 3s 54ms/step - loss: 0.0414 - accuracy: 0.9916 - val_loss: 0.1176 - val_accuracy: 0.9698\n",
      "Epoch 11/20\n",
      "60/60 [==============================] - 3s 54ms/step - loss: 0.0382 - accuracy: 0.9913 - val_loss: 0.2480 - val_accuracy: 0.9397\n",
      "Epoch 12/20\n",
      "60/60 [==============================] - 3s 54ms/step - loss: 0.0354 - accuracy: 0.9900 - val_loss: 0.1428 - val_accuracy: 0.9649\n",
      "Epoch 13/20\n",
      "60/60 [==============================] - 4s 61ms/step - loss: 0.0581 - accuracy: 0.9876 - val_loss: 0.9608 - val_accuracy: 0.7365\n",
      "Epoch 14/20\n",
      "60/60 [==============================] - 4s 63ms/step - loss: 0.1941 - accuracy: 0.9248 - val_loss: 0.2399 - val_accuracy: 0.9212\n",
      "Epoch 15/20\n",
      "60/60 [==============================] - 4s 58ms/step - loss: 0.0740 - accuracy: 0.9739 - val_loss: 0.2132 - val_accuracy: 0.9470\n",
      "Epoch 16/20\n",
      "60/60 [==============================] - 4s 62ms/step - loss: 0.0513 - accuracy: 0.9865 - val_loss: 0.1730 - val_accuracy: 0.9563\n",
      "Epoch 17/20\n",
      "60/60 [==============================] - 4s 63ms/step - loss: 0.0426 - accuracy: 0.9889 - val_loss: 0.1694 - val_accuracy: 0.9612\n",
      "Epoch 18/20\n",
      "60/60 [==============================] - 4s 61ms/step - loss: 0.0292 - accuracy: 0.9923 - val_loss: 0.1336 - val_accuracy: 0.9717\n",
      "Epoch 19/20\n",
      "60/60 [==============================] - 5s 77ms/step - loss: 0.0495 - accuracy: 0.9900 - val_loss: 4.5902 - val_accuracy: 0.0837\n",
      "Epoch 20/20\n",
      "60/60 [==============================] - 3s 56ms/step - loss: 0.1883 - accuracy: 0.9330 - val_loss: 0.1113 - val_accuracy: 0.9667\n"
     ]
    }
   ],
   "source": [
    "# We fit our model on 20 epochs taking into account the weights we calculated above to penalize too frequent notes. \n",
    "history_Simple_RNN = model_Simple_RNN.fit(\n",
    "    train_data,\n",
    "    epochs= 20, \n",
    "    validation_data = test_data, \n",
    "    class_weight = weights\n",
    "    )"
   ]
  },
  {
   "cell_type": "code",
   "execution_count": 35,
   "metadata": {},
   "outputs": [
    {
     "data": {
      "application/vnd.plotly.v1+json": {
       "config": {
        "plotlyServerURL": "https://plot.ly"
       },
       "data": [
        {
         "mode": "lines",
         "name": "Loss",
         "type": "scatter",
         "y": [
          0.5577123165130615,
          0.29585516452789307,
          0.19020256400108337,
          0.14173509180545807,
          0.1303362101316452,
          0.10361941903829575,
          0.08220324665307999,
          0.0691085234284401,
          0.04062323644757271,
          0.041399192065000534,
          0.03818250820040703,
          0.035363759845495224,
          0.05812210589647293,
          0.194146528840065,
          0.07398383319377899,
          0.0512542724609375,
          0.042623527348041534,
          0.02922804094851017,
          0.0495043620467186,
          0.1883402168750763
         ]
        },
        {
         "mode": "lines",
         "name": "Val_Loss",
         "type": "scatter",
         "y": [
          0.23969465494155884,
          0.19993063807487488,
          0.13162049651145935,
          0.5560152530670166,
          0.14202095568180084,
          0.12163589894771576,
          0.1398337483406067,
          0.15700051188468933,
          0.25703802704811096,
          0.11759395152330399,
          0.24804255366325378,
          0.14283955097198486,
          0.9608479738235474,
          0.23993957042694092,
          0.21315765380859375,
          0.17296113073825836,
          0.1694372147321701,
          0.13361413776874542,
          4.590225696563721,
          0.1112649217247963
         ]
        }
       ],
       "layout": {
        "height": 650,
        "template": {
         "data": {
          "bar": [
           {
            "error_x": {
             "color": "#2a3f5f"
            },
            "error_y": {
             "color": "#2a3f5f"
            },
            "marker": {
             "line": {
              "color": "#E5ECF6",
              "width": 0.5
             },
             "pattern": {
              "fillmode": "overlay",
              "size": 10,
              "solidity": 0.2
             }
            },
            "type": "bar"
           }
          ],
          "barpolar": [
           {
            "marker": {
             "line": {
              "color": "#E5ECF6",
              "width": 0.5
             },
             "pattern": {
              "fillmode": "overlay",
              "size": 10,
              "solidity": 0.2
             }
            },
            "type": "barpolar"
           }
          ],
          "carpet": [
           {
            "aaxis": {
             "endlinecolor": "#2a3f5f",
             "gridcolor": "white",
             "linecolor": "white",
             "minorgridcolor": "white",
             "startlinecolor": "#2a3f5f"
            },
            "baxis": {
             "endlinecolor": "#2a3f5f",
             "gridcolor": "white",
             "linecolor": "white",
             "minorgridcolor": "white",
             "startlinecolor": "#2a3f5f"
            },
            "type": "carpet"
           }
          ],
          "choropleth": [
           {
            "colorbar": {
             "outlinewidth": 0,
             "ticks": ""
            },
            "type": "choropleth"
           }
          ],
          "contour": [
           {
            "colorbar": {
             "outlinewidth": 0,
             "ticks": ""
            },
            "colorscale": [
             [
              0,
              "#0d0887"
             ],
             [
              0.1111111111111111,
              "#46039f"
             ],
             [
              0.2222222222222222,
              "#7201a8"
             ],
             [
              0.3333333333333333,
              "#9c179e"
             ],
             [
              0.4444444444444444,
              "#bd3786"
             ],
             [
              0.5555555555555556,
              "#d8576b"
             ],
             [
              0.6666666666666666,
              "#ed7953"
             ],
             [
              0.7777777777777778,
              "#fb9f3a"
             ],
             [
              0.8888888888888888,
              "#fdca26"
             ],
             [
              1,
              "#f0f921"
             ]
            ],
            "type": "contour"
           }
          ],
          "contourcarpet": [
           {
            "colorbar": {
             "outlinewidth": 0,
             "ticks": ""
            },
            "type": "contourcarpet"
           }
          ],
          "heatmap": [
           {
            "colorbar": {
             "outlinewidth": 0,
             "ticks": ""
            },
            "colorscale": [
             [
              0,
              "#0d0887"
             ],
             [
              0.1111111111111111,
              "#46039f"
             ],
             [
              0.2222222222222222,
              "#7201a8"
             ],
             [
              0.3333333333333333,
              "#9c179e"
             ],
             [
              0.4444444444444444,
              "#bd3786"
             ],
             [
              0.5555555555555556,
              "#d8576b"
             ],
             [
              0.6666666666666666,
              "#ed7953"
             ],
             [
              0.7777777777777778,
              "#fb9f3a"
             ],
             [
              0.8888888888888888,
              "#fdca26"
             ],
             [
              1,
              "#f0f921"
             ]
            ],
            "type": "heatmap"
           }
          ],
          "heatmapgl": [
           {
            "colorbar": {
             "outlinewidth": 0,
             "ticks": ""
            },
            "colorscale": [
             [
              0,
              "#0d0887"
             ],
             [
              0.1111111111111111,
              "#46039f"
             ],
             [
              0.2222222222222222,
              "#7201a8"
             ],
             [
              0.3333333333333333,
              "#9c179e"
             ],
             [
              0.4444444444444444,
              "#bd3786"
             ],
             [
              0.5555555555555556,
              "#d8576b"
             ],
             [
              0.6666666666666666,
              "#ed7953"
             ],
             [
              0.7777777777777778,
              "#fb9f3a"
             ],
             [
              0.8888888888888888,
              "#fdca26"
             ],
             [
              1,
              "#f0f921"
             ]
            ],
            "type": "heatmapgl"
           }
          ],
          "histogram": [
           {
            "marker": {
             "pattern": {
              "fillmode": "overlay",
              "size": 10,
              "solidity": 0.2
             }
            },
            "type": "histogram"
           }
          ],
          "histogram2d": [
           {
            "colorbar": {
             "outlinewidth": 0,
             "ticks": ""
            },
            "colorscale": [
             [
              0,
              "#0d0887"
             ],
             [
              0.1111111111111111,
              "#46039f"
             ],
             [
              0.2222222222222222,
              "#7201a8"
             ],
             [
              0.3333333333333333,
              "#9c179e"
             ],
             [
              0.4444444444444444,
              "#bd3786"
             ],
             [
              0.5555555555555556,
              "#d8576b"
             ],
             [
              0.6666666666666666,
              "#ed7953"
             ],
             [
              0.7777777777777778,
              "#fb9f3a"
             ],
             [
              0.8888888888888888,
              "#fdca26"
             ],
             [
              1,
              "#f0f921"
             ]
            ],
            "type": "histogram2d"
           }
          ],
          "histogram2dcontour": [
           {
            "colorbar": {
             "outlinewidth": 0,
             "ticks": ""
            },
            "colorscale": [
             [
              0,
              "#0d0887"
             ],
             [
              0.1111111111111111,
              "#46039f"
             ],
             [
              0.2222222222222222,
              "#7201a8"
             ],
             [
              0.3333333333333333,
              "#9c179e"
             ],
             [
              0.4444444444444444,
              "#bd3786"
             ],
             [
              0.5555555555555556,
              "#d8576b"
             ],
             [
              0.6666666666666666,
              "#ed7953"
             ],
             [
              0.7777777777777778,
              "#fb9f3a"
             ],
             [
              0.8888888888888888,
              "#fdca26"
             ],
             [
              1,
              "#f0f921"
             ]
            ],
            "type": "histogram2dcontour"
           }
          ],
          "mesh3d": [
           {
            "colorbar": {
             "outlinewidth": 0,
             "ticks": ""
            },
            "type": "mesh3d"
           }
          ],
          "parcoords": [
           {
            "line": {
             "colorbar": {
              "outlinewidth": 0,
              "ticks": ""
             }
            },
            "type": "parcoords"
           }
          ],
          "pie": [
           {
            "automargin": true,
            "type": "pie"
           }
          ],
          "scatter": [
           {
            "fillpattern": {
             "fillmode": "overlay",
             "size": 10,
             "solidity": 0.2
            },
            "type": "scatter"
           }
          ],
          "scatter3d": [
           {
            "line": {
             "colorbar": {
              "outlinewidth": 0,
              "ticks": ""
             }
            },
            "marker": {
             "colorbar": {
              "outlinewidth": 0,
              "ticks": ""
             }
            },
            "type": "scatter3d"
           }
          ],
          "scattercarpet": [
           {
            "marker": {
             "colorbar": {
              "outlinewidth": 0,
              "ticks": ""
             }
            },
            "type": "scattercarpet"
           }
          ],
          "scattergeo": [
           {
            "marker": {
             "colorbar": {
              "outlinewidth": 0,
              "ticks": ""
             }
            },
            "type": "scattergeo"
           }
          ],
          "scattergl": [
           {
            "marker": {
             "colorbar": {
              "outlinewidth": 0,
              "ticks": ""
             }
            },
            "type": "scattergl"
           }
          ],
          "scattermapbox": [
           {
            "marker": {
             "colorbar": {
              "outlinewidth": 0,
              "ticks": ""
             }
            },
            "type": "scattermapbox"
           }
          ],
          "scatterpolar": [
           {
            "marker": {
             "colorbar": {
              "outlinewidth": 0,
              "ticks": ""
             }
            },
            "type": "scatterpolar"
           }
          ],
          "scatterpolargl": [
           {
            "marker": {
             "colorbar": {
              "outlinewidth": 0,
              "ticks": ""
             }
            },
            "type": "scatterpolargl"
           }
          ],
          "scatterternary": [
           {
            "marker": {
             "colorbar": {
              "outlinewidth": 0,
              "ticks": ""
             }
            },
            "type": "scatterternary"
           }
          ],
          "surface": [
           {
            "colorbar": {
             "outlinewidth": 0,
             "ticks": ""
            },
            "colorscale": [
             [
              0,
              "#0d0887"
             ],
             [
              0.1111111111111111,
              "#46039f"
             ],
             [
              0.2222222222222222,
              "#7201a8"
             ],
             [
              0.3333333333333333,
              "#9c179e"
             ],
             [
              0.4444444444444444,
              "#bd3786"
             ],
             [
              0.5555555555555556,
              "#d8576b"
             ],
             [
              0.6666666666666666,
              "#ed7953"
             ],
             [
              0.7777777777777778,
              "#fb9f3a"
             ],
             [
              0.8888888888888888,
              "#fdca26"
             ],
             [
              1,
              "#f0f921"
             ]
            ],
            "type": "surface"
           }
          ],
          "table": [
           {
            "cells": {
             "fill": {
              "color": "#EBF0F8"
             },
             "line": {
              "color": "white"
             }
            },
            "header": {
             "fill": {
              "color": "#C8D4E3"
             },
             "line": {
              "color": "white"
             }
            },
            "type": "table"
           }
          ]
         },
         "layout": {
          "annotationdefaults": {
           "arrowcolor": "#2a3f5f",
           "arrowhead": 0,
           "arrowwidth": 1
          },
          "autotypenumbers": "strict",
          "coloraxis": {
           "colorbar": {
            "outlinewidth": 0,
            "ticks": ""
           }
          },
          "colorscale": {
           "diverging": [
            [
             0,
             "#8e0152"
            ],
            [
             0.1,
             "#c51b7d"
            ],
            [
             0.2,
             "#de77ae"
            ],
            [
             0.3,
             "#f1b6da"
            ],
            [
             0.4,
             "#fde0ef"
            ],
            [
             0.5,
             "#f7f7f7"
            ],
            [
             0.6,
             "#e6f5d0"
            ],
            [
             0.7,
             "#b8e186"
            ],
            [
             0.8,
             "#7fbc41"
            ],
            [
             0.9,
             "#4d9221"
            ],
            [
             1,
             "#276419"
            ]
           ],
           "sequential": [
            [
             0,
             "#0d0887"
            ],
            [
             0.1111111111111111,
             "#46039f"
            ],
            [
             0.2222222222222222,
             "#7201a8"
            ],
            [
             0.3333333333333333,
             "#9c179e"
            ],
            [
             0.4444444444444444,
             "#bd3786"
            ],
            [
             0.5555555555555556,
             "#d8576b"
            ],
            [
             0.6666666666666666,
             "#ed7953"
            ],
            [
             0.7777777777777778,
             "#fb9f3a"
            ],
            [
             0.8888888888888888,
             "#fdca26"
            ],
            [
             1,
             "#f0f921"
            ]
           ],
           "sequentialminus": [
            [
             0,
             "#0d0887"
            ],
            [
             0.1111111111111111,
             "#46039f"
            ],
            [
             0.2222222222222222,
             "#7201a8"
            ],
            [
             0.3333333333333333,
             "#9c179e"
            ],
            [
             0.4444444444444444,
             "#bd3786"
            ],
            [
             0.5555555555555556,
             "#d8576b"
            ],
            [
             0.6666666666666666,
             "#ed7953"
            ],
            [
             0.7777777777777778,
             "#fb9f3a"
            ],
            [
             0.8888888888888888,
             "#fdca26"
            ],
            [
             1,
             "#f0f921"
            ]
           ]
          },
          "colorway": [
           "#636efa",
           "#EF553B",
           "#00cc96",
           "#ab63fa",
           "#FFA15A",
           "#19d3f3",
           "#FF6692",
           "#B6E880",
           "#FF97FF",
           "#FECB52"
          ],
          "font": {
           "color": "#2a3f5f"
          },
          "geo": {
           "bgcolor": "white",
           "lakecolor": "white",
           "landcolor": "#E5ECF6",
           "showlakes": true,
           "showland": true,
           "subunitcolor": "white"
          },
          "hoverlabel": {
           "align": "left"
          },
          "hovermode": "closest",
          "mapbox": {
           "style": "light"
          },
          "paper_bgcolor": "white",
          "plot_bgcolor": "#E5ECF6",
          "polar": {
           "angularaxis": {
            "gridcolor": "white",
            "linecolor": "white",
            "ticks": ""
           },
           "bgcolor": "#E5ECF6",
           "radialaxis": {
            "gridcolor": "white",
            "linecolor": "white",
            "ticks": ""
           }
          },
          "scene": {
           "xaxis": {
            "backgroundcolor": "#E5ECF6",
            "gridcolor": "white",
            "gridwidth": 2,
            "linecolor": "white",
            "showbackground": true,
            "ticks": "",
            "zerolinecolor": "white"
           },
           "yaxis": {
            "backgroundcolor": "#E5ECF6",
            "gridcolor": "white",
            "gridwidth": 2,
            "linecolor": "white",
            "showbackground": true,
            "ticks": "",
            "zerolinecolor": "white"
           },
           "zaxis": {
            "backgroundcolor": "#E5ECF6",
            "gridcolor": "white",
            "gridwidth": 2,
            "linecolor": "white",
            "showbackground": true,
            "ticks": "",
            "zerolinecolor": "white"
           }
          },
          "shapedefaults": {
           "line": {
            "color": "#2a3f5f"
           }
          },
          "ternary": {
           "aaxis": {
            "gridcolor": "white",
            "linecolor": "white",
            "ticks": ""
           },
           "baxis": {
            "gridcolor": "white",
            "linecolor": "white",
            "ticks": ""
           },
           "bgcolor": "#E5ECF6",
           "caxis": {
            "gridcolor": "white",
            "linecolor": "white",
            "ticks": ""
           }
          },
          "title": {
           "x": 0.05
          },
          "xaxis": {
           "automargin": true,
           "gridcolor": "white",
           "linecolor": "white",
           "ticks": "",
           "title": {
            "standoff": 15
           },
           "zerolinecolor": "white",
           "zerolinewidth": 2
          },
          "yaxis": {
           "automargin": true,
           "gridcolor": "white",
           "linecolor": "white",
           "ticks": "",
           "title": {
            "standoff": 15
           },
           "zerolinecolor": "white",
           "zerolinewidth": 2
          }
         }
        },
        "title": {
         "font": {
          "size": 20
         },
         "text": "<b>LOSS</b> on training and validation sets across epochs - <i>fig.1</i>    <br><sup>Model hyperparameters:  Embedding Dimensions: 64 • Layers:  SimpleRNN(64 units), SimpleRNN(32 units), Dense 16  ReLU Activation, Dense 8 ReLU Activation, Dense 1 Sigmoïd Activation • Epochs: 20 | Total params: 542,785</sup>"
        },
        "xaxis": {
         "tickfont": {
          "size": 14
         },
         "title": {
          "text": "EPOCHS"
         }
        },
        "yaxis": {
         "tickfont": {
          "size": 14
         },
         "title": {
          "text": "CROSS ENTROPY"
         }
        }
       }
      }
     },
     "metadata": {},
     "output_type": "display_data"
    }
   ],
   "source": [
    "fig = go.Figure()\n",
    "\n",
    "fig.add_trace(go.Scatter(\n",
    "    y= history_Simple_RNN.history['loss'],\n",
    "    mode='lines',\n",
    "    name='Loss'))\n",
    "\n",
    "fig.add_trace(go.Scatter(\n",
    "    y= history_Simple_RNN.history['val_loss'],\n",
    "    mode='lines',\n",
    "    name='Val_Loss'))\n",
    "\n",
    "fig.update_layout(\n",
    "    height=650,\n",
    "    title='<b>LOSS</b> on training and validation sets across epochs - <i>fig.1</i>\\\n",
    "    <br><sup>Model hyperparameters:  Embedding Dimensions: 64 • Layers:  SimpleRNN(64 units), SimpleRNN(32 units), Dense 16  ReLU Activation, Dense 8 ReLU Activation, Dense 1 Sigmoïd Activation • Epochs: 20 | Total params: 542,785</sup>',\n",
    "    title_font={'size': 20},\n",
    "    xaxis_title='EPOCHS',\n",
    "    yaxis_title='CROSS ENTROPY', \n",
    "    xaxis_tickfont_size=14,\n",
    "    yaxis_tickfont_size=14,       \n",
    ")\n",
    "\n",
    "fig.show()"
   ]
  },
  {
   "cell_type": "code",
   "execution_count": 36,
   "metadata": {},
   "outputs": [
    {
     "data": {
      "application/vnd.plotly.v1+json": {
       "config": {
        "plotlyServerURL": "https://plot.ly"
       },
       "data": [
        {
         "mode": "lines",
         "name": "Training accuracy",
         "type": "scatter",
         "y": [
          0.8677751421928406,
          0.9202955961227417,
          0.9572446346282959,
          0.9714964628219604,
          0.9728160500526428,
          0.9802058339118958,
          0.980997622013092,
          0.9881235361099243,
          0.9939298033714294,
          0.9915544986724854,
          0.9912905693054199,
          0.9899709820747375,
          0.9875956773757935,
          0.9247822761535645,
          0.9738717079162598,
          0.9865399599075317,
          0.9889152646064758,
          0.9923462867736816,
          0.9899709820747375,
          0.9329638481140137
         ]
        },
        {
         "mode": "lines",
         "name": "Validation accruracy",
         "type": "scatter",
         "y": [
          0.9131773114204407,
          0.9353448152542114,
          0.9642857313156128,
          0.7278324961662292,
          0.9673645496368408,
          0.9667487740516663,
          0.9636699557304382,
          0.9562807679176331,
          0.9384236335754395,
          0.9698275923728943,
          0.9396551847457886,
          0.9649015069007874,
          0.7364531755447388,
          0.9211822748184204,
          0.947044312953949,
          0.9562807679176331,
          0.9612069129943848,
          0.9716748595237732,
          0.08374384045600891,
          0.9667487740516663
         ]
        }
       ],
       "layout": {
        "height": 650,
        "template": {
         "data": {
          "bar": [
           {
            "error_x": {
             "color": "#2a3f5f"
            },
            "error_y": {
             "color": "#2a3f5f"
            },
            "marker": {
             "line": {
              "color": "#E5ECF6",
              "width": 0.5
             },
             "pattern": {
              "fillmode": "overlay",
              "size": 10,
              "solidity": 0.2
             }
            },
            "type": "bar"
           }
          ],
          "barpolar": [
           {
            "marker": {
             "line": {
              "color": "#E5ECF6",
              "width": 0.5
             },
             "pattern": {
              "fillmode": "overlay",
              "size": 10,
              "solidity": 0.2
             }
            },
            "type": "barpolar"
           }
          ],
          "carpet": [
           {
            "aaxis": {
             "endlinecolor": "#2a3f5f",
             "gridcolor": "white",
             "linecolor": "white",
             "minorgridcolor": "white",
             "startlinecolor": "#2a3f5f"
            },
            "baxis": {
             "endlinecolor": "#2a3f5f",
             "gridcolor": "white",
             "linecolor": "white",
             "minorgridcolor": "white",
             "startlinecolor": "#2a3f5f"
            },
            "type": "carpet"
           }
          ],
          "choropleth": [
           {
            "colorbar": {
             "outlinewidth": 0,
             "ticks": ""
            },
            "type": "choropleth"
           }
          ],
          "contour": [
           {
            "colorbar": {
             "outlinewidth": 0,
             "ticks": ""
            },
            "colorscale": [
             [
              0,
              "#0d0887"
             ],
             [
              0.1111111111111111,
              "#46039f"
             ],
             [
              0.2222222222222222,
              "#7201a8"
             ],
             [
              0.3333333333333333,
              "#9c179e"
             ],
             [
              0.4444444444444444,
              "#bd3786"
             ],
             [
              0.5555555555555556,
              "#d8576b"
             ],
             [
              0.6666666666666666,
              "#ed7953"
             ],
             [
              0.7777777777777778,
              "#fb9f3a"
             ],
             [
              0.8888888888888888,
              "#fdca26"
             ],
             [
              1,
              "#f0f921"
             ]
            ],
            "type": "contour"
           }
          ],
          "contourcarpet": [
           {
            "colorbar": {
             "outlinewidth": 0,
             "ticks": ""
            },
            "type": "contourcarpet"
           }
          ],
          "heatmap": [
           {
            "colorbar": {
             "outlinewidth": 0,
             "ticks": ""
            },
            "colorscale": [
             [
              0,
              "#0d0887"
             ],
             [
              0.1111111111111111,
              "#46039f"
             ],
             [
              0.2222222222222222,
              "#7201a8"
             ],
             [
              0.3333333333333333,
              "#9c179e"
             ],
             [
              0.4444444444444444,
              "#bd3786"
             ],
             [
              0.5555555555555556,
              "#d8576b"
             ],
             [
              0.6666666666666666,
              "#ed7953"
             ],
             [
              0.7777777777777778,
              "#fb9f3a"
             ],
             [
              0.8888888888888888,
              "#fdca26"
             ],
             [
              1,
              "#f0f921"
             ]
            ],
            "type": "heatmap"
           }
          ],
          "heatmapgl": [
           {
            "colorbar": {
             "outlinewidth": 0,
             "ticks": ""
            },
            "colorscale": [
             [
              0,
              "#0d0887"
             ],
             [
              0.1111111111111111,
              "#46039f"
             ],
             [
              0.2222222222222222,
              "#7201a8"
             ],
             [
              0.3333333333333333,
              "#9c179e"
             ],
             [
              0.4444444444444444,
              "#bd3786"
             ],
             [
              0.5555555555555556,
              "#d8576b"
             ],
             [
              0.6666666666666666,
              "#ed7953"
             ],
             [
              0.7777777777777778,
              "#fb9f3a"
             ],
             [
              0.8888888888888888,
              "#fdca26"
             ],
             [
              1,
              "#f0f921"
             ]
            ],
            "type": "heatmapgl"
           }
          ],
          "histogram": [
           {
            "marker": {
             "pattern": {
              "fillmode": "overlay",
              "size": 10,
              "solidity": 0.2
             }
            },
            "type": "histogram"
           }
          ],
          "histogram2d": [
           {
            "colorbar": {
             "outlinewidth": 0,
             "ticks": ""
            },
            "colorscale": [
             [
              0,
              "#0d0887"
             ],
             [
              0.1111111111111111,
              "#46039f"
             ],
             [
              0.2222222222222222,
              "#7201a8"
             ],
             [
              0.3333333333333333,
              "#9c179e"
             ],
             [
              0.4444444444444444,
              "#bd3786"
             ],
             [
              0.5555555555555556,
              "#d8576b"
             ],
             [
              0.6666666666666666,
              "#ed7953"
             ],
             [
              0.7777777777777778,
              "#fb9f3a"
             ],
             [
              0.8888888888888888,
              "#fdca26"
             ],
             [
              1,
              "#f0f921"
             ]
            ],
            "type": "histogram2d"
           }
          ],
          "histogram2dcontour": [
           {
            "colorbar": {
             "outlinewidth": 0,
             "ticks": ""
            },
            "colorscale": [
             [
              0,
              "#0d0887"
             ],
             [
              0.1111111111111111,
              "#46039f"
             ],
             [
              0.2222222222222222,
              "#7201a8"
             ],
             [
              0.3333333333333333,
              "#9c179e"
             ],
             [
              0.4444444444444444,
              "#bd3786"
             ],
             [
              0.5555555555555556,
              "#d8576b"
             ],
             [
              0.6666666666666666,
              "#ed7953"
             ],
             [
              0.7777777777777778,
              "#fb9f3a"
             ],
             [
              0.8888888888888888,
              "#fdca26"
             ],
             [
              1,
              "#f0f921"
             ]
            ],
            "type": "histogram2dcontour"
           }
          ],
          "mesh3d": [
           {
            "colorbar": {
             "outlinewidth": 0,
             "ticks": ""
            },
            "type": "mesh3d"
           }
          ],
          "parcoords": [
           {
            "line": {
             "colorbar": {
              "outlinewidth": 0,
              "ticks": ""
             }
            },
            "type": "parcoords"
           }
          ],
          "pie": [
           {
            "automargin": true,
            "type": "pie"
           }
          ],
          "scatter": [
           {
            "fillpattern": {
             "fillmode": "overlay",
             "size": 10,
             "solidity": 0.2
            },
            "type": "scatter"
           }
          ],
          "scatter3d": [
           {
            "line": {
             "colorbar": {
              "outlinewidth": 0,
              "ticks": ""
             }
            },
            "marker": {
             "colorbar": {
              "outlinewidth": 0,
              "ticks": ""
             }
            },
            "type": "scatter3d"
           }
          ],
          "scattercarpet": [
           {
            "marker": {
             "colorbar": {
              "outlinewidth": 0,
              "ticks": ""
             }
            },
            "type": "scattercarpet"
           }
          ],
          "scattergeo": [
           {
            "marker": {
             "colorbar": {
              "outlinewidth": 0,
              "ticks": ""
             }
            },
            "type": "scattergeo"
           }
          ],
          "scattergl": [
           {
            "marker": {
             "colorbar": {
              "outlinewidth": 0,
              "ticks": ""
             }
            },
            "type": "scattergl"
           }
          ],
          "scattermapbox": [
           {
            "marker": {
             "colorbar": {
              "outlinewidth": 0,
              "ticks": ""
             }
            },
            "type": "scattermapbox"
           }
          ],
          "scatterpolar": [
           {
            "marker": {
             "colorbar": {
              "outlinewidth": 0,
              "ticks": ""
             }
            },
            "type": "scatterpolar"
           }
          ],
          "scatterpolargl": [
           {
            "marker": {
             "colorbar": {
              "outlinewidth": 0,
              "ticks": ""
             }
            },
            "type": "scatterpolargl"
           }
          ],
          "scatterternary": [
           {
            "marker": {
             "colorbar": {
              "outlinewidth": 0,
              "ticks": ""
             }
            },
            "type": "scatterternary"
           }
          ],
          "surface": [
           {
            "colorbar": {
             "outlinewidth": 0,
             "ticks": ""
            },
            "colorscale": [
             [
              0,
              "#0d0887"
             ],
             [
              0.1111111111111111,
              "#46039f"
             ],
             [
              0.2222222222222222,
              "#7201a8"
             ],
             [
              0.3333333333333333,
              "#9c179e"
             ],
             [
              0.4444444444444444,
              "#bd3786"
             ],
             [
              0.5555555555555556,
              "#d8576b"
             ],
             [
              0.6666666666666666,
              "#ed7953"
             ],
             [
              0.7777777777777778,
              "#fb9f3a"
             ],
             [
              0.8888888888888888,
              "#fdca26"
             ],
             [
              1,
              "#f0f921"
             ]
            ],
            "type": "surface"
           }
          ],
          "table": [
           {
            "cells": {
             "fill": {
              "color": "#EBF0F8"
             },
             "line": {
              "color": "white"
             }
            },
            "header": {
             "fill": {
              "color": "#C8D4E3"
             },
             "line": {
              "color": "white"
             }
            },
            "type": "table"
           }
          ]
         },
         "layout": {
          "annotationdefaults": {
           "arrowcolor": "#2a3f5f",
           "arrowhead": 0,
           "arrowwidth": 1
          },
          "autotypenumbers": "strict",
          "coloraxis": {
           "colorbar": {
            "outlinewidth": 0,
            "ticks": ""
           }
          },
          "colorscale": {
           "diverging": [
            [
             0,
             "#8e0152"
            ],
            [
             0.1,
             "#c51b7d"
            ],
            [
             0.2,
             "#de77ae"
            ],
            [
             0.3,
             "#f1b6da"
            ],
            [
             0.4,
             "#fde0ef"
            ],
            [
             0.5,
             "#f7f7f7"
            ],
            [
             0.6,
             "#e6f5d0"
            ],
            [
             0.7,
             "#b8e186"
            ],
            [
             0.8,
             "#7fbc41"
            ],
            [
             0.9,
             "#4d9221"
            ],
            [
             1,
             "#276419"
            ]
           ],
           "sequential": [
            [
             0,
             "#0d0887"
            ],
            [
             0.1111111111111111,
             "#46039f"
            ],
            [
             0.2222222222222222,
             "#7201a8"
            ],
            [
             0.3333333333333333,
             "#9c179e"
            ],
            [
             0.4444444444444444,
             "#bd3786"
            ],
            [
             0.5555555555555556,
             "#d8576b"
            ],
            [
             0.6666666666666666,
             "#ed7953"
            ],
            [
             0.7777777777777778,
             "#fb9f3a"
            ],
            [
             0.8888888888888888,
             "#fdca26"
            ],
            [
             1,
             "#f0f921"
            ]
           ],
           "sequentialminus": [
            [
             0,
             "#0d0887"
            ],
            [
             0.1111111111111111,
             "#46039f"
            ],
            [
             0.2222222222222222,
             "#7201a8"
            ],
            [
             0.3333333333333333,
             "#9c179e"
            ],
            [
             0.4444444444444444,
             "#bd3786"
            ],
            [
             0.5555555555555556,
             "#d8576b"
            ],
            [
             0.6666666666666666,
             "#ed7953"
            ],
            [
             0.7777777777777778,
             "#fb9f3a"
            ],
            [
             0.8888888888888888,
             "#fdca26"
            ],
            [
             1,
             "#f0f921"
            ]
           ]
          },
          "colorway": [
           "#636efa",
           "#EF553B",
           "#00cc96",
           "#ab63fa",
           "#FFA15A",
           "#19d3f3",
           "#FF6692",
           "#B6E880",
           "#FF97FF",
           "#FECB52"
          ],
          "font": {
           "color": "#2a3f5f"
          },
          "geo": {
           "bgcolor": "white",
           "lakecolor": "white",
           "landcolor": "#E5ECF6",
           "showlakes": true,
           "showland": true,
           "subunitcolor": "white"
          },
          "hoverlabel": {
           "align": "left"
          },
          "hovermode": "closest",
          "mapbox": {
           "style": "light"
          },
          "paper_bgcolor": "white",
          "plot_bgcolor": "#E5ECF6",
          "polar": {
           "angularaxis": {
            "gridcolor": "white",
            "linecolor": "white",
            "ticks": ""
           },
           "bgcolor": "#E5ECF6",
           "radialaxis": {
            "gridcolor": "white",
            "linecolor": "white",
            "ticks": ""
           }
          },
          "scene": {
           "xaxis": {
            "backgroundcolor": "#E5ECF6",
            "gridcolor": "white",
            "gridwidth": 2,
            "linecolor": "white",
            "showbackground": true,
            "ticks": "",
            "zerolinecolor": "white"
           },
           "yaxis": {
            "backgroundcolor": "#E5ECF6",
            "gridcolor": "white",
            "gridwidth": 2,
            "linecolor": "white",
            "showbackground": true,
            "ticks": "",
            "zerolinecolor": "white"
           },
           "zaxis": {
            "backgroundcolor": "#E5ECF6",
            "gridcolor": "white",
            "gridwidth": 2,
            "linecolor": "white",
            "showbackground": true,
            "ticks": "",
            "zerolinecolor": "white"
           }
          },
          "shapedefaults": {
           "line": {
            "color": "#2a3f5f"
           }
          },
          "ternary": {
           "aaxis": {
            "gridcolor": "white",
            "linecolor": "white",
            "ticks": ""
           },
           "baxis": {
            "gridcolor": "white",
            "linecolor": "white",
            "ticks": ""
           },
           "bgcolor": "#E5ECF6",
           "caxis": {
            "gridcolor": "white",
            "linecolor": "white",
            "ticks": ""
           }
          },
          "title": {
           "x": 0.05
          },
          "xaxis": {
           "automargin": true,
           "gridcolor": "white",
           "linecolor": "white",
           "ticks": "",
           "title": {
            "standoff": 15
           },
           "zerolinecolor": "white",
           "zerolinewidth": 2
          },
          "yaxis": {
           "automargin": true,
           "gridcolor": "white",
           "linecolor": "white",
           "ticks": "",
           "title": {
            "standoff": 15
           },
           "zerolinecolor": "white",
           "zerolinewidth": 2
          }
         }
        },
        "title": {
         "font": {
          "size": 20
         },
         "text": "<b>ACCURACY</b> on training and validation sets across epochs - <i>fig.2</i>    <br><sup>Model hyperparameters:  Embedding Dimensions: 64 • Layers:  SimpleRNN(64 units), SimpleRNN(32 units), Dense 16  ReLU Activation, Dense 8 ReLU Activation, Dense 1 Sigmoïd Activation • Epochs: 20 | Total params: 542,785</sup>"
        },
        "xaxis": {
         "tickfont": {
          "size": 14
         },
         "title": {
          "text": "EPOCHS"
         }
        },
        "yaxis": {
         "tickfont": {
          "size": 14
         },
         "title": {
          "text": "ACCURACY"
         }
        }
       }
      }
     },
     "metadata": {},
     "output_type": "display_data"
    }
   ],
   "source": [
    "fig = go.Figure(data=[\n",
    "                      go.Scatter(\n",
    "                          y=history_Simple_RNN.history[\"accuracy\"],\n",
    "                          name=\"Training accuracy\",\n",
    "                          mode=\"lines\",\n",
    "                          ),\n",
    "                      go.Scatter(\n",
    "                          y=history_Simple_RNN.history[\"val_accuracy\"],\n",
    "                          name=\"Validation accruracy\",\n",
    "                          mode=\"lines\",\n",
    "                          )\n",
    "])\n",
    "\n",
    "fig.update_layout(\n",
    "    height=650,\n",
    "    title='<b>ACCURACY</b> on training and validation sets across epochs - <i>fig.2</i>\\\n",
    "    <br><sup>Model hyperparameters:  Embedding Dimensions: 64 • Layers:  SimpleRNN(64 units), SimpleRNN(32 units), Dense 16  ReLU Activation, Dense 8 ReLU Activation, Dense 1 Sigmoïd Activation • Epochs: 20 | Total params: 542,785</sup>',\n",
    "    title_font={'size': 20},\n",
    "    xaxis_title='EPOCHS',\n",
    "    yaxis_title='ACCURACY', \n",
    "    xaxis_tickfont_size=14,\n",
    "    yaxis_tickfont_size=14,     \n",
    ")\n",
    "fig.show()"
   ]
  },
  {
   "attachments": {},
   "cell_type": "markdown",
   "metadata": {},
   "source": [
    "__OBSERVATIONS__<br>\n",
    "* We can see from both figures above that even if the loss is low in both cases, because of the SimpleRNN nature, we don't have a straigh line accross epochs. "
   ]
  },
  {
   "attachments": {},
   "cell_type": "markdown",
   "metadata": {},
   "source": [
    "--------\n",
    "### __2. LONG SHORT TERM MEMORY (LSTM)__\n",
    "--------"
   ]
  },
  {
   "cell_type": "code",
   "execution_count": 37,
   "metadata": {},
   "outputs": [
    {
     "name": "stdout",
     "output_type": "stream",
     "text": [
      "Model: \"sequential_1\"\n",
      "_________________________________________________________________\n",
      " Layer (type)                Output Shape              Param #   \n",
      "=================================================================\n",
      " embedding (Embedding)       (None, 47, 64)            525120    \n",
      "                                                                 \n",
      " lstm (LSTM)                 (None, 47, 64)            33024     \n",
      "                                                                 \n",
      " lstm_1 (LSTM)               (None, 32)                12416     \n",
      "                                                                 \n",
      " dense_3 (Dense)             (None, 16)                528       \n",
      "                                                                 \n",
      " dense_4 (Dense)             (None, 8)                 136       \n",
      "                                                                 \n",
      " dense_5 (Dense)             (None, 1)                 9         \n",
      "                                                                 \n",
      "=================================================================\n",
      "Total params: 571,233\n",
      "Trainable params: 571,233\n",
      "Non-trainable params: 0\n",
      "_________________________________________________________________\n"
     ]
    }
   ],
   "source": [
    "vocab_size = len(tokenizer.word_index)\n",
    "\n",
    "model_LSTM = tf.keras.Sequential([\n",
    "    \n",
    "    # Word Embedding layer           \n",
    "    Embedding(vocab_size+1, 64, input_shape=[Messages.shape[1],], name=\"embedding\"),\n",
    "\n",
    "    LSTM(units=64, return_sequences=True),\n",
    "    LSTM(units=32, return_sequences=False),\n",
    "\n",
    "    Dense(16, activation='relu'),\n",
    "    Dense(8, activation='relu'),\n",
    "\n",
    "    # The last layer of our model is a sigmoid in order to treat our classification problem, SPAM or HAM\n",
    "    Dense(1, activation='sigmoid')\n",
    "])\n",
    "\n",
    "model_LSTM.summary()"
   ]
  },
  {
   "attachments": {},
   "cell_type": "markdown",
   "metadata": {},
   "source": [
    "Because our target is highly imbalanced, we assign to each value of the target variable a weight that is inversely proportionnal to their frequency in the dataset. "
   ]
  },
  {
   "cell_type": "code",
   "execution_count": 38,
   "metadata": {},
   "outputs": [
    {
     "data": {
      "text/plain": [
       "{0: 0.5797986289631534, 1: 3.632885906040268}"
      ]
     },
     "execution_count": 38,
     "metadata": {},
     "output_type": "execute_result"
    }
   ],
   "source": [
    "# Here we calculate the inverse of the frequency for each class \n",
    "weights = 1/(df['Target']).value_counts()\n",
    "\n",
    "# We then multiple those results by the number of observations and divide by the number of class\n",
    "weights = weights * len(df)/2\n",
    "\n",
    "weights = {index : values for index , values in zip(weights.index, weights.values)}\n",
    "weights"
   ]
  },
  {
   "cell_type": "code",
   "execution_count": 39,
   "metadata": {},
   "outputs": [],
   "source": [
    "# Our optimizer is the stochastic gradient descent method called Adam for Adaptive moment estimation, in order to adapt the learning rate\n",
    "Adam = tf.keras.optimizers.Adam()\n",
    "\n",
    "model_LSTM.compile(optimizer= Adam,\n",
    "              loss= tf.keras.losses.BinaryCrossentropy(),\n",
    "              metrics= ['accuracy']\n",
    "              )"
   ]
  },
  {
   "cell_type": "code",
   "execution_count": 40,
   "metadata": {},
   "outputs": [
    {
     "name": "stdout",
     "output_type": "stream",
     "text": [
      "Epoch 1/20\n",
      "60/60 [==============================] - 24s 163ms/step - loss: 0.6926 - accuracy: 0.3299 - val_loss: 0.6877 - val_accuracy: 0.8615\n",
      "Epoch 2/20\n",
      "60/60 [==============================] - 8s 128ms/step - loss: 0.6924 - accuracy: 0.5442 - val_loss: 0.6904 - val_accuracy: 0.8615\n",
      "Epoch 3/20\n",
      "60/60 [==============================] - 8s 128ms/step - loss: 0.6924 - accuracy: 0.8628 - val_loss: 0.6882 - val_accuracy: 0.8615\n",
      "Epoch 4/20\n",
      "60/60 [==============================] - 8s 125ms/step - loss: 0.6924 - accuracy: 0.8628 - val_loss: 0.6909 - val_accuracy: 0.8615\n",
      "Epoch 5/20\n",
      "60/60 [==============================] - 8s 131ms/step - loss: 0.5699 - accuracy: 0.8928 - val_loss: 0.6308 - val_accuracy: 0.9329\n",
      "Epoch 6/20\n",
      "60/60 [==============================] - 8s 139ms/step - loss: 0.4851 - accuracy: 0.9411 - val_loss: 0.6046 - val_accuracy: 0.9323\n",
      "Epoch 7/20\n",
      "60/60 [==============================] - 8s 131ms/step - loss: 0.4769 - accuracy: 0.9411 - val_loss: 0.5825 - val_accuracy: 0.9323\n",
      "Epoch 8/20\n",
      "60/60 [==============================] - 8s 136ms/step - loss: 0.4703 - accuracy: 0.9411 - val_loss: 0.5638 - val_accuracy: 0.9323\n",
      "Epoch 9/20\n",
      "60/60 [==============================] - 8s 136ms/step - loss: 0.4651 - accuracy: 0.9411 - val_loss: 0.5473 - val_accuracy: 0.9323\n",
      "Epoch 10/20\n",
      "60/60 [==============================] - 8s 128ms/step - loss: 0.4606 - accuracy: 0.9411 - val_loss: 0.5325 - val_accuracy: 0.9323\n",
      "Epoch 11/20\n",
      "60/60 [==============================] - 8s 135ms/step - loss: 0.4568 - accuracy: 0.9411 - val_loss: 0.5189 - val_accuracy: 0.9323\n",
      "Epoch 12/20\n",
      "60/60 [==============================] - 8s 131ms/step - loss: 0.4536 - accuracy: 0.9411 - val_loss: 0.5067 - val_accuracy: 0.9323\n",
      "Epoch 13/20\n",
      "60/60 [==============================] - 8s 128ms/step - loss: 0.4508 - accuracy: 0.9411 - val_loss: 0.4958 - val_accuracy: 0.9323\n",
      "Epoch 14/20\n",
      "60/60 [==============================] - 8s 138ms/step - loss: 0.4484 - accuracy: 0.9411 - val_loss: 0.4856 - val_accuracy: 0.9323\n",
      "Epoch 15/20\n",
      "60/60 [==============================] - 8s 130ms/step - loss: 0.4465 - accuracy: 0.9411 - val_loss: 0.4777 - val_accuracy: 0.9323\n",
      "Epoch 16/20\n",
      "60/60 [==============================] - 8s 135ms/step - loss: 0.4448 - accuracy: 0.9411 - val_loss: 0.4693 - val_accuracy: 0.9323\n",
      "Epoch 17/20\n",
      "60/60 [==============================] - 8s 134ms/step - loss: 0.4433 - accuracy: 0.9411 - val_loss: 0.4612 - val_accuracy: 0.9323\n",
      "Epoch 18/20\n",
      "60/60 [==============================] - 8s 132ms/step - loss: 0.4421 - accuracy: 0.9411 - val_loss: 0.4547 - val_accuracy: 0.9323\n",
      "Epoch 19/20\n",
      "60/60 [==============================] - 8s 136ms/step - loss: 0.4412 - accuracy: 0.9411 - val_loss: 0.4486 - val_accuracy: 0.9323\n",
      "Epoch 20/20\n",
      "60/60 [==============================] - 8s 133ms/step - loss: 0.4403 - accuracy: 0.9411 - val_loss: 0.4436 - val_accuracy: 0.9323\n"
     ]
    }
   ],
   "source": [
    "# We fit our model on 20 epochs taking into account the weights we calculated above to penalize too frequent notes. \n",
    "history_LSTM = model_LSTM.fit(\n",
    "    train_data,\n",
    "    epochs= 20, \n",
    "    validation_data = test_data, \n",
    "    class_weight= weights, \n",
    "    )"
   ]
  },
  {
   "cell_type": "code",
   "execution_count": 41,
   "metadata": {},
   "outputs": [
    {
     "data": {
      "application/vnd.plotly.v1+json": {
       "config": {
        "plotlyServerURL": "https://plot.ly"
       },
       "data": [
        {
         "mode": "lines",
         "name": "Loss",
         "type": "scatter",
         "y": [
          0.6926421523094177,
          0.6924305558204651,
          0.6924092173576355,
          0.6923669576644897,
          0.5698861479759216,
          0.48512500524520874,
          0.4769006073474884,
          0.4703182876110077,
          0.46514958143234253,
          0.46060696244239807,
          0.4567526578903198,
          0.45355212688446045,
          0.4507502615451813,
          0.44842734932899475,
          0.4464985728263855,
          0.44479072093963623,
          0.4433068633079529,
          0.442097932100296,
          0.4411705732345581,
          0.44030681252479553
         ]
        },
        {
         "mode": "lines",
         "name": "Val_Loss",
         "type": "scatter",
         "y": [
          0.6877380013465881,
          0.690446674823761,
          0.6882181167602539,
          0.6909365057945251,
          0.630846381187439,
          0.6045502424240112,
          0.582513689994812,
          0.5637816190719604,
          0.5472834706306458,
          0.5324906706809998,
          0.5188769102096558,
          0.5067228674888611,
          0.4957527816295624,
          0.4856340289115906,
          0.47766485810279846,
          0.46934548020362854,
          0.4611705541610718,
          0.45467832684516907,
          0.448550820350647,
          0.44358280301094055
         ]
        }
       ],
       "layout": {
        "height": 650,
        "template": {
         "data": {
          "bar": [
           {
            "error_x": {
             "color": "#2a3f5f"
            },
            "error_y": {
             "color": "#2a3f5f"
            },
            "marker": {
             "line": {
              "color": "#E5ECF6",
              "width": 0.5
             },
             "pattern": {
              "fillmode": "overlay",
              "size": 10,
              "solidity": 0.2
             }
            },
            "type": "bar"
           }
          ],
          "barpolar": [
           {
            "marker": {
             "line": {
              "color": "#E5ECF6",
              "width": 0.5
             },
             "pattern": {
              "fillmode": "overlay",
              "size": 10,
              "solidity": 0.2
             }
            },
            "type": "barpolar"
           }
          ],
          "carpet": [
           {
            "aaxis": {
             "endlinecolor": "#2a3f5f",
             "gridcolor": "white",
             "linecolor": "white",
             "minorgridcolor": "white",
             "startlinecolor": "#2a3f5f"
            },
            "baxis": {
             "endlinecolor": "#2a3f5f",
             "gridcolor": "white",
             "linecolor": "white",
             "minorgridcolor": "white",
             "startlinecolor": "#2a3f5f"
            },
            "type": "carpet"
           }
          ],
          "choropleth": [
           {
            "colorbar": {
             "outlinewidth": 0,
             "ticks": ""
            },
            "type": "choropleth"
           }
          ],
          "contour": [
           {
            "colorbar": {
             "outlinewidth": 0,
             "ticks": ""
            },
            "colorscale": [
             [
              0,
              "#0d0887"
             ],
             [
              0.1111111111111111,
              "#46039f"
             ],
             [
              0.2222222222222222,
              "#7201a8"
             ],
             [
              0.3333333333333333,
              "#9c179e"
             ],
             [
              0.4444444444444444,
              "#bd3786"
             ],
             [
              0.5555555555555556,
              "#d8576b"
             ],
             [
              0.6666666666666666,
              "#ed7953"
             ],
             [
              0.7777777777777778,
              "#fb9f3a"
             ],
             [
              0.8888888888888888,
              "#fdca26"
             ],
             [
              1,
              "#f0f921"
             ]
            ],
            "type": "contour"
           }
          ],
          "contourcarpet": [
           {
            "colorbar": {
             "outlinewidth": 0,
             "ticks": ""
            },
            "type": "contourcarpet"
           }
          ],
          "heatmap": [
           {
            "colorbar": {
             "outlinewidth": 0,
             "ticks": ""
            },
            "colorscale": [
             [
              0,
              "#0d0887"
             ],
             [
              0.1111111111111111,
              "#46039f"
             ],
             [
              0.2222222222222222,
              "#7201a8"
             ],
             [
              0.3333333333333333,
              "#9c179e"
             ],
             [
              0.4444444444444444,
              "#bd3786"
             ],
             [
              0.5555555555555556,
              "#d8576b"
             ],
             [
              0.6666666666666666,
              "#ed7953"
             ],
             [
              0.7777777777777778,
              "#fb9f3a"
             ],
             [
              0.8888888888888888,
              "#fdca26"
             ],
             [
              1,
              "#f0f921"
             ]
            ],
            "type": "heatmap"
           }
          ],
          "heatmapgl": [
           {
            "colorbar": {
             "outlinewidth": 0,
             "ticks": ""
            },
            "colorscale": [
             [
              0,
              "#0d0887"
             ],
             [
              0.1111111111111111,
              "#46039f"
             ],
             [
              0.2222222222222222,
              "#7201a8"
             ],
             [
              0.3333333333333333,
              "#9c179e"
             ],
             [
              0.4444444444444444,
              "#bd3786"
             ],
             [
              0.5555555555555556,
              "#d8576b"
             ],
             [
              0.6666666666666666,
              "#ed7953"
             ],
             [
              0.7777777777777778,
              "#fb9f3a"
             ],
             [
              0.8888888888888888,
              "#fdca26"
             ],
             [
              1,
              "#f0f921"
             ]
            ],
            "type": "heatmapgl"
           }
          ],
          "histogram": [
           {
            "marker": {
             "pattern": {
              "fillmode": "overlay",
              "size": 10,
              "solidity": 0.2
             }
            },
            "type": "histogram"
           }
          ],
          "histogram2d": [
           {
            "colorbar": {
             "outlinewidth": 0,
             "ticks": ""
            },
            "colorscale": [
             [
              0,
              "#0d0887"
             ],
             [
              0.1111111111111111,
              "#46039f"
             ],
             [
              0.2222222222222222,
              "#7201a8"
             ],
             [
              0.3333333333333333,
              "#9c179e"
             ],
             [
              0.4444444444444444,
              "#bd3786"
             ],
             [
              0.5555555555555556,
              "#d8576b"
             ],
             [
              0.6666666666666666,
              "#ed7953"
             ],
             [
              0.7777777777777778,
              "#fb9f3a"
             ],
             [
              0.8888888888888888,
              "#fdca26"
             ],
             [
              1,
              "#f0f921"
             ]
            ],
            "type": "histogram2d"
           }
          ],
          "histogram2dcontour": [
           {
            "colorbar": {
             "outlinewidth": 0,
             "ticks": ""
            },
            "colorscale": [
             [
              0,
              "#0d0887"
             ],
             [
              0.1111111111111111,
              "#46039f"
             ],
             [
              0.2222222222222222,
              "#7201a8"
             ],
             [
              0.3333333333333333,
              "#9c179e"
             ],
             [
              0.4444444444444444,
              "#bd3786"
             ],
             [
              0.5555555555555556,
              "#d8576b"
             ],
             [
              0.6666666666666666,
              "#ed7953"
             ],
             [
              0.7777777777777778,
              "#fb9f3a"
             ],
             [
              0.8888888888888888,
              "#fdca26"
             ],
             [
              1,
              "#f0f921"
             ]
            ],
            "type": "histogram2dcontour"
           }
          ],
          "mesh3d": [
           {
            "colorbar": {
             "outlinewidth": 0,
             "ticks": ""
            },
            "type": "mesh3d"
           }
          ],
          "parcoords": [
           {
            "line": {
             "colorbar": {
              "outlinewidth": 0,
              "ticks": ""
             }
            },
            "type": "parcoords"
           }
          ],
          "pie": [
           {
            "automargin": true,
            "type": "pie"
           }
          ],
          "scatter": [
           {
            "fillpattern": {
             "fillmode": "overlay",
             "size": 10,
             "solidity": 0.2
            },
            "type": "scatter"
           }
          ],
          "scatter3d": [
           {
            "line": {
             "colorbar": {
              "outlinewidth": 0,
              "ticks": ""
             }
            },
            "marker": {
             "colorbar": {
              "outlinewidth": 0,
              "ticks": ""
             }
            },
            "type": "scatter3d"
           }
          ],
          "scattercarpet": [
           {
            "marker": {
             "colorbar": {
              "outlinewidth": 0,
              "ticks": ""
             }
            },
            "type": "scattercarpet"
           }
          ],
          "scattergeo": [
           {
            "marker": {
             "colorbar": {
              "outlinewidth": 0,
              "ticks": ""
             }
            },
            "type": "scattergeo"
           }
          ],
          "scattergl": [
           {
            "marker": {
             "colorbar": {
              "outlinewidth": 0,
              "ticks": ""
             }
            },
            "type": "scattergl"
           }
          ],
          "scattermapbox": [
           {
            "marker": {
             "colorbar": {
              "outlinewidth": 0,
              "ticks": ""
             }
            },
            "type": "scattermapbox"
           }
          ],
          "scatterpolar": [
           {
            "marker": {
             "colorbar": {
              "outlinewidth": 0,
              "ticks": ""
             }
            },
            "type": "scatterpolar"
           }
          ],
          "scatterpolargl": [
           {
            "marker": {
             "colorbar": {
              "outlinewidth": 0,
              "ticks": ""
             }
            },
            "type": "scatterpolargl"
           }
          ],
          "scatterternary": [
           {
            "marker": {
             "colorbar": {
              "outlinewidth": 0,
              "ticks": ""
             }
            },
            "type": "scatterternary"
           }
          ],
          "surface": [
           {
            "colorbar": {
             "outlinewidth": 0,
             "ticks": ""
            },
            "colorscale": [
             [
              0,
              "#0d0887"
             ],
             [
              0.1111111111111111,
              "#46039f"
             ],
             [
              0.2222222222222222,
              "#7201a8"
             ],
             [
              0.3333333333333333,
              "#9c179e"
             ],
             [
              0.4444444444444444,
              "#bd3786"
             ],
             [
              0.5555555555555556,
              "#d8576b"
             ],
             [
              0.6666666666666666,
              "#ed7953"
             ],
             [
              0.7777777777777778,
              "#fb9f3a"
             ],
             [
              0.8888888888888888,
              "#fdca26"
             ],
             [
              1,
              "#f0f921"
             ]
            ],
            "type": "surface"
           }
          ],
          "table": [
           {
            "cells": {
             "fill": {
              "color": "#EBF0F8"
             },
             "line": {
              "color": "white"
             }
            },
            "header": {
             "fill": {
              "color": "#C8D4E3"
             },
             "line": {
              "color": "white"
             }
            },
            "type": "table"
           }
          ]
         },
         "layout": {
          "annotationdefaults": {
           "arrowcolor": "#2a3f5f",
           "arrowhead": 0,
           "arrowwidth": 1
          },
          "autotypenumbers": "strict",
          "coloraxis": {
           "colorbar": {
            "outlinewidth": 0,
            "ticks": ""
           }
          },
          "colorscale": {
           "diverging": [
            [
             0,
             "#8e0152"
            ],
            [
             0.1,
             "#c51b7d"
            ],
            [
             0.2,
             "#de77ae"
            ],
            [
             0.3,
             "#f1b6da"
            ],
            [
             0.4,
             "#fde0ef"
            ],
            [
             0.5,
             "#f7f7f7"
            ],
            [
             0.6,
             "#e6f5d0"
            ],
            [
             0.7,
             "#b8e186"
            ],
            [
             0.8,
             "#7fbc41"
            ],
            [
             0.9,
             "#4d9221"
            ],
            [
             1,
             "#276419"
            ]
           ],
           "sequential": [
            [
             0,
             "#0d0887"
            ],
            [
             0.1111111111111111,
             "#46039f"
            ],
            [
             0.2222222222222222,
             "#7201a8"
            ],
            [
             0.3333333333333333,
             "#9c179e"
            ],
            [
             0.4444444444444444,
             "#bd3786"
            ],
            [
             0.5555555555555556,
             "#d8576b"
            ],
            [
             0.6666666666666666,
             "#ed7953"
            ],
            [
             0.7777777777777778,
             "#fb9f3a"
            ],
            [
             0.8888888888888888,
             "#fdca26"
            ],
            [
             1,
             "#f0f921"
            ]
           ],
           "sequentialminus": [
            [
             0,
             "#0d0887"
            ],
            [
             0.1111111111111111,
             "#46039f"
            ],
            [
             0.2222222222222222,
             "#7201a8"
            ],
            [
             0.3333333333333333,
             "#9c179e"
            ],
            [
             0.4444444444444444,
             "#bd3786"
            ],
            [
             0.5555555555555556,
             "#d8576b"
            ],
            [
             0.6666666666666666,
             "#ed7953"
            ],
            [
             0.7777777777777778,
             "#fb9f3a"
            ],
            [
             0.8888888888888888,
             "#fdca26"
            ],
            [
             1,
             "#f0f921"
            ]
           ]
          },
          "colorway": [
           "#636efa",
           "#EF553B",
           "#00cc96",
           "#ab63fa",
           "#FFA15A",
           "#19d3f3",
           "#FF6692",
           "#B6E880",
           "#FF97FF",
           "#FECB52"
          ],
          "font": {
           "color": "#2a3f5f"
          },
          "geo": {
           "bgcolor": "white",
           "lakecolor": "white",
           "landcolor": "#E5ECF6",
           "showlakes": true,
           "showland": true,
           "subunitcolor": "white"
          },
          "hoverlabel": {
           "align": "left"
          },
          "hovermode": "closest",
          "mapbox": {
           "style": "light"
          },
          "paper_bgcolor": "white",
          "plot_bgcolor": "#E5ECF6",
          "polar": {
           "angularaxis": {
            "gridcolor": "white",
            "linecolor": "white",
            "ticks": ""
           },
           "bgcolor": "#E5ECF6",
           "radialaxis": {
            "gridcolor": "white",
            "linecolor": "white",
            "ticks": ""
           }
          },
          "scene": {
           "xaxis": {
            "backgroundcolor": "#E5ECF6",
            "gridcolor": "white",
            "gridwidth": 2,
            "linecolor": "white",
            "showbackground": true,
            "ticks": "",
            "zerolinecolor": "white"
           },
           "yaxis": {
            "backgroundcolor": "#E5ECF6",
            "gridcolor": "white",
            "gridwidth": 2,
            "linecolor": "white",
            "showbackground": true,
            "ticks": "",
            "zerolinecolor": "white"
           },
           "zaxis": {
            "backgroundcolor": "#E5ECF6",
            "gridcolor": "white",
            "gridwidth": 2,
            "linecolor": "white",
            "showbackground": true,
            "ticks": "",
            "zerolinecolor": "white"
           }
          },
          "shapedefaults": {
           "line": {
            "color": "#2a3f5f"
           }
          },
          "ternary": {
           "aaxis": {
            "gridcolor": "white",
            "linecolor": "white",
            "ticks": ""
           },
           "baxis": {
            "gridcolor": "white",
            "linecolor": "white",
            "ticks": ""
           },
           "bgcolor": "#E5ECF6",
           "caxis": {
            "gridcolor": "white",
            "linecolor": "white",
            "ticks": ""
           }
          },
          "title": {
           "x": 0.05
          },
          "xaxis": {
           "automargin": true,
           "gridcolor": "white",
           "linecolor": "white",
           "ticks": "",
           "title": {
            "standoff": 15
           },
           "zerolinecolor": "white",
           "zerolinewidth": 2
          },
          "yaxis": {
           "automargin": true,
           "gridcolor": "white",
           "linecolor": "white",
           "ticks": "",
           "title": {
            "standoff": 15
           },
           "zerolinecolor": "white",
           "zerolinewidth": 2
          }
         }
        },
        "title": {
         "font": {
          "size": 20
         },
         "text": "<b>LOSS</b> on training and validation sets across epochs - <i>fig.1</i>    <br><sup>Model hyperparameters:  Embedding Dimensions: 64 • Layers:  LSTM(64 units), LSTM(32 units), Dense 16  ReLU Activation, Dense 8 ReLU Activation, Dense 1 Sigmoïd Activation • Epochs: 20 | Total params: 576,865</sup>"
        },
        "xaxis": {
         "tickfont": {
          "size": 14
         },
         "title": {
          "text": "EPOCHS"
         }
        },
        "yaxis": {
         "tickfont": {
          "size": 14
         },
         "title": {
          "text": "CROSS ENTROPY"
         }
        }
       }
      }
     },
     "metadata": {},
     "output_type": "display_data"
    }
   ],
   "source": [
    "fig = go.Figure()\n",
    "\n",
    "fig.add_trace(go.Scatter(\n",
    "    y= history_LSTM.history['loss'],\n",
    "    mode='lines',\n",
    "    name='Loss'))\n",
    "\n",
    "fig.add_trace(go.Scatter(\n",
    "    y= history_LSTM.history['val_loss'],\n",
    "    mode='lines',\n",
    "    name='Val_Loss'))\n",
    "\n",
    "fig.update_layout(\n",
    "    height=650,\n",
    "    title='<b>LOSS</b> on training and validation sets across epochs - <i>fig.1</i>\\\n",
    "    <br><sup>Model hyperparameters:  Embedding Dimensions: 64 • Layers:  LSTM(64 units), LSTM(32 units), Dense 16  ReLU Activation, Dense 8 ReLU Activation, Dense 1 Sigmoïd Activation • Epochs: 20 | Total params: 576,865</sup>',\n",
    "    title_font={'size': 20},\n",
    "    xaxis_title='EPOCHS',\n",
    "    yaxis_title='CROSS ENTROPY', \n",
    "    xaxis_tickfont_size=14,\n",
    "    yaxis_tickfont_size=14,       \n",
    ")\n",
    "\n",
    "fig.show()"
   ]
  },
  {
   "cell_type": "code",
   "execution_count": 42,
   "metadata": {},
   "outputs": [
    {
     "data": {
      "application/vnd.plotly.v1+json": {
       "config": {
        "plotlyServerURL": "https://plot.ly"
       },
       "data": [
        {
         "mode": "lines",
         "name": "Training accuracy",
         "type": "scatter",
         "y": [
          0.3299023509025574,
          0.5442069172859192,
          0.862760603427887,
          0.862760603427887,
          0.8928477168083191,
          0.9411454200744629,
          0.9411454200744629,
          0.9411454200744629,
          0.9411454200744629,
          0.9411454200744629,
          0.9411454200744629,
          0.9411454200744629,
          0.9411454200744629,
          0.9411454200744629,
          0.9411454200744629,
          0.9411454200744629,
          0.9411454200744629,
          0.9411454200744629,
          0.9411454200744629,
          0.9411454200744629
         ]
        },
        {
         "mode": "lines",
         "name": "Validation accruracy",
         "type": "scatter",
         "y": [
          0.8614531755447388,
          0.8614531755447388,
          0.8614531755447388,
          0.8614531755447388,
          0.932881772518158,
          0.9322659969329834,
          0.9322659969329834,
          0.9322659969329834,
          0.9322659969329834,
          0.9322659969329834,
          0.9322659969329834,
          0.9322659969329834,
          0.9322659969329834,
          0.9322659969329834,
          0.9322659969329834,
          0.9322659969329834,
          0.9322659969329834,
          0.9322659969329834,
          0.9322659969329834,
          0.9322659969329834
         ]
        }
       ],
       "layout": {
        "height": 650,
        "template": {
         "data": {
          "bar": [
           {
            "error_x": {
             "color": "#2a3f5f"
            },
            "error_y": {
             "color": "#2a3f5f"
            },
            "marker": {
             "line": {
              "color": "#E5ECF6",
              "width": 0.5
             },
             "pattern": {
              "fillmode": "overlay",
              "size": 10,
              "solidity": 0.2
             }
            },
            "type": "bar"
           }
          ],
          "barpolar": [
           {
            "marker": {
             "line": {
              "color": "#E5ECF6",
              "width": 0.5
             },
             "pattern": {
              "fillmode": "overlay",
              "size": 10,
              "solidity": 0.2
             }
            },
            "type": "barpolar"
           }
          ],
          "carpet": [
           {
            "aaxis": {
             "endlinecolor": "#2a3f5f",
             "gridcolor": "white",
             "linecolor": "white",
             "minorgridcolor": "white",
             "startlinecolor": "#2a3f5f"
            },
            "baxis": {
             "endlinecolor": "#2a3f5f",
             "gridcolor": "white",
             "linecolor": "white",
             "minorgridcolor": "white",
             "startlinecolor": "#2a3f5f"
            },
            "type": "carpet"
           }
          ],
          "choropleth": [
           {
            "colorbar": {
             "outlinewidth": 0,
             "ticks": ""
            },
            "type": "choropleth"
           }
          ],
          "contour": [
           {
            "colorbar": {
             "outlinewidth": 0,
             "ticks": ""
            },
            "colorscale": [
             [
              0,
              "#0d0887"
             ],
             [
              0.1111111111111111,
              "#46039f"
             ],
             [
              0.2222222222222222,
              "#7201a8"
             ],
             [
              0.3333333333333333,
              "#9c179e"
             ],
             [
              0.4444444444444444,
              "#bd3786"
             ],
             [
              0.5555555555555556,
              "#d8576b"
             ],
             [
              0.6666666666666666,
              "#ed7953"
             ],
             [
              0.7777777777777778,
              "#fb9f3a"
             ],
             [
              0.8888888888888888,
              "#fdca26"
             ],
             [
              1,
              "#f0f921"
             ]
            ],
            "type": "contour"
           }
          ],
          "contourcarpet": [
           {
            "colorbar": {
             "outlinewidth": 0,
             "ticks": ""
            },
            "type": "contourcarpet"
           }
          ],
          "heatmap": [
           {
            "colorbar": {
             "outlinewidth": 0,
             "ticks": ""
            },
            "colorscale": [
             [
              0,
              "#0d0887"
             ],
             [
              0.1111111111111111,
              "#46039f"
             ],
             [
              0.2222222222222222,
              "#7201a8"
             ],
             [
              0.3333333333333333,
              "#9c179e"
             ],
             [
              0.4444444444444444,
              "#bd3786"
             ],
             [
              0.5555555555555556,
              "#d8576b"
             ],
             [
              0.6666666666666666,
              "#ed7953"
             ],
             [
              0.7777777777777778,
              "#fb9f3a"
             ],
             [
              0.8888888888888888,
              "#fdca26"
             ],
             [
              1,
              "#f0f921"
             ]
            ],
            "type": "heatmap"
           }
          ],
          "heatmapgl": [
           {
            "colorbar": {
             "outlinewidth": 0,
             "ticks": ""
            },
            "colorscale": [
             [
              0,
              "#0d0887"
             ],
             [
              0.1111111111111111,
              "#46039f"
             ],
             [
              0.2222222222222222,
              "#7201a8"
             ],
             [
              0.3333333333333333,
              "#9c179e"
             ],
             [
              0.4444444444444444,
              "#bd3786"
             ],
             [
              0.5555555555555556,
              "#d8576b"
             ],
             [
              0.6666666666666666,
              "#ed7953"
             ],
             [
              0.7777777777777778,
              "#fb9f3a"
             ],
             [
              0.8888888888888888,
              "#fdca26"
             ],
             [
              1,
              "#f0f921"
             ]
            ],
            "type": "heatmapgl"
           }
          ],
          "histogram": [
           {
            "marker": {
             "pattern": {
              "fillmode": "overlay",
              "size": 10,
              "solidity": 0.2
             }
            },
            "type": "histogram"
           }
          ],
          "histogram2d": [
           {
            "colorbar": {
             "outlinewidth": 0,
             "ticks": ""
            },
            "colorscale": [
             [
              0,
              "#0d0887"
             ],
             [
              0.1111111111111111,
              "#46039f"
             ],
             [
              0.2222222222222222,
              "#7201a8"
             ],
             [
              0.3333333333333333,
              "#9c179e"
             ],
             [
              0.4444444444444444,
              "#bd3786"
             ],
             [
              0.5555555555555556,
              "#d8576b"
             ],
             [
              0.6666666666666666,
              "#ed7953"
             ],
             [
              0.7777777777777778,
              "#fb9f3a"
             ],
             [
              0.8888888888888888,
              "#fdca26"
             ],
             [
              1,
              "#f0f921"
             ]
            ],
            "type": "histogram2d"
           }
          ],
          "histogram2dcontour": [
           {
            "colorbar": {
             "outlinewidth": 0,
             "ticks": ""
            },
            "colorscale": [
             [
              0,
              "#0d0887"
             ],
             [
              0.1111111111111111,
              "#46039f"
             ],
             [
              0.2222222222222222,
              "#7201a8"
             ],
             [
              0.3333333333333333,
              "#9c179e"
             ],
             [
              0.4444444444444444,
              "#bd3786"
             ],
             [
              0.5555555555555556,
              "#d8576b"
             ],
             [
              0.6666666666666666,
              "#ed7953"
             ],
             [
              0.7777777777777778,
              "#fb9f3a"
             ],
             [
              0.8888888888888888,
              "#fdca26"
             ],
             [
              1,
              "#f0f921"
             ]
            ],
            "type": "histogram2dcontour"
           }
          ],
          "mesh3d": [
           {
            "colorbar": {
             "outlinewidth": 0,
             "ticks": ""
            },
            "type": "mesh3d"
           }
          ],
          "parcoords": [
           {
            "line": {
             "colorbar": {
              "outlinewidth": 0,
              "ticks": ""
             }
            },
            "type": "parcoords"
           }
          ],
          "pie": [
           {
            "automargin": true,
            "type": "pie"
           }
          ],
          "scatter": [
           {
            "fillpattern": {
             "fillmode": "overlay",
             "size": 10,
             "solidity": 0.2
            },
            "type": "scatter"
           }
          ],
          "scatter3d": [
           {
            "line": {
             "colorbar": {
              "outlinewidth": 0,
              "ticks": ""
             }
            },
            "marker": {
             "colorbar": {
              "outlinewidth": 0,
              "ticks": ""
             }
            },
            "type": "scatter3d"
           }
          ],
          "scattercarpet": [
           {
            "marker": {
             "colorbar": {
              "outlinewidth": 0,
              "ticks": ""
             }
            },
            "type": "scattercarpet"
           }
          ],
          "scattergeo": [
           {
            "marker": {
             "colorbar": {
              "outlinewidth": 0,
              "ticks": ""
             }
            },
            "type": "scattergeo"
           }
          ],
          "scattergl": [
           {
            "marker": {
             "colorbar": {
              "outlinewidth": 0,
              "ticks": ""
             }
            },
            "type": "scattergl"
           }
          ],
          "scattermapbox": [
           {
            "marker": {
             "colorbar": {
              "outlinewidth": 0,
              "ticks": ""
             }
            },
            "type": "scattermapbox"
           }
          ],
          "scatterpolar": [
           {
            "marker": {
             "colorbar": {
              "outlinewidth": 0,
              "ticks": ""
             }
            },
            "type": "scatterpolar"
           }
          ],
          "scatterpolargl": [
           {
            "marker": {
             "colorbar": {
              "outlinewidth": 0,
              "ticks": ""
             }
            },
            "type": "scatterpolargl"
           }
          ],
          "scatterternary": [
           {
            "marker": {
             "colorbar": {
              "outlinewidth": 0,
              "ticks": ""
             }
            },
            "type": "scatterternary"
           }
          ],
          "surface": [
           {
            "colorbar": {
             "outlinewidth": 0,
             "ticks": ""
            },
            "colorscale": [
             [
              0,
              "#0d0887"
             ],
             [
              0.1111111111111111,
              "#46039f"
             ],
             [
              0.2222222222222222,
              "#7201a8"
             ],
             [
              0.3333333333333333,
              "#9c179e"
             ],
             [
              0.4444444444444444,
              "#bd3786"
             ],
             [
              0.5555555555555556,
              "#d8576b"
             ],
             [
              0.6666666666666666,
              "#ed7953"
             ],
             [
              0.7777777777777778,
              "#fb9f3a"
             ],
             [
              0.8888888888888888,
              "#fdca26"
             ],
             [
              1,
              "#f0f921"
             ]
            ],
            "type": "surface"
           }
          ],
          "table": [
           {
            "cells": {
             "fill": {
              "color": "#EBF0F8"
             },
             "line": {
              "color": "white"
             }
            },
            "header": {
             "fill": {
              "color": "#C8D4E3"
             },
             "line": {
              "color": "white"
             }
            },
            "type": "table"
           }
          ]
         },
         "layout": {
          "annotationdefaults": {
           "arrowcolor": "#2a3f5f",
           "arrowhead": 0,
           "arrowwidth": 1
          },
          "autotypenumbers": "strict",
          "coloraxis": {
           "colorbar": {
            "outlinewidth": 0,
            "ticks": ""
           }
          },
          "colorscale": {
           "diverging": [
            [
             0,
             "#8e0152"
            ],
            [
             0.1,
             "#c51b7d"
            ],
            [
             0.2,
             "#de77ae"
            ],
            [
             0.3,
             "#f1b6da"
            ],
            [
             0.4,
             "#fde0ef"
            ],
            [
             0.5,
             "#f7f7f7"
            ],
            [
             0.6,
             "#e6f5d0"
            ],
            [
             0.7,
             "#b8e186"
            ],
            [
             0.8,
             "#7fbc41"
            ],
            [
             0.9,
             "#4d9221"
            ],
            [
             1,
             "#276419"
            ]
           ],
           "sequential": [
            [
             0,
             "#0d0887"
            ],
            [
             0.1111111111111111,
             "#46039f"
            ],
            [
             0.2222222222222222,
             "#7201a8"
            ],
            [
             0.3333333333333333,
             "#9c179e"
            ],
            [
             0.4444444444444444,
             "#bd3786"
            ],
            [
             0.5555555555555556,
             "#d8576b"
            ],
            [
             0.6666666666666666,
             "#ed7953"
            ],
            [
             0.7777777777777778,
             "#fb9f3a"
            ],
            [
             0.8888888888888888,
             "#fdca26"
            ],
            [
             1,
             "#f0f921"
            ]
           ],
           "sequentialminus": [
            [
             0,
             "#0d0887"
            ],
            [
             0.1111111111111111,
             "#46039f"
            ],
            [
             0.2222222222222222,
             "#7201a8"
            ],
            [
             0.3333333333333333,
             "#9c179e"
            ],
            [
             0.4444444444444444,
             "#bd3786"
            ],
            [
             0.5555555555555556,
             "#d8576b"
            ],
            [
             0.6666666666666666,
             "#ed7953"
            ],
            [
             0.7777777777777778,
             "#fb9f3a"
            ],
            [
             0.8888888888888888,
             "#fdca26"
            ],
            [
             1,
             "#f0f921"
            ]
           ]
          },
          "colorway": [
           "#636efa",
           "#EF553B",
           "#00cc96",
           "#ab63fa",
           "#FFA15A",
           "#19d3f3",
           "#FF6692",
           "#B6E880",
           "#FF97FF",
           "#FECB52"
          ],
          "font": {
           "color": "#2a3f5f"
          },
          "geo": {
           "bgcolor": "white",
           "lakecolor": "white",
           "landcolor": "#E5ECF6",
           "showlakes": true,
           "showland": true,
           "subunitcolor": "white"
          },
          "hoverlabel": {
           "align": "left"
          },
          "hovermode": "closest",
          "mapbox": {
           "style": "light"
          },
          "paper_bgcolor": "white",
          "plot_bgcolor": "#E5ECF6",
          "polar": {
           "angularaxis": {
            "gridcolor": "white",
            "linecolor": "white",
            "ticks": ""
           },
           "bgcolor": "#E5ECF6",
           "radialaxis": {
            "gridcolor": "white",
            "linecolor": "white",
            "ticks": ""
           }
          },
          "scene": {
           "xaxis": {
            "backgroundcolor": "#E5ECF6",
            "gridcolor": "white",
            "gridwidth": 2,
            "linecolor": "white",
            "showbackground": true,
            "ticks": "",
            "zerolinecolor": "white"
           },
           "yaxis": {
            "backgroundcolor": "#E5ECF6",
            "gridcolor": "white",
            "gridwidth": 2,
            "linecolor": "white",
            "showbackground": true,
            "ticks": "",
            "zerolinecolor": "white"
           },
           "zaxis": {
            "backgroundcolor": "#E5ECF6",
            "gridcolor": "white",
            "gridwidth": 2,
            "linecolor": "white",
            "showbackground": true,
            "ticks": "",
            "zerolinecolor": "white"
           }
          },
          "shapedefaults": {
           "line": {
            "color": "#2a3f5f"
           }
          },
          "ternary": {
           "aaxis": {
            "gridcolor": "white",
            "linecolor": "white",
            "ticks": ""
           },
           "baxis": {
            "gridcolor": "white",
            "linecolor": "white",
            "ticks": ""
           },
           "bgcolor": "#E5ECF6",
           "caxis": {
            "gridcolor": "white",
            "linecolor": "white",
            "ticks": ""
           }
          },
          "title": {
           "x": 0.05
          },
          "xaxis": {
           "automargin": true,
           "gridcolor": "white",
           "linecolor": "white",
           "ticks": "",
           "title": {
            "standoff": 15
           },
           "zerolinecolor": "white",
           "zerolinewidth": 2
          },
          "yaxis": {
           "automargin": true,
           "gridcolor": "white",
           "linecolor": "white",
           "ticks": "",
           "title": {
            "standoff": 15
           },
           "zerolinecolor": "white",
           "zerolinewidth": 2
          }
         }
        },
        "title": {
         "font": {
          "size": 20
         },
         "text": "<b>ACCURACY</b> on training and validation sets across epochs - <i>fig.2</i>    <br><sup>Model hyperparameters:  Embedding Dimensions: 64 • Layers:  LSTM(64 units), LSTM(32 units), Dense 16  ReLU Activation, Dense 8 ReLU Activation, Dense 1 Sigmoïd Activation • Epochs: 20 | Total params: 576,865</sup>"
        },
        "xaxis": {
         "tickfont": {
          "size": 14
         },
         "title": {
          "text": "EPOCHS"
         }
        },
        "yaxis": {
         "tickfont": {
          "size": 14
         },
         "title": {
          "text": "ACCURACY"
         }
        }
       }
      }
     },
     "metadata": {},
     "output_type": "display_data"
    }
   ],
   "source": [
    "fig = go.Figure(data=[\n",
    "                      go.Scatter(\n",
    "                          y=history_LSTM.history[\"accuracy\"],\n",
    "                          name=\"Training accuracy\",\n",
    "                          mode=\"lines\",\n",
    "                          ),\n",
    "                      go.Scatter(\n",
    "                          y=history_LSTM.history[\"val_accuracy\"],\n",
    "                          name=\"Validation accruracy\",\n",
    "                          mode=\"lines\",\n",
    "                          )\n",
    "])\n",
    "\n",
    "fig.update_layout(\n",
    "    height=650,\n",
    "    title='<b>ACCURACY</b> on training and validation sets across epochs - <i>fig.2</i>\\\n",
    "    <br><sup>Model hyperparameters:  Embedding Dimensions: 64 • Layers:  LSTM(64 units), LSTM(32 units), Dense 16  ReLU Activation, Dense 8 ReLU Activation, Dense 1 Sigmoïd Activation • Epochs: 20 | Total params: 576,865</sup>',\n",
    "    title_font={'size': 20},\n",
    "    xaxis_title='EPOCHS',\n",
    "    yaxis_title='ACCURACY', \n",
    "    xaxis_tickfont_size=14,\n",
    "    yaxis_tickfont_size=14,     \n",
    ")\n",
    "fig.show()"
   ]
  },
  {
   "attachments": {},
   "cell_type": "markdown",
   "metadata": {},
   "source": [
    "__OBSERVATIONS__<br>\n",
    "* Our LSTM model performs better accross Epochs, which makes it more stable. "
   ]
  },
  {
   "attachments": {},
   "cell_type": "markdown",
   "metadata": {},
   "source": [
    "--------\n",
    "### __3. GLOBAL AVERAGE POOLING__\n",
    "--------"
   ]
  },
  {
   "cell_type": "code",
   "execution_count": 43,
   "metadata": {},
   "outputs": [
    {
     "name": "stdout",
     "output_type": "stream",
     "text": [
      "Model: \"sequential_2\"\n",
      "_________________________________________________________________\n",
      " Layer (type)                Output Shape              Param #   \n",
      "=================================================================\n",
      " embedding (Embedding)       (None, 47, 64)            525120    \n",
      "                                                                 \n",
      " global_average_pooling1d (G  (None, 64)               0         \n",
      " lobalAveragePooling1D)                                          \n",
      "                                                                 \n",
      " dense_6 (Dense)             (None, 8)                 520       \n",
      "                                                                 \n",
      " dense_7 (Dense)             (None, 1)                 9         \n",
      "                                                                 \n",
      "=================================================================\n",
      "Total params: 525,649\n",
      "Trainable params: 525,649\n",
      "Non-trainable params: 0\n",
      "_________________________________________________________________\n"
     ]
    }
   ],
   "source": [
    "vocab_size = len(tokenizer.word_index)\n",
    "\n",
    "model_Global_Avg_Pool = tf.keras.Sequential([\n",
    "    \n",
    "    # Word Embedding layer           \n",
    "    Embedding(vocab_size+1, 64, input_shape=[Messages.shape[1],], name=\"embedding\"),\n",
    "\n",
    "    GlobalAveragePooling1D(),\n",
    "\n",
    "    Dense(8, activation='relu'),\n",
    "    # The last layer of our model is a sigmoid in order to treat our classification problem, SPAM or HAM\n",
    "    Dense(1, activation='sigmoid')\n",
    "])\n",
    "\n",
    "model_Global_Avg_Pool.summary()"
   ]
  },
  {
   "cell_type": "code",
   "execution_count": 44,
   "metadata": {},
   "outputs": [],
   "source": [
    "# Our optimizer is the stochastic gradient descent method called Adam for Adaptive moment estimation, in order to adapt the learning rate\n",
    "Adam = tf.keras.optimizers.Adam()\n",
    "\n",
    "model_Global_Avg_Pool.compile(optimizer= Adam ,\n",
    "              loss= tf.keras.losses.BinaryCrossentropy(),\n",
    "              metrics= ['accuracy'])"
   ]
  },
  {
   "cell_type": "code",
   "execution_count": 45,
   "metadata": {},
   "outputs": [
    {
     "name": "stdout",
     "output_type": "stream",
     "text": [
      "Epoch 1/20\n",
      "60/60 [==============================] - 4s 25ms/step - loss: 0.6864 - accuracy: 0.8543 - val_loss: 0.6459 - val_accuracy: 0.8651\n",
      "Epoch 2/20\n",
      "60/60 [==============================] - 1s 19ms/step - loss: 0.6637 - accuracy: 0.8810 - val_loss: 0.5928 - val_accuracy: 0.9058\n",
      "Epoch 3/20\n",
      "60/60 [==============================] - 1s 21ms/step - loss: 0.6094 - accuracy: 0.9272 - val_loss: 0.4817 - val_accuracy: 0.9335\n",
      "Epoch 4/20\n",
      "60/60 [==============================] - 1s 22ms/step - loss: 0.4971 - accuracy: 0.9654 - val_loss: 0.3638 - val_accuracy: 0.9674\n",
      "Epoch 5/20\n",
      "60/60 [==============================] - 1s 22ms/step - loss: 0.3397 - accuracy: 0.9778 - val_loss: 0.2344 - val_accuracy: 0.9766\n",
      "Epoch 6/20\n",
      "60/60 [==============================] - 1s 19ms/step - loss: 0.2285 - accuracy: 0.9815 - val_loss: 0.1747 - val_accuracy: 0.9784\n",
      "Epoch 7/20\n",
      "60/60 [==============================] - 1s 19ms/step - loss: 0.1700 - accuracy: 0.9823 - val_loss: 0.1500 - val_accuracy: 0.9815\n",
      "Epoch 8/20\n",
      "60/60 [==============================] - 1s 18ms/step - loss: 0.1380 - accuracy: 0.9847 - val_loss: 0.1264 - val_accuracy: 0.9803\n",
      "Epoch 9/20\n",
      "60/60 [==============================] - 1s 19ms/step - loss: 0.1148 - accuracy: 0.9873 - val_loss: 0.1086 - val_accuracy: 0.9809\n",
      "Epoch 10/20\n",
      "60/60 [==============================] - 1s 17ms/step - loss: 0.1011 - accuracy: 0.9876 - val_loss: 0.0996 - val_accuracy: 0.9809\n",
      "Epoch 11/20\n",
      "60/60 [==============================] - 1s 18ms/step - loss: 0.0904 - accuracy: 0.9879 - val_loss: 0.0929 - val_accuracy: 0.9815\n",
      "Epoch 12/20\n",
      "60/60 [==============================] - 1s 19ms/step - loss: 0.0823 - accuracy: 0.9871 - val_loss: 0.0913 - val_accuracy: 0.9778\n",
      "Epoch 13/20\n",
      "60/60 [==============================] - 1s 21ms/step - loss: 0.0730 - accuracy: 0.9889 - val_loss: 0.0784 - val_accuracy: 0.9803\n",
      "Epoch 14/20\n",
      "60/60 [==============================] - 1s 20ms/step - loss: 0.0650 - accuracy: 0.9910 - val_loss: 0.0643 - val_accuracy: 0.9809\n",
      "Epoch 15/20\n",
      "60/60 [==============================] - 1s 20ms/step - loss: 0.0593 - accuracy: 0.9905 - val_loss: 0.0751 - val_accuracy: 0.9797\n",
      "Epoch 16/20\n",
      "60/60 [==============================] - 1s 19ms/step - loss: 0.0561 - accuracy: 0.9913 - val_loss: 0.0640 - val_accuracy: 0.9821\n",
      "Epoch 17/20\n",
      "60/60 [==============================] - 1s 20ms/step - loss: 0.0524 - accuracy: 0.9913 - val_loss: 0.0632 - val_accuracy: 0.9809\n",
      "Epoch 18/20\n",
      "60/60 [==============================] - 1s 22ms/step - loss: 0.0460 - accuracy: 0.9929 - val_loss: 0.0610 - val_accuracy: 0.9815\n",
      "Epoch 19/20\n",
      "60/60 [==============================] - 1s 24ms/step - loss: 0.0441 - accuracy: 0.9923 - val_loss: 0.0603 - val_accuracy: 0.9821\n",
      "Epoch 20/20\n",
      "60/60 [==============================] - 1s 20ms/step - loss: 0.0395 - accuracy: 0.9937 - val_loss: 0.0565 - val_accuracy: 0.9834\n"
     ]
    }
   ],
   "source": [
    "# We fit our model on 20 epochs taking into account the weights we calculated above to penalize too frequent notes. \n",
    "history_Global_Avg_Pool = model_Global_Avg_Pool.fit(\n",
    "    train_data,\n",
    "    epochs= 20, \n",
    "    validation_data = test_data, \n",
    "    class_weight= weights, \n",
    "    )"
   ]
  },
  {
   "cell_type": "code",
   "execution_count": 46,
   "metadata": {},
   "outputs": [
    {
     "data": {
      "application/vnd.plotly.v1+json": {
       "config": {
        "plotlyServerURL": "https://plot.ly"
       },
       "data": [
        {
         "mode": "lines",
         "name": "Loss",
         "type": "scatter",
         "y": [
          0.6863985657691956,
          0.6637414693832397,
          0.6094393134117126,
          0.49710097908973694,
          0.3396787941455841,
          0.22847962379455566,
          0.16995786130428314,
          0.13804085552692413,
          0.1148422360420227,
          0.10109809786081314,
          0.09035810828208923,
          0.08229115605354309,
          0.07303737103939056,
          0.06501980125904083,
          0.059333719313144684,
          0.05608345568180084,
          0.05242511257529259,
          0.045953620225191116,
          0.04412837326526642,
          0.039461784064769745
         ]
        },
        {
         "mode": "lines",
         "name": "Val_loss",
         "type": "scatter",
         "y": [
          0.6458720564842224,
          0.592796266078949,
          0.4816679060459137,
          0.3638249337673187,
          0.23438888788223267,
          0.1747027188539505,
          0.15002082288265228,
          0.12639537453651428,
          0.108573779463768,
          0.09956303238868713,
          0.09285204112529755,
          0.09127795696258545,
          0.07836604118347168,
          0.06431140005588531,
          0.0751086175441742,
          0.06403858959674835,
          0.06323357671499252,
          0.06101511791348457,
          0.06025427579879761,
          0.05651741847395897
         ]
        }
       ],
       "layout": {
        "height": 650,
        "template": {
         "data": {
          "bar": [
           {
            "error_x": {
             "color": "#2a3f5f"
            },
            "error_y": {
             "color": "#2a3f5f"
            },
            "marker": {
             "line": {
              "color": "#E5ECF6",
              "width": 0.5
             },
             "pattern": {
              "fillmode": "overlay",
              "size": 10,
              "solidity": 0.2
             }
            },
            "type": "bar"
           }
          ],
          "barpolar": [
           {
            "marker": {
             "line": {
              "color": "#E5ECF6",
              "width": 0.5
             },
             "pattern": {
              "fillmode": "overlay",
              "size": 10,
              "solidity": 0.2
             }
            },
            "type": "barpolar"
           }
          ],
          "carpet": [
           {
            "aaxis": {
             "endlinecolor": "#2a3f5f",
             "gridcolor": "white",
             "linecolor": "white",
             "minorgridcolor": "white",
             "startlinecolor": "#2a3f5f"
            },
            "baxis": {
             "endlinecolor": "#2a3f5f",
             "gridcolor": "white",
             "linecolor": "white",
             "minorgridcolor": "white",
             "startlinecolor": "#2a3f5f"
            },
            "type": "carpet"
           }
          ],
          "choropleth": [
           {
            "colorbar": {
             "outlinewidth": 0,
             "ticks": ""
            },
            "type": "choropleth"
           }
          ],
          "contour": [
           {
            "colorbar": {
             "outlinewidth": 0,
             "ticks": ""
            },
            "colorscale": [
             [
              0,
              "#0d0887"
             ],
             [
              0.1111111111111111,
              "#46039f"
             ],
             [
              0.2222222222222222,
              "#7201a8"
             ],
             [
              0.3333333333333333,
              "#9c179e"
             ],
             [
              0.4444444444444444,
              "#bd3786"
             ],
             [
              0.5555555555555556,
              "#d8576b"
             ],
             [
              0.6666666666666666,
              "#ed7953"
             ],
             [
              0.7777777777777778,
              "#fb9f3a"
             ],
             [
              0.8888888888888888,
              "#fdca26"
             ],
             [
              1,
              "#f0f921"
             ]
            ],
            "type": "contour"
           }
          ],
          "contourcarpet": [
           {
            "colorbar": {
             "outlinewidth": 0,
             "ticks": ""
            },
            "type": "contourcarpet"
           }
          ],
          "heatmap": [
           {
            "colorbar": {
             "outlinewidth": 0,
             "ticks": ""
            },
            "colorscale": [
             [
              0,
              "#0d0887"
             ],
             [
              0.1111111111111111,
              "#46039f"
             ],
             [
              0.2222222222222222,
              "#7201a8"
             ],
             [
              0.3333333333333333,
              "#9c179e"
             ],
             [
              0.4444444444444444,
              "#bd3786"
             ],
             [
              0.5555555555555556,
              "#d8576b"
             ],
             [
              0.6666666666666666,
              "#ed7953"
             ],
             [
              0.7777777777777778,
              "#fb9f3a"
             ],
             [
              0.8888888888888888,
              "#fdca26"
             ],
             [
              1,
              "#f0f921"
             ]
            ],
            "type": "heatmap"
           }
          ],
          "heatmapgl": [
           {
            "colorbar": {
             "outlinewidth": 0,
             "ticks": ""
            },
            "colorscale": [
             [
              0,
              "#0d0887"
             ],
             [
              0.1111111111111111,
              "#46039f"
             ],
             [
              0.2222222222222222,
              "#7201a8"
             ],
             [
              0.3333333333333333,
              "#9c179e"
             ],
             [
              0.4444444444444444,
              "#bd3786"
             ],
             [
              0.5555555555555556,
              "#d8576b"
             ],
             [
              0.6666666666666666,
              "#ed7953"
             ],
             [
              0.7777777777777778,
              "#fb9f3a"
             ],
             [
              0.8888888888888888,
              "#fdca26"
             ],
             [
              1,
              "#f0f921"
             ]
            ],
            "type": "heatmapgl"
           }
          ],
          "histogram": [
           {
            "marker": {
             "pattern": {
              "fillmode": "overlay",
              "size": 10,
              "solidity": 0.2
             }
            },
            "type": "histogram"
           }
          ],
          "histogram2d": [
           {
            "colorbar": {
             "outlinewidth": 0,
             "ticks": ""
            },
            "colorscale": [
             [
              0,
              "#0d0887"
             ],
             [
              0.1111111111111111,
              "#46039f"
             ],
             [
              0.2222222222222222,
              "#7201a8"
             ],
             [
              0.3333333333333333,
              "#9c179e"
             ],
             [
              0.4444444444444444,
              "#bd3786"
             ],
             [
              0.5555555555555556,
              "#d8576b"
             ],
             [
              0.6666666666666666,
              "#ed7953"
             ],
             [
              0.7777777777777778,
              "#fb9f3a"
             ],
             [
              0.8888888888888888,
              "#fdca26"
             ],
             [
              1,
              "#f0f921"
             ]
            ],
            "type": "histogram2d"
           }
          ],
          "histogram2dcontour": [
           {
            "colorbar": {
             "outlinewidth": 0,
             "ticks": ""
            },
            "colorscale": [
             [
              0,
              "#0d0887"
             ],
             [
              0.1111111111111111,
              "#46039f"
             ],
             [
              0.2222222222222222,
              "#7201a8"
             ],
             [
              0.3333333333333333,
              "#9c179e"
             ],
             [
              0.4444444444444444,
              "#bd3786"
             ],
             [
              0.5555555555555556,
              "#d8576b"
             ],
             [
              0.6666666666666666,
              "#ed7953"
             ],
             [
              0.7777777777777778,
              "#fb9f3a"
             ],
             [
              0.8888888888888888,
              "#fdca26"
             ],
             [
              1,
              "#f0f921"
             ]
            ],
            "type": "histogram2dcontour"
           }
          ],
          "mesh3d": [
           {
            "colorbar": {
             "outlinewidth": 0,
             "ticks": ""
            },
            "type": "mesh3d"
           }
          ],
          "parcoords": [
           {
            "line": {
             "colorbar": {
              "outlinewidth": 0,
              "ticks": ""
             }
            },
            "type": "parcoords"
           }
          ],
          "pie": [
           {
            "automargin": true,
            "type": "pie"
           }
          ],
          "scatter": [
           {
            "fillpattern": {
             "fillmode": "overlay",
             "size": 10,
             "solidity": 0.2
            },
            "type": "scatter"
           }
          ],
          "scatter3d": [
           {
            "line": {
             "colorbar": {
              "outlinewidth": 0,
              "ticks": ""
             }
            },
            "marker": {
             "colorbar": {
              "outlinewidth": 0,
              "ticks": ""
             }
            },
            "type": "scatter3d"
           }
          ],
          "scattercarpet": [
           {
            "marker": {
             "colorbar": {
              "outlinewidth": 0,
              "ticks": ""
             }
            },
            "type": "scattercarpet"
           }
          ],
          "scattergeo": [
           {
            "marker": {
             "colorbar": {
              "outlinewidth": 0,
              "ticks": ""
             }
            },
            "type": "scattergeo"
           }
          ],
          "scattergl": [
           {
            "marker": {
             "colorbar": {
              "outlinewidth": 0,
              "ticks": ""
             }
            },
            "type": "scattergl"
           }
          ],
          "scattermapbox": [
           {
            "marker": {
             "colorbar": {
              "outlinewidth": 0,
              "ticks": ""
             }
            },
            "type": "scattermapbox"
           }
          ],
          "scatterpolar": [
           {
            "marker": {
             "colorbar": {
              "outlinewidth": 0,
              "ticks": ""
             }
            },
            "type": "scatterpolar"
           }
          ],
          "scatterpolargl": [
           {
            "marker": {
             "colorbar": {
              "outlinewidth": 0,
              "ticks": ""
             }
            },
            "type": "scatterpolargl"
           }
          ],
          "scatterternary": [
           {
            "marker": {
             "colorbar": {
              "outlinewidth": 0,
              "ticks": ""
             }
            },
            "type": "scatterternary"
           }
          ],
          "surface": [
           {
            "colorbar": {
             "outlinewidth": 0,
             "ticks": ""
            },
            "colorscale": [
             [
              0,
              "#0d0887"
             ],
             [
              0.1111111111111111,
              "#46039f"
             ],
             [
              0.2222222222222222,
              "#7201a8"
             ],
             [
              0.3333333333333333,
              "#9c179e"
             ],
             [
              0.4444444444444444,
              "#bd3786"
             ],
             [
              0.5555555555555556,
              "#d8576b"
             ],
             [
              0.6666666666666666,
              "#ed7953"
             ],
             [
              0.7777777777777778,
              "#fb9f3a"
             ],
             [
              0.8888888888888888,
              "#fdca26"
             ],
             [
              1,
              "#f0f921"
             ]
            ],
            "type": "surface"
           }
          ],
          "table": [
           {
            "cells": {
             "fill": {
              "color": "#EBF0F8"
             },
             "line": {
              "color": "white"
             }
            },
            "header": {
             "fill": {
              "color": "#C8D4E3"
             },
             "line": {
              "color": "white"
             }
            },
            "type": "table"
           }
          ]
         },
         "layout": {
          "annotationdefaults": {
           "arrowcolor": "#2a3f5f",
           "arrowhead": 0,
           "arrowwidth": 1
          },
          "autotypenumbers": "strict",
          "coloraxis": {
           "colorbar": {
            "outlinewidth": 0,
            "ticks": ""
           }
          },
          "colorscale": {
           "diverging": [
            [
             0,
             "#8e0152"
            ],
            [
             0.1,
             "#c51b7d"
            ],
            [
             0.2,
             "#de77ae"
            ],
            [
             0.3,
             "#f1b6da"
            ],
            [
             0.4,
             "#fde0ef"
            ],
            [
             0.5,
             "#f7f7f7"
            ],
            [
             0.6,
             "#e6f5d0"
            ],
            [
             0.7,
             "#b8e186"
            ],
            [
             0.8,
             "#7fbc41"
            ],
            [
             0.9,
             "#4d9221"
            ],
            [
             1,
             "#276419"
            ]
           ],
           "sequential": [
            [
             0,
             "#0d0887"
            ],
            [
             0.1111111111111111,
             "#46039f"
            ],
            [
             0.2222222222222222,
             "#7201a8"
            ],
            [
             0.3333333333333333,
             "#9c179e"
            ],
            [
             0.4444444444444444,
             "#bd3786"
            ],
            [
             0.5555555555555556,
             "#d8576b"
            ],
            [
             0.6666666666666666,
             "#ed7953"
            ],
            [
             0.7777777777777778,
             "#fb9f3a"
            ],
            [
             0.8888888888888888,
             "#fdca26"
            ],
            [
             1,
             "#f0f921"
            ]
           ],
           "sequentialminus": [
            [
             0,
             "#0d0887"
            ],
            [
             0.1111111111111111,
             "#46039f"
            ],
            [
             0.2222222222222222,
             "#7201a8"
            ],
            [
             0.3333333333333333,
             "#9c179e"
            ],
            [
             0.4444444444444444,
             "#bd3786"
            ],
            [
             0.5555555555555556,
             "#d8576b"
            ],
            [
             0.6666666666666666,
             "#ed7953"
            ],
            [
             0.7777777777777778,
             "#fb9f3a"
            ],
            [
             0.8888888888888888,
             "#fdca26"
            ],
            [
             1,
             "#f0f921"
            ]
           ]
          },
          "colorway": [
           "#636efa",
           "#EF553B",
           "#00cc96",
           "#ab63fa",
           "#FFA15A",
           "#19d3f3",
           "#FF6692",
           "#B6E880",
           "#FF97FF",
           "#FECB52"
          ],
          "font": {
           "color": "#2a3f5f"
          },
          "geo": {
           "bgcolor": "white",
           "lakecolor": "white",
           "landcolor": "#E5ECF6",
           "showlakes": true,
           "showland": true,
           "subunitcolor": "white"
          },
          "hoverlabel": {
           "align": "left"
          },
          "hovermode": "closest",
          "mapbox": {
           "style": "light"
          },
          "paper_bgcolor": "white",
          "plot_bgcolor": "#E5ECF6",
          "polar": {
           "angularaxis": {
            "gridcolor": "white",
            "linecolor": "white",
            "ticks": ""
           },
           "bgcolor": "#E5ECF6",
           "radialaxis": {
            "gridcolor": "white",
            "linecolor": "white",
            "ticks": ""
           }
          },
          "scene": {
           "xaxis": {
            "backgroundcolor": "#E5ECF6",
            "gridcolor": "white",
            "gridwidth": 2,
            "linecolor": "white",
            "showbackground": true,
            "ticks": "",
            "zerolinecolor": "white"
           },
           "yaxis": {
            "backgroundcolor": "#E5ECF6",
            "gridcolor": "white",
            "gridwidth": 2,
            "linecolor": "white",
            "showbackground": true,
            "ticks": "",
            "zerolinecolor": "white"
           },
           "zaxis": {
            "backgroundcolor": "#E5ECF6",
            "gridcolor": "white",
            "gridwidth": 2,
            "linecolor": "white",
            "showbackground": true,
            "ticks": "",
            "zerolinecolor": "white"
           }
          },
          "shapedefaults": {
           "line": {
            "color": "#2a3f5f"
           }
          },
          "ternary": {
           "aaxis": {
            "gridcolor": "white",
            "linecolor": "white",
            "ticks": ""
           },
           "baxis": {
            "gridcolor": "white",
            "linecolor": "white",
            "ticks": ""
           },
           "bgcolor": "#E5ECF6",
           "caxis": {
            "gridcolor": "white",
            "linecolor": "white",
            "ticks": ""
           }
          },
          "title": {
           "x": 0.05
          },
          "xaxis": {
           "automargin": true,
           "gridcolor": "white",
           "linecolor": "white",
           "ticks": "",
           "title": {
            "standoff": 15
           },
           "zerolinecolor": "white",
           "zerolinewidth": 2
          },
          "yaxis": {
           "automargin": true,
           "gridcolor": "white",
           "linecolor": "white",
           "ticks": "",
           "title": {
            "standoff": 15
           },
           "zerolinecolor": "white",
           "zerolinewidth": 2
          }
         }
        },
        "title": {
         "font": {
          "size": 20
         },
         "text": "<b>LOSS</b> on training and validation sets across epochs - <i>fig.3</i>    <br><sup>Model hyperparameters:  Embedding Dimensions: 64 • Layers: GlobalMaxPool1D, Dense 8, Dense 1 with Sigmoïd Activation • Epochs: 20 | Total params: 531,281</sup>"
        },
        "xaxis": {
         "tickfont": {
          "size": 14
         },
         "title": {
          "text": "EPOCHS"
         }
        },
        "yaxis": {
         "tickfont": {
          "size": 14
         },
         "title": {
          "text": "CROSS ENTROPY"
         }
        }
       }
      }
     },
     "metadata": {},
     "output_type": "display_data"
    }
   ],
   "source": [
    "fig = go.Figure()\n",
    "\n",
    "fig.add_trace(go.Scatter(\n",
    "    y= history_Global_Avg_Pool.history['loss'],\n",
    "    mode='lines',\n",
    "    name='Loss'\n",
    "))\n",
    "\n",
    "fig.add_trace(go.Scatter(\n",
    "    y= history_Global_Avg_Pool.history['val_loss'],\n",
    "    mode='lines',\n",
    "    name='Val_loss'\n",
    "))\n",
    "\n",
    "fig.update_layout(\n",
    "    height=650,\n",
    "    title='<b>LOSS</b> on training and validation sets across epochs - <i>fig.3</i>\\\n",
    "    <br><sup>Model hyperparameters:  Embedding Dimensions: 64 • Layers: GlobalMaxPool1D, Dense 8, Dense 1 with Sigmoïd Activation • Epochs: 20 | Total params: 531,281</sup>',\n",
    "    title_font={'size': 20},\n",
    "    xaxis_title='EPOCHS',\n",
    "    yaxis_title='CROSS ENTROPY', \n",
    "    xaxis_tickfont_size=14,\n",
    "    yaxis_tickfont_size=14,     \n",
    ")\n",
    "\n",
    "fig.show()"
   ]
  },
  {
   "cell_type": "code",
   "execution_count": 47,
   "metadata": {},
   "outputs": [
    {
     "data": {
      "application/vnd.plotly.v1+json": {
       "config": {
        "plotlyServerURL": "https://plot.ly"
       },
       "data": [
        {
         "mode": "lines",
         "name": "Accuracy",
         "type": "scatter",
         "y": [
          0.8543151021003723,
          0.8809712529182434,
          0.9271575808525085,
          0.9654262065887451,
          0.9778305888175964,
          0.9815254807472229,
          0.9823172092437744,
          0.9846925139427185,
          0.987331748008728,
          0.9875956773757935,
          0.9878596067428589,
          0.9870678186416626,
          0.9889152646064758,
          0.9910266399383545,
          0.9904988408088684,
          0.9912905693054199,
          0.9912905693054199,
          0.9928740859031677,
          0.9923462867736816,
          0.993665874004364
         ]
        },
        {
         "mode": "lines",
         "name": "Val_Accruracy",
         "type": "scatter",
         "y": [
          0.8651477694511414,
          0.9057881832122803,
          0.9334975481033325,
          0.9673645496368408,
          0.9766010046005249,
          0.9784482717514038,
          0.9815270900726318,
          0.9802955389022827,
          0.9809113144874573,
          0.9809113144874573,
          0.9815270900726318,
          0.9778324961662292,
          0.9802955389022827,
          0.9809113144874573,
          0.9796798229217529,
          0.9821428656578064,
          0.9809113144874573,
          0.9815270900726318,
          0.9821428656578064,
          0.9833743572235107
         ]
        }
       ],
       "layout": {
        "height": 650,
        "template": {
         "data": {
          "bar": [
           {
            "error_x": {
             "color": "#2a3f5f"
            },
            "error_y": {
             "color": "#2a3f5f"
            },
            "marker": {
             "line": {
              "color": "#E5ECF6",
              "width": 0.5
             },
             "pattern": {
              "fillmode": "overlay",
              "size": 10,
              "solidity": 0.2
             }
            },
            "type": "bar"
           }
          ],
          "barpolar": [
           {
            "marker": {
             "line": {
              "color": "#E5ECF6",
              "width": 0.5
             },
             "pattern": {
              "fillmode": "overlay",
              "size": 10,
              "solidity": 0.2
             }
            },
            "type": "barpolar"
           }
          ],
          "carpet": [
           {
            "aaxis": {
             "endlinecolor": "#2a3f5f",
             "gridcolor": "white",
             "linecolor": "white",
             "minorgridcolor": "white",
             "startlinecolor": "#2a3f5f"
            },
            "baxis": {
             "endlinecolor": "#2a3f5f",
             "gridcolor": "white",
             "linecolor": "white",
             "minorgridcolor": "white",
             "startlinecolor": "#2a3f5f"
            },
            "type": "carpet"
           }
          ],
          "choropleth": [
           {
            "colorbar": {
             "outlinewidth": 0,
             "ticks": ""
            },
            "type": "choropleth"
           }
          ],
          "contour": [
           {
            "colorbar": {
             "outlinewidth": 0,
             "ticks": ""
            },
            "colorscale": [
             [
              0,
              "#0d0887"
             ],
             [
              0.1111111111111111,
              "#46039f"
             ],
             [
              0.2222222222222222,
              "#7201a8"
             ],
             [
              0.3333333333333333,
              "#9c179e"
             ],
             [
              0.4444444444444444,
              "#bd3786"
             ],
             [
              0.5555555555555556,
              "#d8576b"
             ],
             [
              0.6666666666666666,
              "#ed7953"
             ],
             [
              0.7777777777777778,
              "#fb9f3a"
             ],
             [
              0.8888888888888888,
              "#fdca26"
             ],
             [
              1,
              "#f0f921"
             ]
            ],
            "type": "contour"
           }
          ],
          "contourcarpet": [
           {
            "colorbar": {
             "outlinewidth": 0,
             "ticks": ""
            },
            "type": "contourcarpet"
           }
          ],
          "heatmap": [
           {
            "colorbar": {
             "outlinewidth": 0,
             "ticks": ""
            },
            "colorscale": [
             [
              0,
              "#0d0887"
             ],
             [
              0.1111111111111111,
              "#46039f"
             ],
             [
              0.2222222222222222,
              "#7201a8"
             ],
             [
              0.3333333333333333,
              "#9c179e"
             ],
             [
              0.4444444444444444,
              "#bd3786"
             ],
             [
              0.5555555555555556,
              "#d8576b"
             ],
             [
              0.6666666666666666,
              "#ed7953"
             ],
             [
              0.7777777777777778,
              "#fb9f3a"
             ],
             [
              0.8888888888888888,
              "#fdca26"
             ],
             [
              1,
              "#f0f921"
             ]
            ],
            "type": "heatmap"
           }
          ],
          "heatmapgl": [
           {
            "colorbar": {
             "outlinewidth": 0,
             "ticks": ""
            },
            "colorscale": [
             [
              0,
              "#0d0887"
             ],
             [
              0.1111111111111111,
              "#46039f"
             ],
             [
              0.2222222222222222,
              "#7201a8"
             ],
             [
              0.3333333333333333,
              "#9c179e"
             ],
             [
              0.4444444444444444,
              "#bd3786"
             ],
             [
              0.5555555555555556,
              "#d8576b"
             ],
             [
              0.6666666666666666,
              "#ed7953"
             ],
             [
              0.7777777777777778,
              "#fb9f3a"
             ],
             [
              0.8888888888888888,
              "#fdca26"
             ],
             [
              1,
              "#f0f921"
             ]
            ],
            "type": "heatmapgl"
           }
          ],
          "histogram": [
           {
            "marker": {
             "pattern": {
              "fillmode": "overlay",
              "size": 10,
              "solidity": 0.2
             }
            },
            "type": "histogram"
           }
          ],
          "histogram2d": [
           {
            "colorbar": {
             "outlinewidth": 0,
             "ticks": ""
            },
            "colorscale": [
             [
              0,
              "#0d0887"
             ],
             [
              0.1111111111111111,
              "#46039f"
             ],
             [
              0.2222222222222222,
              "#7201a8"
             ],
             [
              0.3333333333333333,
              "#9c179e"
             ],
             [
              0.4444444444444444,
              "#bd3786"
             ],
             [
              0.5555555555555556,
              "#d8576b"
             ],
             [
              0.6666666666666666,
              "#ed7953"
             ],
             [
              0.7777777777777778,
              "#fb9f3a"
             ],
             [
              0.8888888888888888,
              "#fdca26"
             ],
             [
              1,
              "#f0f921"
             ]
            ],
            "type": "histogram2d"
           }
          ],
          "histogram2dcontour": [
           {
            "colorbar": {
             "outlinewidth": 0,
             "ticks": ""
            },
            "colorscale": [
             [
              0,
              "#0d0887"
             ],
             [
              0.1111111111111111,
              "#46039f"
             ],
             [
              0.2222222222222222,
              "#7201a8"
             ],
             [
              0.3333333333333333,
              "#9c179e"
             ],
             [
              0.4444444444444444,
              "#bd3786"
             ],
             [
              0.5555555555555556,
              "#d8576b"
             ],
             [
              0.6666666666666666,
              "#ed7953"
             ],
             [
              0.7777777777777778,
              "#fb9f3a"
             ],
             [
              0.8888888888888888,
              "#fdca26"
             ],
             [
              1,
              "#f0f921"
             ]
            ],
            "type": "histogram2dcontour"
           }
          ],
          "mesh3d": [
           {
            "colorbar": {
             "outlinewidth": 0,
             "ticks": ""
            },
            "type": "mesh3d"
           }
          ],
          "parcoords": [
           {
            "line": {
             "colorbar": {
              "outlinewidth": 0,
              "ticks": ""
             }
            },
            "type": "parcoords"
           }
          ],
          "pie": [
           {
            "automargin": true,
            "type": "pie"
           }
          ],
          "scatter": [
           {
            "fillpattern": {
             "fillmode": "overlay",
             "size": 10,
             "solidity": 0.2
            },
            "type": "scatter"
           }
          ],
          "scatter3d": [
           {
            "line": {
             "colorbar": {
              "outlinewidth": 0,
              "ticks": ""
             }
            },
            "marker": {
             "colorbar": {
              "outlinewidth": 0,
              "ticks": ""
             }
            },
            "type": "scatter3d"
           }
          ],
          "scattercarpet": [
           {
            "marker": {
             "colorbar": {
              "outlinewidth": 0,
              "ticks": ""
             }
            },
            "type": "scattercarpet"
           }
          ],
          "scattergeo": [
           {
            "marker": {
             "colorbar": {
              "outlinewidth": 0,
              "ticks": ""
             }
            },
            "type": "scattergeo"
           }
          ],
          "scattergl": [
           {
            "marker": {
             "colorbar": {
              "outlinewidth": 0,
              "ticks": ""
             }
            },
            "type": "scattergl"
           }
          ],
          "scattermapbox": [
           {
            "marker": {
             "colorbar": {
              "outlinewidth": 0,
              "ticks": ""
             }
            },
            "type": "scattermapbox"
           }
          ],
          "scatterpolar": [
           {
            "marker": {
             "colorbar": {
              "outlinewidth": 0,
              "ticks": ""
             }
            },
            "type": "scatterpolar"
           }
          ],
          "scatterpolargl": [
           {
            "marker": {
             "colorbar": {
              "outlinewidth": 0,
              "ticks": ""
             }
            },
            "type": "scatterpolargl"
           }
          ],
          "scatterternary": [
           {
            "marker": {
             "colorbar": {
              "outlinewidth": 0,
              "ticks": ""
             }
            },
            "type": "scatterternary"
           }
          ],
          "surface": [
           {
            "colorbar": {
             "outlinewidth": 0,
             "ticks": ""
            },
            "colorscale": [
             [
              0,
              "#0d0887"
             ],
             [
              0.1111111111111111,
              "#46039f"
             ],
             [
              0.2222222222222222,
              "#7201a8"
             ],
             [
              0.3333333333333333,
              "#9c179e"
             ],
             [
              0.4444444444444444,
              "#bd3786"
             ],
             [
              0.5555555555555556,
              "#d8576b"
             ],
             [
              0.6666666666666666,
              "#ed7953"
             ],
             [
              0.7777777777777778,
              "#fb9f3a"
             ],
             [
              0.8888888888888888,
              "#fdca26"
             ],
             [
              1,
              "#f0f921"
             ]
            ],
            "type": "surface"
           }
          ],
          "table": [
           {
            "cells": {
             "fill": {
              "color": "#EBF0F8"
             },
             "line": {
              "color": "white"
             }
            },
            "header": {
             "fill": {
              "color": "#C8D4E3"
             },
             "line": {
              "color": "white"
             }
            },
            "type": "table"
           }
          ]
         },
         "layout": {
          "annotationdefaults": {
           "arrowcolor": "#2a3f5f",
           "arrowhead": 0,
           "arrowwidth": 1
          },
          "autotypenumbers": "strict",
          "coloraxis": {
           "colorbar": {
            "outlinewidth": 0,
            "ticks": ""
           }
          },
          "colorscale": {
           "diverging": [
            [
             0,
             "#8e0152"
            ],
            [
             0.1,
             "#c51b7d"
            ],
            [
             0.2,
             "#de77ae"
            ],
            [
             0.3,
             "#f1b6da"
            ],
            [
             0.4,
             "#fde0ef"
            ],
            [
             0.5,
             "#f7f7f7"
            ],
            [
             0.6,
             "#e6f5d0"
            ],
            [
             0.7,
             "#b8e186"
            ],
            [
             0.8,
             "#7fbc41"
            ],
            [
             0.9,
             "#4d9221"
            ],
            [
             1,
             "#276419"
            ]
           ],
           "sequential": [
            [
             0,
             "#0d0887"
            ],
            [
             0.1111111111111111,
             "#46039f"
            ],
            [
             0.2222222222222222,
             "#7201a8"
            ],
            [
             0.3333333333333333,
             "#9c179e"
            ],
            [
             0.4444444444444444,
             "#bd3786"
            ],
            [
             0.5555555555555556,
             "#d8576b"
            ],
            [
             0.6666666666666666,
             "#ed7953"
            ],
            [
             0.7777777777777778,
             "#fb9f3a"
            ],
            [
             0.8888888888888888,
             "#fdca26"
            ],
            [
             1,
             "#f0f921"
            ]
           ],
           "sequentialminus": [
            [
             0,
             "#0d0887"
            ],
            [
             0.1111111111111111,
             "#46039f"
            ],
            [
             0.2222222222222222,
             "#7201a8"
            ],
            [
             0.3333333333333333,
             "#9c179e"
            ],
            [
             0.4444444444444444,
             "#bd3786"
            ],
            [
             0.5555555555555556,
             "#d8576b"
            ],
            [
             0.6666666666666666,
             "#ed7953"
            ],
            [
             0.7777777777777778,
             "#fb9f3a"
            ],
            [
             0.8888888888888888,
             "#fdca26"
            ],
            [
             1,
             "#f0f921"
            ]
           ]
          },
          "colorway": [
           "#636efa",
           "#EF553B",
           "#00cc96",
           "#ab63fa",
           "#FFA15A",
           "#19d3f3",
           "#FF6692",
           "#B6E880",
           "#FF97FF",
           "#FECB52"
          ],
          "font": {
           "color": "#2a3f5f"
          },
          "geo": {
           "bgcolor": "white",
           "lakecolor": "white",
           "landcolor": "#E5ECF6",
           "showlakes": true,
           "showland": true,
           "subunitcolor": "white"
          },
          "hoverlabel": {
           "align": "left"
          },
          "hovermode": "closest",
          "mapbox": {
           "style": "light"
          },
          "paper_bgcolor": "white",
          "plot_bgcolor": "#E5ECF6",
          "polar": {
           "angularaxis": {
            "gridcolor": "white",
            "linecolor": "white",
            "ticks": ""
           },
           "bgcolor": "#E5ECF6",
           "radialaxis": {
            "gridcolor": "white",
            "linecolor": "white",
            "ticks": ""
           }
          },
          "scene": {
           "xaxis": {
            "backgroundcolor": "#E5ECF6",
            "gridcolor": "white",
            "gridwidth": 2,
            "linecolor": "white",
            "showbackground": true,
            "ticks": "",
            "zerolinecolor": "white"
           },
           "yaxis": {
            "backgroundcolor": "#E5ECF6",
            "gridcolor": "white",
            "gridwidth": 2,
            "linecolor": "white",
            "showbackground": true,
            "ticks": "",
            "zerolinecolor": "white"
           },
           "zaxis": {
            "backgroundcolor": "#E5ECF6",
            "gridcolor": "white",
            "gridwidth": 2,
            "linecolor": "white",
            "showbackground": true,
            "ticks": "",
            "zerolinecolor": "white"
           }
          },
          "shapedefaults": {
           "line": {
            "color": "#2a3f5f"
           }
          },
          "ternary": {
           "aaxis": {
            "gridcolor": "white",
            "linecolor": "white",
            "ticks": ""
           },
           "baxis": {
            "gridcolor": "white",
            "linecolor": "white",
            "ticks": ""
           },
           "bgcolor": "#E5ECF6",
           "caxis": {
            "gridcolor": "white",
            "linecolor": "white",
            "ticks": ""
           }
          },
          "title": {
           "x": 0.05
          },
          "xaxis": {
           "automargin": true,
           "gridcolor": "white",
           "linecolor": "white",
           "ticks": "",
           "title": {
            "standoff": 15
           },
           "zerolinecolor": "white",
           "zerolinewidth": 2
          },
          "yaxis": {
           "automargin": true,
           "gridcolor": "white",
           "linecolor": "white",
           "ticks": "",
           "title": {
            "standoff": 15
           },
           "zerolinecolor": "white",
           "zerolinewidth": 2
          }
         }
        },
        "title": {
         "font": {
          "size": 20
         },
         "text": "<b>ACCURACY</b> on training and validation sets across epochs - <i>fig.4</i>    <br><sup>Model hyperparameters:  Embedding Dimensions: 64 • Layers: GlobalAveragePooling1D, Dense 8, Dense 1 with Sigmoïd Activation • Epochs: 20 | Total params: 531,281</sup>"
        },
        "xaxis": {
         "tickfont": {
          "size": 14
         },
         "title": {
          "text": "EPOCHS"
         }
        },
        "yaxis": {
         "tickfont": {
          "size": 14
         },
         "title": {
          "text": "ACCURACY"
         }
        }
       }
      }
     },
     "metadata": {},
     "output_type": "display_data"
    }
   ],
   "source": [
    "fig = go.Figure(data=[\n",
    "                      go.Scatter(\n",
    "                          y=history_Global_Avg_Pool.history['accuracy'],\n",
    "                          name='Accuracy',\n",
    "                          mode='lines',\n",
    "                          ),\n",
    "                      go.Scatter(\n",
    "                          y=history_Global_Avg_Pool.history['val_accuracy'],\n",
    "                          name='Val_Accruracy',\n",
    "                          mode='lines',\n",
    "                          )\n",
    "])\n",
    "\n",
    "fig.update_layout(\n",
    "    height=650,\n",
    "    title='<b>ACCURACY</b> on training and validation sets across epochs - <i>fig.4</i>\\\n",
    "    <br><sup>Model hyperparameters:  Embedding Dimensions: 64 • Layers: GlobalAveragePooling1D, Dense 8, Dense 1 with Sigmoïd Activation • Epochs: 20 | Total params: 531,281</sup>',\n",
    "    title_font={'size': 20},\n",
    "    xaxis_title='EPOCHS',\n",
    "    yaxis_title='ACCURACY', \n",
    "    xaxis_tickfont_size=14,\n",
    "    yaxis_tickfont_size=14,    \n",
    ")\n",
    "fig.show()"
   ]
  },
  {
   "attachments": {},
   "cell_type": "markdown",
   "metadata": {},
   "source": [
    "--------\n",
    "### __4. GLOBAL MAX POOLING__\n",
    "--------"
   ]
  },
  {
   "attachments": {},
   "cell_type": "markdown",
   "metadata": {},
   "source": [
    "Our text as been converted to a vector, with each word being a number, together combined, making those a vector. The vector size will depend on the vocabulary size, wich is equal to the total number of unique words in our text. \n",
    "\n",
    "Now, Global Max Pooling will take this vector as an input, find the largest number in it, and keep it as the output fo the Global Max Pooling Step, this way, the largest number is considered the most important information in the text. \n",
    "\n",
    "This makes our model very efficient as it only keeps the largest number, reducing the complexity of the vector input, and helping our model to focus on the most important information in the text. \n",
    "\n",
    "However, this simplification could become a problem as the model could discard other information, that are not present in the largets value of the input vector. "
   ]
  },
  {
   "cell_type": "code",
   "execution_count": 48,
   "metadata": {},
   "outputs": [
    {
     "name": "stdout",
     "output_type": "stream",
     "text": [
      "Model: \"sequential_3\"\n",
      "_________________________________________________________________\n",
      " Layer (type)                Output Shape              Param #   \n",
      "=================================================================\n",
      " embedding (Embedding)       (None, 47, 64)            525120    \n",
      "                                                                 \n",
      " global_max_pooling1d (Globa  (None, 64)               0         \n",
      " lMaxPooling1D)                                                  \n",
      "                                                                 \n",
      " dense_8 (Dense)             (None, 8)                 520       \n",
      "                                                                 \n",
      " dense_9 (Dense)             (None, 1)                 9         \n",
      "                                                                 \n",
      "=================================================================\n",
      "Total params: 525,649\n",
      "Trainable params: 525,649\n",
      "Non-trainable params: 0\n",
      "_________________________________________________________________\n"
     ]
    }
   ],
   "source": [
    "vocab_size = len(tokenizer.word_index)\n",
    "\n",
    "model_Global_Max_Pool = tf.keras.Sequential([\n",
    "\n",
    "    # Word Embedding layer           \n",
    "    Embedding(vocab_size+1, 64, input_shape=[Messages.shape[1],], name='embedding'),\n",
    "    \n",
    "    GlobalMaxPool1D(),\n",
    "\n",
    "    Dense(8, activation='relu'),\n",
    "    # The last layer of our model is a sigmoid in order to treat our classification problem, SPAM or HAM\n",
    "    Dense(1, activation='sigmoid')\n",
    "])\n",
    "\n",
    "model_Global_Max_Pool.summary()"
   ]
  },
  {
   "cell_type": "code",
   "execution_count": 49,
   "metadata": {},
   "outputs": [],
   "source": [
    "# Our optimizer is the stochastic gradient descent method called Adam for Adaptive moment estimation, in order to adapt the learning rate\n",
    "Adam = tf.keras.optimizers.Adam()\n",
    "\n",
    "model_Global_Max_Pool.compile(optimizer= Adam,\n",
    "              loss= tf.keras.losses.BinaryCrossentropy(),\n",
    "              metrics= ['accuracy']\n",
    "              )"
   ]
  },
  {
   "cell_type": "code",
   "execution_count": 50,
   "metadata": {},
   "outputs": [
    {
     "name": "stdout",
     "output_type": "stream",
     "text": [
      "Epoch 1/20\n",
      "60/60 [==============================] - 4s 25ms/step - loss: 0.6417 - accuracy: 0.8543 - val_loss: 0.5792 - val_accuracy: 0.9514\n",
      "Epoch 2/20\n",
      "60/60 [==============================] - 1s 21ms/step - loss: 0.4530 - accuracy: 0.9723 - val_loss: 0.3522 - val_accuracy: 0.9667\n",
      "Epoch 3/20\n",
      "60/60 [==============================] - 1s 22ms/step - loss: 0.2334 - accuracy: 0.9784 - val_loss: 0.1850 - val_accuracy: 0.9711\n",
      "Epoch 4/20\n",
      "60/60 [==============================] - 1s 23ms/step - loss: 0.1217 - accuracy: 0.9871 - val_loss: 0.1226 - val_accuracy: 0.9729\n",
      "Epoch 5/20\n",
      "60/60 [==============================] - 1s 21ms/step - loss: 0.0758 - accuracy: 0.9913 - val_loss: 0.0967 - val_accuracy: 0.9748\n",
      "Epoch 6/20\n",
      "60/60 [==============================] - 1s 24ms/step - loss: 0.0515 - accuracy: 0.9931 - val_loss: 0.0765 - val_accuracy: 0.9791\n",
      "Epoch 7/20\n",
      "60/60 [==============================] - 1s 22ms/step - loss: 0.0372 - accuracy: 0.9960 - val_loss: 0.0683 - val_accuracy: 0.9791\n",
      "Epoch 8/20\n",
      "60/60 [==============================] - 1s 21ms/step - loss: 0.0280 - accuracy: 0.9963 - val_loss: 0.0629 - val_accuracy: 0.9797\n",
      "Epoch 9/20\n",
      "60/60 [==============================] - 1s 20ms/step - loss: 0.0210 - accuracy: 0.9968 - val_loss: 0.0592 - val_accuracy: 0.9791\n",
      "Epoch 10/20\n",
      "60/60 [==============================] - 1s 21ms/step - loss: 0.0168 - accuracy: 0.9974 - val_loss: 0.0576 - val_accuracy: 0.9791\n",
      "Epoch 11/20\n",
      "60/60 [==============================] - 1s 19ms/step - loss: 0.0131 - accuracy: 0.9984 - val_loss: 0.0562 - val_accuracy: 0.9791\n",
      "Epoch 12/20\n",
      "60/60 [==============================] - 1s 20ms/step - loss: 0.0105 - accuracy: 0.9992 - val_loss: 0.0546 - val_accuracy: 0.9784\n",
      "Epoch 13/20\n",
      "60/60 [==============================] - 1s 20ms/step - loss: 0.0085 - accuracy: 0.9997 - val_loss: 0.0548 - val_accuracy: 0.9778\n",
      "Epoch 14/20\n",
      "60/60 [==============================] - 1s 21ms/step - loss: 0.0071 - accuracy: 0.9997 - val_loss: 0.0545 - val_accuracy: 0.9778\n",
      "Epoch 15/20\n",
      "60/60 [==============================] - 1s 19ms/step - loss: 0.0058 - accuracy: 0.9997 - val_loss: 0.0544 - val_accuracy: 0.9784\n",
      "Epoch 16/20\n",
      "60/60 [==============================] - 1s 20ms/step - loss: 0.0051 - accuracy: 0.9997 - val_loss: 0.0547 - val_accuracy: 0.9784\n",
      "Epoch 17/20\n",
      "60/60 [==============================] - 1s 22ms/step - loss: 0.0044 - accuracy: 0.9997 - val_loss: 0.0549 - val_accuracy: 0.9797\n",
      "Epoch 18/20\n",
      "60/60 [==============================] - 2s 27ms/step - loss: 0.0038 - accuracy: 0.9997 - val_loss: 0.0553 - val_accuracy: 0.9797\n",
      "Epoch 19/20\n",
      "60/60 [==============================] - 2s 27ms/step - loss: 0.0033 - accuracy: 0.9997 - val_loss: 0.0557 - val_accuracy: 0.9797\n",
      "Epoch 20/20\n",
      "60/60 [==============================] - 1s 24ms/step - loss: 0.0030 - accuracy: 0.9997 - val_loss: 0.0566 - val_accuracy: 0.9797\n"
     ]
    }
   ],
   "source": [
    "# We fit our model on 20 epochs taking into account the weights we calculated above to penalize too frequent notes. \n",
    "history_Global_Max_Pool = model_Global_Max_Pool.fit(\n",
    "    train_data,\n",
    "    epochs= 20, \n",
    "    validation_data = test_data, \n",
    "    class_weight= weights, \n",
    "    )"
   ]
  },
  {
   "cell_type": "code",
   "execution_count": 51,
   "metadata": {},
   "outputs": [
    {
     "data": {
      "application/vnd.plotly.v1+json": {
       "config": {
        "plotlyServerURL": "https://plot.ly"
       },
       "data": [
        {
         "mode": "lines",
         "name": "Loss",
         "type": "scatter",
         "y": [
          0.6417057514190674,
          0.45300981402397156,
          0.23337510228157043,
          0.1216934397816658,
          0.07580341398715973,
          0.05147678032517433,
          0.03723093867301941,
          0.02802968956530094,
          0.021049704402685165,
          0.016790883615612984,
          0.013130735605955124,
          0.010492253117263317,
          0.00851923692971468,
          0.007094496861100197,
          0.005849855951964855,
          0.0050541115924716,
          0.004365747328847647,
          0.0037612924352288246,
          0.0032689839135855436,
          0.002970896428450942
         ]
        },
        {
         "mode": "lines",
         "name": "Val_Loss",
         "type": "scatter",
         "y": [
          0.579221785068512,
          0.35215726494789124,
          0.1849682480096817,
          0.1225607767701149,
          0.09668751060962677,
          0.07652661949396133,
          0.06833218783140182,
          0.0629332959651947,
          0.05919346213340759,
          0.057629261165857315,
          0.056238457560539246,
          0.05460631102323532,
          0.05478199943900108,
          0.05446404591202736,
          0.054443299770355225,
          0.05465388298034668,
          0.054909951984882355,
          0.055270176380872726,
          0.055734094232320786,
          0.05660064518451691
         ]
        }
       ],
       "layout": {
        "height": 650,
        "template": {
         "data": {
          "bar": [
           {
            "error_x": {
             "color": "#2a3f5f"
            },
            "error_y": {
             "color": "#2a3f5f"
            },
            "marker": {
             "line": {
              "color": "#E5ECF6",
              "width": 0.5
             },
             "pattern": {
              "fillmode": "overlay",
              "size": 10,
              "solidity": 0.2
             }
            },
            "type": "bar"
           }
          ],
          "barpolar": [
           {
            "marker": {
             "line": {
              "color": "#E5ECF6",
              "width": 0.5
             },
             "pattern": {
              "fillmode": "overlay",
              "size": 10,
              "solidity": 0.2
             }
            },
            "type": "barpolar"
           }
          ],
          "carpet": [
           {
            "aaxis": {
             "endlinecolor": "#2a3f5f",
             "gridcolor": "white",
             "linecolor": "white",
             "minorgridcolor": "white",
             "startlinecolor": "#2a3f5f"
            },
            "baxis": {
             "endlinecolor": "#2a3f5f",
             "gridcolor": "white",
             "linecolor": "white",
             "minorgridcolor": "white",
             "startlinecolor": "#2a3f5f"
            },
            "type": "carpet"
           }
          ],
          "choropleth": [
           {
            "colorbar": {
             "outlinewidth": 0,
             "ticks": ""
            },
            "type": "choropleth"
           }
          ],
          "contour": [
           {
            "colorbar": {
             "outlinewidth": 0,
             "ticks": ""
            },
            "colorscale": [
             [
              0,
              "#0d0887"
             ],
             [
              0.1111111111111111,
              "#46039f"
             ],
             [
              0.2222222222222222,
              "#7201a8"
             ],
             [
              0.3333333333333333,
              "#9c179e"
             ],
             [
              0.4444444444444444,
              "#bd3786"
             ],
             [
              0.5555555555555556,
              "#d8576b"
             ],
             [
              0.6666666666666666,
              "#ed7953"
             ],
             [
              0.7777777777777778,
              "#fb9f3a"
             ],
             [
              0.8888888888888888,
              "#fdca26"
             ],
             [
              1,
              "#f0f921"
             ]
            ],
            "type": "contour"
           }
          ],
          "contourcarpet": [
           {
            "colorbar": {
             "outlinewidth": 0,
             "ticks": ""
            },
            "type": "contourcarpet"
           }
          ],
          "heatmap": [
           {
            "colorbar": {
             "outlinewidth": 0,
             "ticks": ""
            },
            "colorscale": [
             [
              0,
              "#0d0887"
             ],
             [
              0.1111111111111111,
              "#46039f"
             ],
             [
              0.2222222222222222,
              "#7201a8"
             ],
             [
              0.3333333333333333,
              "#9c179e"
             ],
             [
              0.4444444444444444,
              "#bd3786"
             ],
             [
              0.5555555555555556,
              "#d8576b"
             ],
             [
              0.6666666666666666,
              "#ed7953"
             ],
             [
              0.7777777777777778,
              "#fb9f3a"
             ],
             [
              0.8888888888888888,
              "#fdca26"
             ],
             [
              1,
              "#f0f921"
             ]
            ],
            "type": "heatmap"
           }
          ],
          "heatmapgl": [
           {
            "colorbar": {
             "outlinewidth": 0,
             "ticks": ""
            },
            "colorscale": [
             [
              0,
              "#0d0887"
             ],
             [
              0.1111111111111111,
              "#46039f"
             ],
             [
              0.2222222222222222,
              "#7201a8"
             ],
             [
              0.3333333333333333,
              "#9c179e"
             ],
             [
              0.4444444444444444,
              "#bd3786"
             ],
             [
              0.5555555555555556,
              "#d8576b"
             ],
             [
              0.6666666666666666,
              "#ed7953"
             ],
             [
              0.7777777777777778,
              "#fb9f3a"
             ],
             [
              0.8888888888888888,
              "#fdca26"
             ],
             [
              1,
              "#f0f921"
             ]
            ],
            "type": "heatmapgl"
           }
          ],
          "histogram": [
           {
            "marker": {
             "pattern": {
              "fillmode": "overlay",
              "size": 10,
              "solidity": 0.2
             }
            },
            "type": "histogram"
           }
          ],
          "histogram2d": [
           {
            "colorbar": {
             "outlinewidth": 0,
             "ticks": ""
            },
            "colorscale": [
             [
              0,
              "#0d0887"
             ],
             [
              0.1111111111111111,
              "#46039f"
             ],
             [
              0.2222222222222222,
              "#7201a8"
             ],
             [
              0.3333333333333333,
              "#9c179e"
             ],
             [
              0.4444444444444444,
              "#bd3786"
             ],
             [
              0.5555555555555556,
              "#d8576b"
             ],
             [
              0.6666666666666666,
              "#ed7953"
             ],
             [
              0.7777777777777778,
              "#fb9f3a"
             ],
             [
              0.8888888888888888,
              "#fdca26"
             ],
             [
              1,
              "#f0f921"
             ]
            ],
            "type": "histogram2d"
           }
          ],
          "histogram2dcontour": [
           {
            "colorbar": {
             "outlinewidth": 0,
             "ticks": ""
            },
            "colorscale": [
             [
              0,
              "#0d0887"
             ],
             [
              0.1111111111111111,
              "#46039f"
             ],
             [
              0.2222222222222222,
              "#7201a8"
             ],
             [
              0.3333333333333333,
              "#9c179e"
             ],
             [
              0.4444444444444444,
              "#bd3786"
             ],
             [
              0.5555555555555556,
              "#d8576b"
             ],
             [
              0.6666666666666666,
              "#ed7953"
             ],
             [
              0.7777777777777778,
              "#fb9f3a"
             ],
             [
              0.8888888888888888,
              "#fdca26"
             ],
             [
              1,
              "#f0f921"
             ]
            ],
            "type": "histogram2dcontour"
           }
          ],
          "mesh3d": [
           {
            "colorbar": {
             "outlinewidth": 0,
             "ticks": ""
            },
            "type": "mesh3d"
           }
          ],
          "parcoords": [
           {
            "line": {
             "colorbar": {
              "outlinewidth": 0,
              "ticks": ""
             }
            },
            "type": "parcoords"
           }
          ],
          "pie": [
           {
            "automargin": true,
            "type": "pie"
           }
          ],
          "scatter": [
           {
            "fillpattern": {
             "fillmode": "overlay",
             "size": 10,
             "solidity": 0.2
            },
            "type": "scatter"
           }
          ],
          "scatter3d": [
           {
            "line": {
             "colorbar": {
              "outlinewidth": 0,
              "ticks": ""
             }
            },
            "marker": {
             "colorbar": {
              "outlinewidth": 0,
              "ticks": ""
             }
            },
            "type": "scatter3d"
           }
          ],
          "scattercarpet": [
           {
            "marker": {
             "colorbar": {
              "outlinewidth": 0,
              "ticks": ""
             }
            },
            "type": "scattercarpet"
           }
          ],
          "scattergeo": [
           {
            "marker": {
             "colorbar": {
              "outlinewidth": 0,
              "ticks": ""
             }
            },
            "type": "scattergeo"
           }
          ],
          "scattergl": [
           {
            "marker": {
             "colorbar": {
              "outlinewidth": 0,
              "ticks": ""
             }
            },
            "type": "scattergl"
           }
          ],
          "scattermapbox": [
           {
            "marker": {
             "colorbar": {
              "outlinewidth": 0,
              "ticks": ""
             }
            },
            "type": "scattermapbox"
           }
          ],
          "scatterpolar": [
           {
            "marker": {
             "colorbar": {
              "outlinewidth": 0,
              "ticks": ""
             }
            },
            "type": "scatterpolar"
           }
          ],
          "scatterpolargl": [
           {
            "marker": {
             "colorbar": {
              "outlinewidth": 0,
              "ticks": ""
             }
            },
            "type": "scatterpolargl"
           }
          ],
          "scatterternary": [
           {
            "marker": {
             "colorbar": {
              "outlinewidth": 0,
              "ticks": ""
             }
            },
            "type": "scatterternary"
           }
          ],
          "surface": [
           {
            "colorbar": {
             "outlinewidth": 0,
             "ticks": ""
            },
            "colorscale": [
             [
              0,
              "#0d0887"
             ],
             [
              0.1111111111111111,
              "#46039f"
             ],
             [
              0.2222222222222222,
              "#7201a8"
             ],
             [
              0.3333333333333333,
              "#9c179e"
             ],
             [
              0.4444444444444444,
              "#bd3786"
             ],
             [
              0.5555555555555556,
              "#d8576b"
             ],
             [
              0.6666666666666666,
              "#ed7953"
             ],
             [
              0.7777777777777778,
              "#fb9f3a"
             ],
             [
              0.8888888888888888,
              "#fdca26"
             ],
             [
              1,
              "#f0f921"
             ]
            ],
            "type": "surface"
           }
          ],
          "table": [
           {
            "cells": {
             "fill": {
              "color": "#EBF0F8"
             },
             "line": {
              "color": "white"
             }
            },
            "header": {
             "fill": {
              "color": "#C8D4E3"
             },
             "line": {
              "color": "white"
             }
            },
            "type": "table"
           }
          ]
         },
         "layout": {
          "annotationdefaults": {
           "arrowcolor": "#2a3f5f",
           "arrowhead": 0,
           "arrowwidth": 1
          },
          "autotypenumbers": "strict",
          "coloraxis": {
           "colorbar": {
            "outlinewidth": 0,
            "ticks": ""
           }
          },
          "colorscale": {
           "diverging": [
            [
             0,
             "#8e0152"
            ],
            [
             0.1,
             "#c51b7d"
            ],
            [
             0.2,
             "#de77ae"
            ],
            [
             0.3,
             "#f1b6da"
            ],
            [
             0.4,
             "#fde0ef"
            ],
            [
             0.5,
             "#f7f7f7"
            ],
            [
             0.6,
             "#e6f5d0"
            ],
            [
             0.7,
             "#b8e186"
            ],
            [
             0.8,
             "#7fbc41"
            ],
            [
             0.9,
             "#4d9221"
            ],
            [
             1,
             "#276419"
            ]
           ],
           "sequential": [
            [
             0,
             "#0d0887"
            ],
            [
             0.1111111111111111,
             "#46039f"
            ],
            [
             0.2222222222222222,
             "#7201a8"
            ],
            [
             0.3333333333333333,
             "#9c179e"
            ],
            [
             0.4444444444444444,
             "#bd3786"
            ],
            [
             0.5555555555555556,
             "#d8576b"
            ],
            [
             0.6666666666666666,
             "#ed7953"
            ],
            [
             0.7777777777777778,
             "#fb9f3a"
            ],
            [
             0.8888888888888888,
             "#fdca26"
            ],
            [
             1,
             "#f0f921"
            ]
           ],
           "sequentialminus": [
            [
             0,
             "#0d0887"
            ],
            [
             0.1111111111111111,
             "#46039f"
            ],
            [
             0.2222222222222222,
             "#7201a8"
            ],
            [
             0.3333333333333333,
             "#9c179e"
            ],
            [
             0.4444444444444444,
             "#bd3786"
            ],
            [
             0.5555555555555556,
             "#d8576b"
            ],
            [
             0.6666666666666666,
             "#ed7953"
            ],
            [
             0.7777777777777778,
             "#fb9f3a"
            ],
            [
             0.8888888888888888,
             "#fdca26"
            ],
            [
             1,
             "#f0f921"
            ]
           ]
          },
          "colorway": [
           "#636efa",
           "#EF553B",
           "#00cc96",
           "#ab63fa",
           "#FFA15A",
           "#19d3f3",
           "#FF6692",
           "#B6E880",
           "#FF97FF",
           "#FECB52"
          ],
          "font": {
           "color": "#2a3f5f"
          },
          "geo": {
           "bgcolor": "white",
           "lakecolor": "white",
           "landcolor": "#E5ECF6",
           "showlakes": true,
           "showland": true,
           "subunitcolor": "white"
          },
          "hoverlabel": {
           "align": "left"
          },
          "hovermode": "closest",
          "mapbox": {
           "style": "light"
          },
          "paper_bgcolor": "white",
          "plot_bgcolor": "#E5ECF6",
          "polar": {
           "angularaxis": {
            "gridcolor": "white",
            "linecolor": "white",
            "ticks": ""
           },
           "bgcolor": "#E5ECF6",
           "radialaxis": {
            "gridcolor": "white",
            "linecolor": "white",
            "ticks": ""
           }
          },
          "scene": {
           "xaxis": {
            "backgroundcolor": "#E5ECF6",
            "gridcolor": "white",
            "gridwidth": 2,
            "linecolor": "white",
            "showbackground": true,
            "ticks": "",
            "zerolinecolor": "white"
           },
           "yaxis": {
            "backgroundcolor": "#E5ECF6",
            "gridcolor": "white",
            "gridwidth": 2,
            "linecolor": "white",
            "showbackground": true,
            "ticks": "",
            "zerolinecolor": "white"
           },
           "zaxis": {
            "backgroundcolor": "#E5ECF6",
            "gridcolor": "white",
            "gridwidth": 2,
            "linecolor": "white",
            "showbackground": true,
            "ticks": "",
            "zerolinecolor": "white"
           }
          },
          "shapedefaults": {
           "line": {
            "color": "#2a3f5f"
           }
          },
          "ternary": {
           "aaxis": {
            "gridcolor": "white",
            "linecolor": "white",
            "ticks": ""
           },
           "baxis": {
            "gridcolor": "white",
            "linecolor": "white",
            "ticks": ""
           },
           "bgcolor": "#E5ECF6",
           "caxis": {
            "gridcolor": "white",
            "linecolor": "white",
            "ticks": ""
           }
          },
          "title": {
           "x": 0.05
          },
          "xaxis": {
           "automargin": true,
           "gridcolor": "white",
           "linecolor": "white",
           "ticks": "",
           "title": {
            "standoff": 15
           },
           "zerolinecolor": "white",
           "zerolinewidth": 2
          },
          "yaxis": {
           "automargin": true,
           "gridcolor": "white",
           "linecolor": "white",
           "ticks": "",
           "title": {
            "standoff": 15
           },
           "zerolinecolor": "white",
           "zerolinewidth": 2
          }
         }
        },
        "title": {
         "font": {
          "size": 20
         },
         "text": "<b>LOSS</b> on training and validation sets across epochs - <i>fig.5</i>    <br><sup>Model hyperparameters:  Embedding Dimensions: 64 • Layers: GlobalMaxPool1D, Dense 8, Dense 1 with Sigmoïd Activation • Epochs: 20 | Total params: 531,281</sup>"
        },
        "xaxis": {
         "tickfont": {
          "size": 14
         },
         "title": {
          "text": "EPOCHS"
         }
        },
        "yaxis": {
         "tickfont": {
          "size": 14
         },
         "title": {
          "text": "CROSS ENTROPY"
         }
        }
       }
      }
     },
     "metadata": {},
     "output_type": "display_data"
    }
   ],
   "source": [
    "fig = go.Figure()\n",
    "\n",
    "fig.add_trace(go.Scatter(y= history_Global_Max_Pool.history['loss'],\n",
    "                    mode='lines',\n",
    "                    name='Loss'))\n",
    "fig.add_trace(go.Scatter(y= history_Global_Max_Pool.history['val_loss'],\n",
    "                    mode='lines',\n",
    "                    name='Val_Loss'))\n",
    "\n",
    "fig.update_layout(\n",
    "    height=650,\n",
    "    title='<b>LOSS</b> on training and validation sets across epochs - <i>fig.5</i>\\\n",
    "    <br><sup>Model hyperparameters:  Embedding Dimensions: 64 • Layers: GlobalMaxPool1D, Dense 8, Dense 1 with Sigmoïd Activation • Epochs: 20 | Total params: 531,281</sup>',\n",
    "    title_font={'size': 20},\n",
    "    xaxis_title='EPOCHS',\n",
    "    yaxis_title='CROSS ENTROPY', \n",
    "    xaxis_tickfont_size=14,\n",
    "    yaxis_tickfont_size=14,    \n",
    ")\n",
    "\n",
    "fig.show()"
   ]
  },
  {
   "cell_type": "code",
   "execution_count": 52,
   "metadata": {},
   "outputs": [
    {
     "data": {
      "application/vnd.plotly.v1+json": {
       "config": {
        "plotlyServerURL": "https://plot.ly"
       },
       "data": [
        {
         "mode": "lines",
         "name": "Accuracy",
         "type": "scatter",
         "y": [
          0.8543151021003723,
          0.972288191318512,
          0.9783583879470825,
          0.9870678186416626,
          0.9912905693054199,
          0.9931380152702332,
          0.9960411787033081,
          0.9963051080703735,
          0.9968329668045044,
          0.9973607659339905,
          0.9984164834022522,
          0.9992082118988037,
          0.9997360706329346,
          0.9997360706329346,
          0.9997360706329346,
          0.9997360706329346,
          0.9997360706329346,
          0.9997360706329346,
          0.9997360706329346,
          0.9997360706329346
         ]
        },
        {
         "mode": "lines",
         "name": "Val_Accruracy",
         "type": "scatter",
         "y": [
          0.9513546824455261,
          0.9667487740516663,
          0.9710590839385986,
          0.9729064106941223,
          0.9747536778450012,
          0.9790640473365784,
          0.9790640473365784,
          0.9796798229217529,
          0.9790640473365784,
          0.9790640473365784,
          0.9790640473365784,
          0.9784482717514038,
          0.9778324961662292,
          0.9778324961662292,
          0.9784482717514038,
          0.9784482717514038,
          0.9796798229217529,
          0.9796798229217529,
          0.9796798229217529,
          0.9796798229217529
         ]
        }
       ],
       "layout": {
        "height": 650,
        "template": {
         "data": {
          "bar": [
           {
            "error_x": {
             "color": "#2a3f5f"
            },
            "error_y": {
             "color": "#2a3f5f"
            },
            "marker": {
             "line": {
              "color": "#E5ECF6",
              "width": 0.5
             },
             "pattern": {
              "fillmode": "overlay",
              "size": 10,
              "solidity": 0.2
             }
            },
            "type": "bar"
           }
          ],
          "barpolar": [
           {
            "marker": {
             "line": {
              "color": "#E5ECF6",
              "width": 0.5
             },
             "pattern": {
              "fillmode": "overlay",
              "size": 10,
              "solidity": 0.2
             }
            },
            "type": "barpolar"
           }
          ],
          "carpet": [
           {
            "aaxis": {
             "endlinecolor": "#2a3f5f",
             "gridcolor": "white",
             "linecolor": "white",
             "minorgridcolor": "white",
             "startlinecolor": "#2a3f5f"
            },
            "baxis": {
             "endlinecolor": "#2a3f5f",
             "gridcolor": "white",
             "linecolor": "white",
             "minorgridcolor": "white",
             "startlinecolor": "#2a3f5f"
            },
            "type": "carpet"
           }
          ],
          "choropleth": [
           {
            "colorbar": {
             "outlinewidth": 0,
             "ticks": ""
            },
            "type": "choropleth"
           }
          ],
          "contour": [
           {
            "colorbar": {
             "outlinewidth": 0,
             "ticks": ""
            },
            "colorscale": [
             [
              0,
              "#0d0887"
             ],
             [
              0.1111111111111111,
              "#46039f"
             ],
             [
              0.2222222222222222,
              "#7201a8"
             ],
             [
              0.3333333333333333,
              "#9c179e"
             ],
             [
              0.4444444444444444,
              "#bd3786"
             ],
             [
              0.5555555555555556,
              "#d8576b"
             ],
             [
              0.6666666666666666,
              "#ed7953"
             ],
             [
              0.7777777777777778,
              "#fb9f3a"
             ],
             [
              0.8888888888888888,
              "#fdca26"
             ],
             [
              1,
              "#f0f921"
             ]
            ],
            "type": "contour"
           }
          ],
          "contourcarpet": [
           {
            "colorbar": {
             "outlinewidth": 0,
             "ticks": ""
            },
            "type": "contourcarpet"
           }
          ],
          "heatmap": [
           {
            "colorbar": {
             "outlinewidth": 0,
             "ticks": ""
            },
            "colorscale": [
             [
              0,
              "#0d0887"
             ],
             [
              0.1111111111111111,
              "#46039f"
             ],
             [
              0.2222222222222222,
              "#7201a8"
             ],
             [
              0.3333333333333333,
              "#9c179e"
             ],
             [
              0.4444444444444444,
              "#bd3786"
             ],
             [
              0.5555555555555556,
              "#d8576b"
             ],
             [
              0.6666666666666666,
              "#ed7953"
             ],
             [
              0.7777777777777778,
              "#fb9f3a"
             ],
             [
              0.8888888888888888,
              "#fdca26"
             ],
             [
              1,
              "#f0f921"
             ]
            ],
            "type": "heatmap"
           }
          ],
          "heatmapgl": [
           {
            "colorbar": {
             "outlinewidth": 0,
             "ticks": ""
            },
            "colorscale": [
             [
              0,
              "#0d0887"
             ],
             [
              0.1111111111111111,
              "#46039f"
             ],
             [
              0.2222222222222222,
              "#7201a8"
             ],
             [
              0.3333333333333333,
              "#9c179e"
             ],
             [
              0.4444444444444444,
              "#bd3786"
             ],
             [
              0.5555555555555556,
              "#d8576b"
             ],
             [
              0.6666666666666666,
              "#ed7953"
             ],
             [
              0.7777777777777778,
              "#fb9f3a"
             ],
             [
              0.8888888888888888,
              "#fdca26"
             ],
             [
              1,
              "#f0f921"
             ]
            ],
            "type": "heatmapgl"
           }
          ],
          "histogram": [
           {
            "marker": {
             "pattern": {
              "fillmode": "overlay",
              "size": 10,
              "solidity": 0.2
             }
            },
            "type": "histogram"
           }
          ],
          "histogram2d": [
           {
            "colorbar": {
             "outlinewidth": 0,
             "ticks": ""
            },
            "colorscale": [
             [
              0,
              "#0d0887"
             ],
             [
              0.1111111111111111,
              "#46039f"
             ],
             [
              0.2222222222222222,
              "#7201a8"
             ],
             [
              0.3333333333333333,
              "#9c179e"
             ],
             [
              0.4444444444444444,
              "#bd3786"
             ],
             [
              0.5555555555555556,
              "#d8576b"
             ],
             [
              0.6666666666666666,
              "#ed7953"
             ],
             [
              0.7777777777777778,
              "#fb9f3a"
             ],
             [
              0.8888888888888888,
              "#fdca26"
             ],
             [
              1,
              "#f0f921"
             ]
            ],
            "type": "histogram2d"
           }
          ],
          "histogram2dcontour": [
           {
            "colorbar": {
             "outlinewidth": 0,
             "ticks": ""
            },
            "colorscale": [
             [
              0,
              "#0d0887"
             ],
             [
              0.1111111111111111,
              "#46039f"
             ],
             [
              0.2222222222222222,
              "#7201a8"
             ],
             [
              0.3333333333333333,
              "#9c179e"
             ],
             [
              0.4444444444444444,
              "#bd3786"
             ],
             [
              0.5555555555555556,
              "#d8576b"
             ],
             [
              0.6666666666666666,
              "#ed7953"
             ],
             [
              0.7777777777777778,
              "#fb9f3a"
             ],
             [
              0.8888888888888888,
              "#fdca26"
             ],
             [
              1,
              "#f0f921"
             ]
            ],
            "type": "histogram2dcontour"
           }
          ],
          "mesh3d": [
           {
            "colorbar": {
             "outlinewidth": 0,
             "ticks": ""
            },
            "type": "mesh3d"
           }
          ],
          "parcoords": [
           {
            "line": {
             "colorbar": {
              "outlinewidth": 0,
              "ticks": ""
             }
            },
            "type": "parcoords"
           }
          ],
          "pie": [
           {
            "automargin": true,
            "type": "pie"
           }
          ],
          "scatter": [
           {
            "fillpattern": {
             "fillmode": "overlay",
             "size": 10,
             "solidity": 0.2
            },
            "type": "scatter"
           }
          ],
          "scatter3d": [
           {
            "line": {
             "colorbar": {
              "outlinewidth": 0,
              "ticks": ""
             }
            },
            "marker": {
             "colorbar": {
              "outlinewidth": 0,
              "ticks": ""
             }
            },
            "type": "scatter3d"
           }
          ],
          "scattercarpet": [
           {
            "marker": {
             "colorbar": {
              "outlinewidth": 0,
              "ticks": ""
             }
            },
            "type": "scattercarpet"
           }
          ],
          "scattergeo": [
           {
            "marker": {
             "colorbar": {
              "outlinewidth": 0,
              "ticks": ""
             }
            },
            "type": "scattergeo"
           }
          ],
          "scattergl": [
           {
            "marker": {
             "colorbar": {
              "outlinewidth": 0,
              "ticks": ""
             }
            },
            "type": "scattergl"
           }
          ],
          "scattermapbox": [
           {
            "marker": {
             "colorbar": {
              "outlinewidth": 0,
              "ticks": ""
             }
            },
            "type": "scattermapbox"
           }
          ],
          "scatterpolar": [
           {
            "marker": {
             "colorbar": {
              "outlinewidth": 0,
              "ticks": ""
             }
            },
            "type": "scatterpolar"
           }
          ],
          "scatterpolargl": [
           {
            "marker": {
             "colorbar": {
              "outlinewidth": 0,
              "ticks": ""
             }
            },
            "type": "scatterpolargl"
           }
          ],
          "scatterternary": [
           {
            "marker": {
             "colorbar": {
              "outlinewidth": 0,
              "ticks": ""
             }
            },
            "type": "scatterternary"
           }
          ],
          "surface": [
           {
            "colorbar": {
             "outlinewidth": 0,
             "ticks": ""
            },
            "colorscale": [
             [
              0,
              "#0d0887"
             ],
             [
              0.1111111111111111,
              "#46039f"
             ],
             [
              0.2222222222222222,
              "#7201a8"
             ],
             [
              0.3333333333333333,
              "#9c179e"
             ],
             [
              0.4444444444444444,
              "#bd3786"
             ],
             [
              0.5555555555555556,
              "#d8576b"
             ],
             [
              0.6666666666666666,
              "#ed7953"
             ],
             [
              0.7777777777777778,
              "#fb9f3a"
             ],
             [
              0.8888888888888888,
              "#fdca26"
             ],
             [
              1,
              "#f0f921"
             ]
            ],
            "type": "surface"
           }
          ],
          "table": [
           {
            "cells": {
             "fill": {
              "color": "#EBF0F8"
             },
             "line": {
              "color": "white"
             }
            },
            "header": {
             "fill": {
              "color": "#C8D4E3"
             },
             "line": {
              "color": "white"
             }
            },
            "type": "table"
           }
          ]
         },
         "layout": {
          "annotationdefaults": {
           "arrowcolor": "#2a3f5f",
           "arrowhead": 0,
           "arrowwidth": 1
          },
          "autotypenumbers": "strict",
          "coloraxis": {
           "colorbar": {
            "outlinewidth": 0,
            "ticks": ""
           }
          },
          "colorscale": {
           "diverging": [
            [
             0,
             "#8e0152"
            ],
            [
             0.1,
             "#c51b7d"
            ],
            [
             0.2,
             "#de77ae"
            ],
            [
             0.3,
             "#f1b6da"
            ],
            [
             0.4,
             "#fde0ef"
            ],
            [
             0.5,
             "#f7f7f7"
            ],
            [
             0.6,
             "#e6f5d0"
            ],
            [
             0.7,
             "#b8e186"
            ],
            [
             0.8,
             "#7fbc41"
            ],
            [
             0.9,
             "#4d9221"
            ],
            [
             1,
             "#276419"
            ]
           ],
           "sequential": [
            [
             0,
             "#0d0887"
            ],
            [
             0.1111111111111111,
             "#46039f"
            ],
            [
             0.2222222222222222,
             "#7201a8"
            ],
            [
             0.3333333333333333,
             "#9c179e"
            ],
            [
             0.4444444444444444,
             "#bd3786"
            ],
            [
             0.5555555555555556,
             "#d8576b"
            ],
            [
             0.6666666666666666,
             "#ed7953"
            ],
            [
             0.7777777777777778,
             "#fb9f3a"
            ],
            [
             0.8888888888888888,
             "#fdca26"
            ],
            [
             1,
             "#f0f921"
            ]
           ],
           "sequentialminus": [
            [
             0,
             "#0d0887"
            ],
            [
             0.1111111111111111,
             "#46039f"
            ],
            [
             0.2222222222222222,
             "#7201a8"
            ],
            [
             0.3333333333333333,
             "#9c179e"
            ],
            [
             0.4444444444444444,
             "#bd3786"
            ],
            [
             0.5555555555555556,
             "#d8576b"
            ],
            [
             0.6666666666666666,
             "#ed7953"
            ],
            [
             0.7777777777777778,
             "#fb9f3a"
            ],
            [
             0.8888888888888888,
             "#fdca26"
            ],
            [
             1,
             "#f0f921"
            ]
           ]
          },
          "colorway": [
           "#636efa",
           "#EF553B",
           "#00cc96",
           "#ab63fa",
           "#FFA15A",
           "#19d3f3",
           "#FF6692",
           "#B6E880",
           "#FF97FF",
           "#FECB52"
          ],
          "font": {
           "color": "#2a3f5f"
          },
          "geo": {
           "bgcolor": "white",
           "lakecolor": "white",
           "landcolor": "#E5ECF6",
           "showlakes": true,
           "showland": true,
           "subunitcolor": "white"
          },
          "hoverlabel": {
           "align": "left"
          },
          "hovermode": "closest",
          "mapbox": {
           "style": "light"
          },
          "paper_bgcolor": "white",
          "plot_bgcolor": "#E5ECF6",
          "polar": {
           "angularaxis": {
            "gridcolor": "white",
            "linecolor": "white",
            "ticks": ""
           },
           "bgcolor": "#E5ECF6",
           "radialaxis": {
            "gridcolor": "white",
            "linecolor": "white",
            "ticks": ""
           }
          },
          "scene": {
           "xaxis": {
            "backgroundcolor": "#E5ECF6",
            "gridcolor": "white",
            "gridwidth": 2,
            "linecolor": "white",
            "showbackground": true,
            "ticks": "",
            "zerolinecolor": "white"
           },
           "yaxis": {
            "backgroundcolor": "#E5ECF6",
            "gridcolor": "white",
            "gridwidth": 2,
            "linecolor": "white",
            "showbackground": true,
            "ticks": "",
            "zerolinecolor": "white"
           },
           "zaxis": {
            "backgroundcolor": "#E5ECF6",
            "gridcolor": "white",
            "gridwidth": 2,
            "linecolor": "white",
            "showbackground": true,
            "ticks": "",
            "zerolinecolor": "white"
           }
          },
          "shapedefaults": {
           "line": {
            "color": "#2a3f5f"
           }
          },
          "ternary": {
           "aaxis": {
            "gridcolor": "white",
            "linecolor": "white",
            "ticks": ""
           },
           "baxis": {
            "gridcolor": "white",
            "linecolor": "white",
            "ticks": ""
           },
           "bgcolor": "#E5ECF6",
           "caxis": {
            "gridcolor": "white",
            "linecolor": "white",
            "ticks": ""
           }
          },
          "title": {
           "x": 0.05
          },
          "xaxis": {
           "automargin": true,
           "gridcolor": "white",
           "linecolor": "white",
           "ticks": "",
           "title": {
            "standoff": 15
           },
           "zerolinecolor": "white",
           "zerolinewidth": 2
          },
          "yaxis": {
           "automargin": true,
           "gridcolor": "white",
           "linecolor": "white",
           "ticks": "",
           "title": {
            "standoff": 15
           },
           "zerolinecolor": "white",
           "zerolinewidth": 2
          }
         }
        },
        "title": {
         "font": {
          "size": 20
         },
         "text": "<b>ACCURACY</b> on training and validation sets across epochs - <i>fig.6</i>    <br><sup>Model hyperparameters:  Embedding Dimensions: 64 • Layers: GlobalMaxPool1D, Dense 8, Dense 1 with Sigmoïd Activation • Epochs: 20 | Total params: 531,281</sup>"
        },
        "xaxis": {
         "tickfont": {
          "size": 14
         },
         "title": {
          "text": "EPOCHS"
         }
        },
        "yaxis": {
         "tickfont": {
          "size": 14
         },
         "title": {
          "text": "ACCURACY"
         }
        }
       }
      }
     },
     "metadata": {},
     "output_type": "display_data"
    }
   ],
   "source": [
    "fig = go.Figure(data=[\n",
    "                      go.Scatter(\n",
    "                          y=history_Global_Max_Pool.history['accuracy'],\n",
    "                          name='Accuracy',\n",
    "                          mode=\"lines\",\n",
    "                          ),\n",
    "                      go.Scatter(\n",
    "                          y=history_Global_Max_Pool.history['val_accuracy'],\n",
    "                          name='Val_Accruracy',\n",
    "                          mode='lines',\n",
    "                          )\n",
    "])\n",
    "\n",
    "fig.update_layout(\n",
    "    height=650,\n",
    "    title='<b>ACCURACY</b> on training and validation sets across epochs - <i>fig.6</i>\\\n",
    "    <br><sup>Model hyperparameters:  Embedding Dimensions: 64 • Layers: GlobalMaxPool1D, Dense 8, Dense 1 with Sigmoïd Activation • Epochs: 20 | Total params: 531,281</sup>',\n",
    "    title_font={'size': 20},\n",
    "    xaxis_title='EPOCHS',\n",
    "    yaxis_title='ACCURACY', \n",
    "    xaxis_tickfont_size=14,\n",
    "    yaxis_tickfont_size=14,   \n",
    ")\n",
    "fig.show()"
   ]
  },
  {
   "attachments": {},
   "cell_type": "markdown",
   "metadata": {},
   "source": [
    "__OBSERVATIONS__<br>\n",
    "* We get even better performance overall."
   ]
  },
  {
   "attachments": {},
   "cell_type": "markdown",
   "metadata": {},
   "source": [
    "--------\n",
    "### __5. CONFUSION MATRIX__\n",
    "--------"
   ]
  },
  {
   "cell_type": "code",
   "execution_count": 53,
   "metadata": {},
   "outputs": [
    {
     "name": "stdout",
     "output_type": "stream",
     "text": [
      "26/26 [==============================] - 1s 5ms/step\n"
     ]
    }
   ],
   "source": [
    "y_true = np.concatenate([y for x, y in test_data], axis = 0)\n",
    "\n",
    "y_pred = model_Global_Max_Pool.predict(test_data)\n",
    "\n",
    "# we convert the probabilities to binary classes labels using a threshold of 0.5\n",
    "# probs greater than 0.5 are replaced by a 1 and probs less or equal to 0.5 with 0.\n",
    "y_pred_classes = np.where(y_pred > 0.5, 1, 0)"
   ]
  },
  {
   "cell_type": "code",
   "execution_count": 54,
   "metadata": {},
   "outputs": [
    {
     "data": {
      "image/png": "[encoded data removed]",
      "text/plain": [
       "<Figure size 640x480 with 2 Axes>"
      ]
     },
     "metadata": {},
     "output_type": "display_data"
    }
   ],
   "source": [
    "cm = confusion_matrix(y_true, y_pred_classes, normalize='pred')\n",
    "\n",
    "sns.heatmap (cm, annot=True)\n",
    "\n",
    "plt.show()"
   ]
  },
  {
   "attachments": {},
   "cell_type": "markdown",
   "metadata": {},
   "source": [
    "__OBSERVATIONS__<br>\n",
    "* We get great scores for both True Positive at 99% and True Negatives at 93% ! This means that our model actual predict when the message is a Spam and when it is not.\n",
    "\n",
    "* False Positive and False Negative are very low !\n",
    "\n",
    "* Because of such great scores we are not going to use transfer learning."
   ]
  },
  {
   "attachments": {},
   "cell_type": "markdown",
   "metadata": {},
   "source": [
    "__`NOTEBOOK END`__"
   ]
  }
 ],
 "metadata": {
  "kernelspec": {
   "display_name": "base",
   "language": "python",
   "name": "python3"
  },
  "language_info": {
   "codemirror_mode": {
    "name": "ipython",
    "version": 3
   },
   "file_extension": ".py",
   "mimetype": "text/x-python",
   "name": "python",
   "nbconvert_exporter": "python",
   "pygments_lexer": "ipython3",
   "version": "3.10.9"
  },
  "orig_nbformat": 4,
  "vscode": {
   "interpreter": {
    "hash": "88279d2366fe020547cde40dd65aa0e3aa662a6ec1f3ca12d88834876c85e1a6"
   }
  }
 },
 "nbformat": 4,
 "nbformat_minor": 2
}
